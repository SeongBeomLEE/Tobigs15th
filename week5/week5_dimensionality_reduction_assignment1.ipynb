{
  "nbformat": 4,
  "nbformat_minor": 0,
  "metadata": {
    "kernelspec": {
      "display_name": "Python 3",
      "language": "python",
      "name": "python3"
    },
    "language_info": {
      "codemirror_mode": {
        "name": "ipython",
        "version": 3
      },
      "file_extension": ".py",
      "mimetype": "text/x-python",
      "name": "python",
      "nbconvert_exporter": "python",
      "pygments_lexer": "ipython3",
      "version": "3.8.5"
    },
    "colab": {
      "name": "week5_dimensionality reduction_assignment1.ipynb",
      "provenance": [],
      "collapsed_sections": []
    }
  },
  "cells": [
    {
      "cell_type": "markdown",
      "metadata": {
        "id": "Q90JOHqh_Ibs"
      },
      "source": [
        "# 차원축소 Assignment1 Tobigs15th 이성범"
      ]
    },
    {
      "cell_type": "markdown",
      "metadata": {
        "id": "ZOfq_kOz_Ib2"
      },
      "source": [
        "# ''' ? ''' 이 있는 부분을 채워주세요 \n",
        "\n",
        "참고하셔야 하는 함수들은 링크 달아드렸으니 들어가서 확인해보세요\n",
        "\n",
        "무작정 빈칸 채우기가 아니라 꼭 차원축소 과정을 이해하시면서 과제를 진행하시면 좋겠습니다!!!\n",
        "\n",
        "또 질문은 언제나 환영이니 과제하다가 궁금하신것 있으시면 자유롭게 물어보세요!!"
      ]
    },
    {
      "cell_type": "markdown",
      "metadata": {
        "id": "MqLPGa2D_Ib3"
      },
      "source": [
        "# 1) PCA의 과정 차근차근 밟아보기"
      ]
    },
    {
      "cell_type": "code",
      "metadata": {
        "id": "K9OqEys9_Ib3"
      },
      "source": [
        "#기본 모듈 불러오기\n",
        "import numpy as np\n",
        "import numpy.linalg as lin\n",
        "import matplotlib.pyplot as plt\n",
        "import pandas as pd\n",
        "import random"
      ],
      "execution_count": 1,
      "outputs": []
    },
    {
      "cell_type": "code",
      "metadata": {
        "id": "UdqeF5cm_Ib4"
      },
      "source": [
        "#설명변수 x1, x2, x3\n",
        "x1 = [95, 91, 66, 94, 68, 63, 12, 73, 93, 51, 13, 70, 63, 63, 97, 56, 67, 96, 75, 6]\n",
        "x2 = [56, 27, 25, 1, 9, 80, 92, 69, 6, 25, 83, 82, 54, 97, 66, 93, 76, 59, 94, 9]\n",
        "x3 = [57, 34, 9, 79, 4, 77, 100, 42, 6, 96, 61, 66, 9, 25, 84, 46, 16, 63, 53, 30]"
      ],
      "execution_count": 2,
      "outputs": []
    },
    {
      "cell_type": "code",
      "metadata": {
        "id": "2pn9SmTX_Ib5"
      },
      "source": [
        "#   설명변수들을 하나의 행렬로\n",
        "X = np.stack((x1,x2,x3),axis=0)"
      ],
      "execution_count": 3,
      "outputs": []
    },
    {
      "cell_type": "code",
      "metadata": {
        "id": "fhdNave-_Ib6"
      },
      "source": [
        "X = pd.DataFrame(X.T,columns=['x1','x2','x3'])"
      ],
      "execution_count": 4,
      "outputs": []
    },
    {
      "cell_type": "code",
      "metadata": {
        "colab": {
          "base_uri": "https://localhost:8080/",
          "height": 669
        },
        "id": "9iv0TZxs_Ib6",
        "outputId": "dca8230b-21fc-4ddd-c87f-fa2d1d9d1c0a"
      },
      "source": [
        "X"
      ],
      "execution_count": 5,
      "outputs": [
        {
          "output_type": "execute_result",
          "data": {
            "text/html": [
              "<div>\n",
              "<style scoped>\n",
              "    .dataframe tbody tr th:only-of-type {\n",
              "        vertical-align: middle;\n",
              "    }\n",
              "\n",
              "    .dataframe tbody tr th {\n",
              "        vertical-align: top;\n",
              "    }\n",
              "\n",
              "    .dataframe thead th {\n",
              "        text-align: right;\n",
              "    }\n",
              "</style>\n",
              "<table border=\"1\" class=\"dataframe\">\n",
              "  <thead>\n",
              "    <tr style=\"text-align: right;\">\n",
              "      <th></th>\n",
              "      <th>x1</th>\n",
              "      <th>x2</th>\n",
              "      <th>x3</th>\n",
              "    </tr>\n",
              "  </thead>\n",
              "  <tbody>\n",
              "    <tr>\n",
              "      <th>0</th>\n",
              "      <td>95</td>\n",
              "      <td>56</td>\n",
              "      <td>57</td>\n",
              "    </tr>\n",
              "    <tr>\n",
              "      <th>1</th>\n",
              "      <td>91</td>\n",
              "      <td>27</td>\n",
              "      <td>34</td>\n",
              "    </tr>\n",
              "    <tr>\n",
              "      <th>2</th>\n",
              "      <td>66</td>\n",
              "      <td>25</td>\n",
              "      <td>9</td>\n",
              "    </tr>\n",
              "    <tr>\n",
              "      <th>3</th>\n",
              "      <td>94</td>\n",
              "      <td>1</td>\n",
              "      <td>79</td>\n",
              "    </tr>\n",
              "    <tr>\n",
              "      <th>4</th>\n",
              "      <td>68</td>\n",
              "      <td>9</td>\n",
              "      <td>4</td>\n",
              "    </tr>\n",
              "    <tr>\n",
              "      <th>5</th>\n",
              "      <td>63</td>\n",
              "      <td>80</td>\n",
              "      <td>77</td>\n",
              "    </tr>\n",
              "    <tr>\n",
              "      <th>6</th>\n",
              "      <td>12</td>\n",
              "      <td>92</td>\n",
              "      <td>100</td>\n",
              "    </tr>\n",
              "    <tr>\n",
              "      <th>7</th>\n",
              "      <td>73</td>\n",
              "      <td>69</td>\n",
              "      <td>42</td>\n",
              "    </tr>\n",
              "    <tr>\n",
              "      <th>8</th>\n",
              "      <td>93</td>\n",
              "      <td>6</td>\n",
              "      <td>6</td>\n",
              "    </tr>\n",
              "    <tr>\n",
              "      <th>9</th>\n",
              "      <td>51</td>\n",
              "      <td>25</td>\n",
              "      <td>96</td>\n",
              "    </tr>\n",
              "    <tr>\n",
              "      <th>10</th>\n",
              "      <td>13</td>\n",
              "      <td>83</td>\n",
              "      <td>61</td>\n",
              "    </tr>\n",
              "    <tr>\n",
              "      <th>11</th>\n",
              "      <td>70</td>\n",
              "      <td>82</td>\n",
              "      <td>66</td>\n",
              "    </tr>\n",
              "    <tr>\n",
              "      <th>12</th>\n",
              "      <td>63</td>\n",
              "      <td>54</td>\n",
              "      <td>9</td>\n",
              "    </tr>\n",
              "    <tr>\n",
              "      <th>13</th>\n",
              "      <td>63</td>\n",
              "      <td>97</td>\n",
              "      <td>25</td>\n",
              "    </tr>\n",
              "    <tr>\n",
              "      <th>14</th>\n",
              "      <td>97</td>\n",
              "      <td>66</td>\n",
              "      <td>84</td>\n",
              "    </tr>\n",
              "    <tr>\n",
              "      <th>15</th>\n",
              "      <td>56</td>\n",
              "      <td>93</td>\n",
              "      <td>46</td>\n",
              "    </tr>\n",
              "    <tr>\n",
              "      <th>16</th>\n",
              "      <td>67</td>\n",
              "      <td>76</td>\n",
              "      <td>16</td>\n",
              "    </tr>\n",
              "    <tr>\n",
              "      <th>17</th>\n",
              "      <td>96</td>\n",
              "      <td>59</td>\n",
              "      <td>63</td>\n",
              "    </tr>\n",
              "    <tr>\n",
              "      <th>18</th>\n",
              "      <td>75</td>\n",
              "      <td>94</td>\n",
              "      <td>53</td>\n",
              "    </tr>\n",
              "    <tr>\n",
              "      <th>19</th>\n",
              "      <td>6</td>\n",
              "      <td>9</td>\n",
              "      <td>30</td>\n",
              "    </tr>\n",
              "  </tbody>\n",
              "</table>\n",
              "</div>"
            ],
            "text/plain": [
              "    x1  x2   x3\n",
              "0   95  56   57\n",
              "1   91  27   34\n",
              "2   66  25    9\n",
              "3   94   1   79\n",
              "4   68   9    4\n",
              "5   63  80   77\n",
              "6   12  92  100\n",
              "7   73  69   42\n",
              "8   93   6    6\n",
              "9   51  25   96\n",
              "10  13  83   61\n",
              "11  70  82   66\n",
              "12  63  54    9\n",
              "13  63  97   25\n",
              "14  97  66   84\n",
              "15  56  93   46\n",
              "16  67  76   16\n",
              "17  96  59   63\n",
              "18  75  94   53\n",
              "19   6   9   30"
            ]
          },
          "metadata": {
            "tags": []
          },
          "execution_count": 5
        }
      ]
    },
    {
      "cell_type": "markdown",
      "metadata": {
        "id": "cHv65giG_Ib8"
      },
      "source": [
        "### 1-1) 먼저 PCA를 시작하기 전 데이터 scaling!!!! 매우 중요합니다!\n",
        "\n",
        "https://datascienceschool.net/03%20machine%20learning/02.01%20%EB%8D%B0%EC%9D%B4%ED%84%B0%20%EC%A0%84%EC%B2%98%EB%A6%AC%20%EA%B8%B0%EC%B4%88.html?highlight=%EC%A0%84%EC%B2%98%EB%A6%AC  를 참고하시면 도움이 될거에요"
      ]
    },
    {
      "cell_type": "code",
      "metadata": {
        "id": "qOwgZHoP_Ib9"
      },
      "source": [
        "#scaling\n",
        "from sklearn.preprocessing import StandardScaler\n",
        "scaler = StandardScaler()\n",
        "X_std = scaler.fit_transform(X) #sclaing 후 데이터"
      ],
      "execution_count": 6,
      "outputs": []
    },
    {
      "cell_type": "markdown",
      "metadata": {
        "id": "V8DUlTkPiCAP"
      },
      "source": [
        "StandardScaler을 하는 이유는 PCA의 경우 분산이 큰 쪽으로 차원을 축소하는 경향이 존재하기 때문에 표준화를 통해서 모든 차원의 분산을 1로 통일시켜줘야한다."
      ]
    },
    {
      "cell_type": "code",
      "metadata": {
        "colab": {
          "base_uri": "https://localhost:8080/"
        },
        "id": "-dqh37TJ_Ib9",
        "outputId": "7291a003-5e56-4b22-ca85-5f235db1f4dc"
      },
      "source": [
        "X_std"
      ],
      "execution_count": 7,
      "outputs": [
        {
          "output_type": "execute_result",
          "data": {
            "text/plain": [
              "array([[ 1.08573604,  0.02614175,  0.30684189],\n",
              "       [ 0.93801686, -0.86575334, -0.46445467],\n",
              "       [ 0.01477192, -0.92726334, -1.30282049],\n",
              "       [ 1.04880625, -1.66538341,  1.04460382],\n",
              "       [ 0.08863151, -1.41934339, -1.47049366],\n",
              "       [-0.09601747,  0.76426183,  0.97753455],\n",
              "       [-1.97943714,  1.13332186,  1.74883111],\n",
              "       [ 0.2732805 ,  0.42595679, -0.1961776 ],\n",
              "       [ 1.01187645, -1.5116084 , -1.40342439],\n",
              "       [-0.53917504, -0.92726334,  1.61469258],\n",
              "       [-1.94250735,  0.85652683,  0.44098042],\n",
              "       [ 0.16249111,  0.82577183,  0.60865359],\n",
              "       [-0.09601747, -0.03536825, -1.30282049],\n",
              "       [-0.09601747,  1.28709688, -0.76626636],\n",
              "       [ 1.15959564,  0.33369178,  1.21227698],\n",
              "       [-0.35452606,  1.16407687, -0.06203907],\n",
              "       [ 0.05170172,  0.64124181, -1.06807806],\n",
              "       [ 1.12266584,  0.11840676,  0.50804969],\n",
              "       [ 0.3471401 ,  1.19483187,  0.17270336],\n",
              "       [-2.20101593, -1.41934339, -0.5985932 ]])"
            ]
          },
          "metadata": {
            "tags": []
          },
          "execution_count": 7
        }
      ]
    },
    {
      "cell_type": "code",
      "metadata": {
        "id": "7kHoIlQP_Ib-"
      },
      "source": [
        "features = X_std.T"
      ],
      "execution_count": 8,
      "outputs": []
    },
    {
      "cell_type": "code",
      "metadata": {
        "colab": {
          "base_uri": "https://localhost:8080/"
        },
        "id": "CekxXb3k_Ib-",
        "outputId": "62e589df-777d-4378-9a11-96344dd16468"
      },
      "source": [
        "features"
      ],
      "execution_count": 9,
      "outputs": [
        {
          "output_type": "execute_result",
          "data": {
            "text/plain": [
              "array([[ 1.08573604,  0.93801686,  0.01477192,  1.04880625,  0.08863151,\n",
              "        -0.09601747, -1.97943714,  0.2732805 ,  1.01187645, -0.53917504,\n",
              "        -1.94250735,  0.16249111, -0.09601747, -0.09601747,  1.15959564,\n",
              "        -0.35452606,  0.05170172,  1.12266584,  0.3471401 , -2.20101593],\n",
              "       [ 0.02614175, -0.86575334, -0.92726334, -1.66538341, -1.41934339,\n",
              "         0.76426183,  1.13332186,  0.42595679, -1.5116084 , -0.92726334,\n",
              "         0.85652683,  0.82577183, -0.03536825,  1.28709688,  0.33369178,\n",
              "         1.16407687,  0.64124181,  0.11840676,  1.19483187, -1.41934339],\n",
              "       [ 0.30684189, -0.46445467, -1.30282049,  1.04460382, -1.47049366,\n",
              "         0.97753455,  1.74883111, -0.1961776 , -1.40342439,  1.61469258,\n",
              "         0.44098042,  0.60865359, -1.30282049, -0.76626636,  1.21227698,\n",
              "        -0.06203907, -1.06807806,  0.50804969,  0.17270336, -0.5985932 ]])"
            ]
          },
          "metadata": {
            "tags": []
          },
          "execution_count": 9
        }
      ]
    },
    {
      "cell_type": "markdown",
      "metadata": {
        "id": "eyUwwSSX_Ib-"
      },
      "source": [
        "### 1-2) 다음으로 공분산 행렬을 구합니다\n",
        "\n",
        "https://docs.scipy.org/doc/numpy/reference/generated/numpy.cov.html 를 참고하시면 도움이 될거에요"
      ]
    },
    {
      "cell_type": "code",
      "metadata": {
        "scrolled": true,
        "id": "XIQ4vKHW_Ib_"
      },
      "source": [
        "cov_matrix = np.cov(features)"
      ],
      "execution_count": 10,
      "outputs": []
    },
    {
      "cell_type": "code",
      "metadata": {
        "colab": {
          "base_uri": "https://localhost:8080/"
        },
        "id": "oKnYOlVT_Ib_",
        "outputId": "44d44ec7-087e-4218-f264-209f3431761a"
      },
      "source": [
        "cov_matrix"
      ],
      "execution_count": 11,
      "outputs": [
        {
          "output_type": "execute_result",
          "data": {
            "text/plain": [
              "array([[ 1.05263158, -0.2037104 , -0.12079228],\n",
              "       [-0.2037104 ,  1.05263158,  0.3125801 ],\n",
              "       [-0.12079228,  0.3125801 ,  1.05263158]])"
            ]
          },
          "metadata": {
            "tags": []
          },
          "execution_count": 11
        }
      ]
    },
    {
      "cell_type": "markdown",
      "metadata": {
        "id": "gQbF73V0_Ib_"
      },
      "source": [
        "### 1-3) 이제 고유값과 고유벡터를 구합니다\n",
        "\n",
        "실습코드를 참고해주세요"
      ]
    },
    {
      "cell_type": "code",
      "metadata": {
        "colab": {
          "base_uri": "https://localhost:8080/"
        },
        "id": "G6nCgfTq_8Kc",
        "outputId": "d8b82485-e47b-4cd6-86f6-473a06270983"
      },
      "source": [
        "#Eigenvalue와 Eigenvector 함께 출력\r\n",
        "eigenvalues_and_eigenvectors = lin.eig(cov_matrix)\r\n",
        "eigenvalues_and_eigenvectors"
      ],
      "execution_count": 12,
      "outputs": [
        {
          "output_type": "execute_result",
          "data": {
            "text/plain": [
              "(array([1.48756162, 0.94435407, 0.72597904]),\n",
              " array([[ 0.47018528, -0.85137353, -0.23257022],\n",
              "        [-0.64960236, -0.15545725, -0.74421087],\n",
              "        [-0.59744671, -0.50099516,  0.62614797]]))"
            ]
          },
          "metadata": {
            "tags": []
          },
          "execution_count": 12
        }
      ]
    },
    {
      "cell_type": "code",
      "metadata": {
        "id": "SvO0F_Q4_IcA"
      },
      "source": [
        "# Eigenvalue\n",
        "eigenvalues = eigenvalues_and_eigenvectors[0]\n",
        "# Eigenvector\n",
        "eigenvectors = eigenvalues_and_eigenvectors[1]"
      ],
      "execution_count": 13,
      "outputs": []
    },
    {
      "cell_type": "code",
      "metadata": {
        "colab": {
          "base_uri": "https://localhost:8080/"
        },
        "id": "XDtqGsZv_IcA",
        "outputId": "9286cc16-08fd-469d-ddd4-c1947bf96bae"
      },
      "source": [
        "print(eigenvalues)\n",
        "print(eigenvectors)"
      ],
      "execution_count": 14,
      "outputs": [
        {
          "output_type": "stream",
          "text": [
            "[1.48756162 0.94435407 0.72597904]\n",
            "[[ 0.47018528 -0.85137353 -0.23257022]\n",
            " [-0.64960236 -0.15545725 -0.74421087]\n",
            " [-0.59744671 -0.50099516  0.62614797]]\n"
          ],
          "name": "stdout"
        }
      ]
    },
    {
      "cell_type": "code",
      "metadata": {
        "id": "DuKNWwNb_IcA"
      },
      "source": [
        "# 3행 3열이 0으로 채워진 배열 생성\r\n",
        "mat = np.zeros((3,3))"
      ],
      "execution_count": 15,
      "outputs": []
    },
    {
      "cell_type": "code",
      "metadata": {
        "colab": {
          "base_uri": "https://localhost:8080/"
        },
        "id": "l3-9spSn_IcB",
        "outputId": "b60b4dcc-62aa-460e-eb77-3817366a9a8f"
      },
      "source": [
        "mat"
      ],
      "execution_count": 16,
      "outputs": [
        {
          "output_type": "execute_result",
          "data": {
            "text/plain": [
              "array([[0., 0., 0.],\n",
              "       [0., 0., 0.],\n",
              "       [0., 0., 0.]])"
            ]
          },
          "metadata": {
            "tags": []
          },
          "execution_count": 16
        }
      ]
    },
    {
      "cell_type": "code",
      "metadata": {
        "id": "B5ltQavQ_IcB"
      },
      "source": [
        "mat[0][0] = eigenvalues[0]\n",
        "mat[1][1] = eigenvalues[1]\n",
        "mat[2][2] = eigenvalues[2]"
      ],
      "execution_count": 17,
      "outputs": []
    },
    {
      "cell_type": "code",
      "metadata": {
        "colab": {
          "base_uri": "https://localhost:8080/"
        },
        "id": "kA6RsXkD_IcB",
        "outputId": "420cec46-7ac2-48e1-e429-f4cdcc7b851d"
      },
      "source": [
        "# 고유값을 대각원소로 하는 대각행렬\r\n",
        "mat"
      ],
      "execution_count": 18,
      "outputs": [
        {
          "output_type": "execute_result",
          "data": {
            "text/plain": [
              "array([[1.48756162, 0.        , 0.        ],\n",
              "       [0.        , 0.94435407, 0.        ],\n",
              "       [0.        , 0.        , 0.72597904]])"
            ]
          },
          "metadata": {
            "tags": []
          },
          "execution_count": 18
        }
      ]
    },
    {
      "cell_type": "markdown",
      "metadata": {
        "id": "jjVQFHH0_IcC"
      },
      "source": [
        "### 1-4) 고유값 분해: 고유값 분해의 곱으로 원래 공분산 행렬을 구해봅니다\n",
        "\n",
        "https://docs.scipy.org/doc/numpy/reference/generated/numpy.dot.html 를 참고해주세요\n",
        "\n",
        "A = 𝑃Λ𝑃`\n",
        "이 식 기억나죠?\n",
        "\n",
        "Λ -> 고유값을 대각원소로 하는 대각행렬\n",
        "\n",
        "𝑃  -> 고유 벡터의 열로 구성된 행렬\n",
        "\n",
        "𝑃` -> 𝑃의 역행렬\n",
        "\n",
        "Eigenvector의 경우 직교행렬이기 때문에 Eigenvector를 전치한 행렬과 Eigenvector의 역행렬이 동일하다."
      ]
    },
    {
      "cell_type": "code",
      "metadata": {
        "colab": {
          "base_uri": "https://localhost:8080/"
        },
        "id": "lR4yQnjyoJAk",
        "outputId": "e24c9dcf-b52f-42c4-ba53-c4309b8fceb4"
      },
      "source": [
        "# eigenvectors를 전치한 행렬\r\n",
        "eigenvectors.T"
      ],
      "execution_count": 19,
      "outputs": [
        {
          "output_type": "execute_result",
          "data": {
            "text/plain": [
              "array([[ 0.47018528, -0.64960236, -0.59744671],\n",
              "       [-0.85137353, -0.15545725, -0.50099516],\n",
              "       [-0.23257022, -0.74421087,  0.62614797]])"
            ]
          },
          "metadata": {
            "tags": []
          },
          "execution_count": 19
        }
      ]
    },
    {
      "cell_type": "code",
      "metadata": {
        "colab": {
          "base_uri": "https://localhost:8080/"
        },
        "id": "c7c2So6soKX7",
        "outputId": "fb0d9642-4796-4e22-dad0-c58c60173b95"
      },
      "source": [
        "# eigenvectors의 역행렬\r\n",
        "lin.inv(eigenvectors)"
      ],
      "execution_count": 20,
      "outputs": [
        {
          "output_type": "execute_result",
          "data": {
            "text/plain": [
              "array([[ 0.47018528, -0.64960236, -0.59744671],\n",
              "       [-0.85137353, -0.15545725, -0.50099516],\n",
              "       [-0.23257022, -0.74421087,  0.62614797]])"
            ]
          },
          "metadata": {
            "tags": []
          },
          "execution_count": 20
        }
      ]
    },
    {
      "cell_type": "code",
      "metadata": {
        "colab": {
          "base_uri": "https://localhost:8080/"
        },
        "id": "PHUmo4belh1d",
        "outputId": "9bb72fe5-5ff3-44e4-aee9-accc6e833672"
      },
      "source": [
        "np.dot(np.dot(eigenvectors, mat), lin.inv(eigenvectors))"
      ],
      "execution_count": 21,
      "outputs": [
        {
          "output_type": "execute_result",
          "data": {
            "text/plain": [
              "array([[ 1.05263158, -0.2037104 , -0.12079228],\n",
              "       [-0.2037104 ,  1.05263158,  0.3125801 ],\n",
              "       [-0.12079228,  0.3125801 ,  1.05263158]])"
            ]
          },
          "metadata": {
            "tags": []
          },
          "execution_count": 21
        }
      ]
    },
    {
      "cell_type": "code",
      "metadata": {
        "colab": {
          "base_uri": "https://localhost:8080/"
        },
        "id": "LICQmrUloShd",
        "outputId": "68be494e-9b8a-4a9d-e6bc-00a82f514891"
      },
      "source": [
        "np.dot(np.dot(eigenvectors, mat), eigenvectors.T)"
      ],
      "execution_count": 22,
      "outputs": [
        {
          "output_type": "execute_result",
          "data": {
            "text/plain": [
              "array([[ 1.05263158, -0.2037104 , -0.12079228],\n",
              "       [-0.2037104 ,  1.05263158,  0.3125801 ],\n",
              "       [-0.12079228,  0.3125801 ,  1.05263158]])"
            ]
          },
          "metadata": {
            "tags": []
          },
          "execution_count": 22
        }
      ]
    },
    {
      "cell_type": "code",
      "metadata": {
        "scrolled": true,
        "colab": {
          "base_uri": "https://localhost:8080/"
        },
        "id": "wXOWTcSX_IcC",
        "outputId": "66974a72-4e1a-47c0-dbb8-bbcce94b0b95"
      },
      "source": [
        "cov_matrix"
      ],
      "execution_count": 23,
      "outputs": [
        {
          "output_type": "execute_result",
          "data": {
            "text/plain": [
              "array([[ 1.05263158, -0.2037104 , -0.12079228],\n",
              "       [-0.2037104 ,  1.05263158,  0.3125801 ],\n",
              "       [-0.12079228,  0.3125801 ,  1.05263158]])"
            ]
          },
          "metadata": {
            "tags": []
          },
          "execution_count": 23
        }
      ]
    },
    {
      "cell_type": "markdown",
      "metadata": {
        "id": "QOLspNCPofft"
      },
      "source": [
        "1-2에서 구했던 공분산과 동일하다는 것을 알 수 있다."
      ]
    },
    {
      "cell_type": "markdown",
      "metadata": {
        "id": "Dp3GUfB-_IcD"
      },
      "source": [
        "### 1-5) 마지막으로 고유 벡터 축으로 값을 변환합니다\n",
        "\n",
        "\n",
        "https://docs.scipy.org/doc/numpy/reference/generated/numpy.concatenate.html"
      ]
    },
    {
      "cell_type": "code",
      "metadata": {
        "id": "62WmmwO2_IcD"
      },
      "source": [
        "def new_coordinates(X, eigenvectors):\n",
        "  for i in range(eigenvectors.shape[0]):\n",
        "    if i == 0:\n",
        "      new = [X.dot(eigenvectors.T[i])]\n",
        "    else:\n",
        "      new = np.concatenate((new, [X.dot(eigenvectors.T[i])]), axis=0)\n",
        "  return new.T\n",
        "\n",
        "# 모든 고유 벡터 축으로 데이터를 projection한 값입니다"
      ],
      "execution_count": 24,
      "outputs": []
    },
    {
      "cell_type": "code",
      "metadata": {
        "colab": {
          "base_uri": "https://localhost:8080/"
        },
        "id": "gehC8g0m_IcD",
        "outputId": "22b283ed-9901-4915-da6d-019d015e013a"
      },
      "source": [
        "new_coordinates(X_std,eigenvectors)\n",
        "\n",
        "# 새로운 축으로 변환되어 나타난 데이터들입니다"
      ],
      "execution_count": 25,
      "outputs": [
        {
          "output_type": "execute_result",
          "data": {
            "text/plain": [
              "array([[ 0.31019368, -1.08215716, -0.07983642],\n",
              "       [ 1.28092404, -0.43132556,  0.13533091],\n",
              "       [ 1.38766381,  0.78428014, -0.12911446],\n",
              "       [ 0.95087515, -1.15737142,  1.6495519 ],\n",
              "       [ 1.84222365,  0.88189889,  0.11493111],\n",
              "       [-1.12563709, -0.52680338,  0.06564012],\n",
              "       [-2.71174416,  0.63290138,  0.71195473],\n",
              "       [-0.03100441, -0.20059783, -0.50339479],\n",
              "       [ 2.29618509,  0.07661447,  0.01087174],\n",
              "       [-0.61585248, -0.205764  ,  1.82651199],\n",
              "       [-1.73320252,  1.29971699,  0.09045178],\n",
              "       [-0.82366049, -0.57164535, -0.27123176],\n",
              "       [ 0.75619512,  0.73995175, -0.76710616],\n",
              "       [-0.42344386,  0.26555394, -1.41533681],\n",
              "       [-0.39581307, -1.64646874,  0.24104031],\n",
              "       [-0.88581498,  0.15195119, -0.82271209],\n",
              "       [ 0.24587691,  0.39139878, -1.15801831],\n",
              "       [ 0.14741103, -1.22874561, -0.03110396],\n",
              "       [-0.7161265 , -0.56781471, -0.86180345],\n",
              "       [ 0.24475107,  2.39442622,  1.19337361]])"
            ]
          },
          "metadata": {
            "tags": []
          },
          "execution_count": 25
        }
      ]
    },
    {
      "cell_type": "markdown",
      "metadata": {
        "id": "jt1_ha7B_IcE"
      },
      "source": [
        "# 2) PCA를 구현해보기\n",
        "\n",
        "위의 과정을 하나의 함수로 표현해주세요!\n",
        "\n",
        "1)에서 진행한 과정을 그대로 가져오면 됩니다..! , \n",
        "\n",
        "위에서 만든 함수(new_coordinate)도 가져오셔서 사용해도 좋아요!\n",
        "\n",
        "+하지만 이 함수는 number이라는 인자를 받아서 pca에서 주성분 개수를 고려하도록 합니다!\n",
        "\n",
        "고유값이 큰 축 순서로 정렬하는 과정 + 주성분 개수 number을 고려해야한다는 점을 유의해서 함수를 정의해주세요\n"
      ]
    },
    {
      "cell_type": "code",
      "metadata": {
        "colab": {
          "base_uri": "https://localhost:8080/"
        },
        "id": "Tz2LtkAPqlPk",
        "outputId": "8cda5aef-beb3-49e4-be5a-874f30363848"
      },
      "source": [
        "eigenvalues"
      ],
      "execution_count": 26,
      "outputs": [
        {
          "output_type": "execute_result",
          "data": {
            "text/plain": [
              "array([1.48756162, 0.94435407, 0.72597904])"
            ]
          },
          "metadata": {
            "tags": []
          },
          "execution_count": 26
        }
      ]
    },
    {
      "cell_type": "code",
      "metadata": {
        "colab": {
          "base_uri": "https://localhost:8080/"
        },
        "id": "lsIjx9sVqMm2",
        "outputId": "067d17a5-e437-4194-ebee-78e519d1f4c8"
      },
      "source": [
        "eigenvalues.argsort()[::-1]"
      ],
      "execution_count": 27,
      "outputs": [
        {
          "output_type": "execute_result",
          "data": {
            "text/plain": [
              "array([0, 1, 2])"
            ]
          },
          "metadata": {
            "tags": []
          },
          "execution_count": 27
        }
      ]
    },
    {
      "cell_type": "code",
      "metadata": {
        "colab": {
          "base_uri": "https://localhost:8080/"
        },
        "id": "6Wb4v0hGq9AU",
        "outputId": "3415ddaf-1315-4ab3-e9f4-51487d16b32a"
      },
      "source": [
        "eigenvalues[eigenvalues.argsort()]"
      ],
      "execution_count": 28,
      "outputs": [
        {
          "output_type": "execute_result",
          "data": {
            "text/plain": [
              "array([0.72597904, 0.94435407, 1.48756162])"
            ]
          },
          "metadata": {
            "tags": []
          },
          "execution_count": 28
        }
      ]
    },
    {
      "cell_type": "code",
      "metadata": {
        "id": "a2Ki8NZ4_IcE"
      },
      "source": [
        "from sklearn.preprocessing import StandardScaler\n",
        "\n",
        "def MYPCA(X, number):\n",
        "  scaler = StandardScaler()\n",
        "  X_std = scaler.fit_transform(X) #sclaing 후 데이터\n",
        "\n",
        "  features = X_std.T\n",
        "\n",
        "  cov_matrix = np.cov(features)\n",
        "\n",
        "  eigenvalues_and_eigenvectors = lin.eig(cov_matrix)\n",
        "  # Eigenvalue\n",
        "  eigenvalues = eigenvalues_and_eigenvectors[0]\n",
        "  # Eigenvector\n",
        "  eigenvectors = eigenvalues_and_eigenvectors[1]\n",
        "\n",
        "  new_coordinate = new_coordinates(X_std, eigenvectors)\n",
        "\n",
        "  # 고유값이 큰 축 순서의 인덱스를 반환\n",
        "  idx = eigenvalues.argsort()[::-1].tolist()\n",
        "\n",
        "  if number > len(idx):\n",
        "    print(f'선택된 주성분의 요소가 Eigenvalue의 개수보다 많습니다. {len(idx)}이하로 다시 설정해주세요')\n",
        "    return\n",
        "\n",
        "  for i in range(number):\n",
        "    if i == 0:\n",
        "      new = [new_coordinate[:, idx[i]]]\n",
        "    else:\n",
        "      new = np.concatenate((new, [new_coordinate[:, idx[i]]]), axis=0)\n",
        "\n",
        "  return new.T #새로운 축으로 변환되어 나타난 데이터 return"
      ],
      "execution_count": 29,
      "outputs": []
    },
    {
      "cell_type": "code",
      "metadata": {
        "colab": {
          "base_uri": "https://localhost:8080/"
        },
        "id": "uyvbCBnSrx0F",
        "outputId": "4fffd518-02eb-4f59-b791-2a909fd00b06"
      },
      "source": [
        "MYPCA(X,4)"
      ],
      "execution_count": 30,
      "outputs": [
        {
          "output_type": "stream",
          "text": [
            "선택된 주성분의 요소가 Eigenvalue의 개수보다 많습니다. 3이하로 다시 설정해주세요\n"
          ],
          "name": "stdout"
        }
      ]
    },
    {
      "cell_type": "code",
      "metadata": {
        "scrolled": true,
        "colab": {
          "base_uri": "https://localhost:8080/"
        },
        "id": "NAsDPhor_IcF",
        "outputId": "a30ce0ce-8fe4-4e21-ede5-dd7c3d7192be"
      },
      "source": [
        "MYPCA(X,3)\n",
        "\n",
        "# 새로운 축으로 잘 변환되어서 나타나나요? 네\n",
        "# 위에서 했던 PCA랑은 차이가 있을 수 있어요 \n",
        "# 왜냐하면 위에서는 고유값이 큰 축 순서로 정렬을 안했었거든요"
      ],
      "execution_count": 31,
      "outputs": [
        {
          "output_type": "execute_result",
          "data": {
            "text/plain": [
              "array([[ 0.31019368, -1.08215716, -0.07983642],\n",
              "       [ 1.28092404, -0.43132556,  0.13533091],\n",
              "       [ 1.38766381,  0.78428014, -0.12911446],\n",
              "       [ 0.95087515, -1.15737142,  1.6495519 ],\n",
              "       [ 1.84222365,  0.88189889,  0.11493111],\n",
              "       [-1.12563709, -0.52680338,  0.06564012],\n",
              "       [-2.71174416,  0.63290138,  0.71195473],\n",
              "       [-0.03100441, -0.20059783, -0.50339479],\n",
              "       [ 2.29618509,  0.07661447,  0.01087174],\n",
              "       [-0.61585248, -0.205764  ,  1.82651199],\n",
              "       [-1.73320252,  1.29971699,  0.09045178],\n",
              "       [-0.82366049, -0.57164535, -0.27123176],\n",
              "       [ 0.75619512,  0.73995175, -0.76710616],\n",
              "       [-0.42344386,  0.26555394, -1.41533681],\n",
              "       [-0.39581307, -1.64646874,  0.24104031],\n",
              "       [-0.88581498,  0.15195119, -0.82271209],\n",
              "       [ 0.24587691,  0.39139878, -1.15801831],\n",
              "       [ 0.14741103, -1.22874561, -0.03110396],\n",
              "       [-0.7161265 , -0.56781471, -0.86180345],\n",
              "       [ 0.24475107,  2.39442622,  1.19337361]])"
            ]
          },
          "metadata": {
            "tags": []
          },
          "execution_count": 31
        }
      ]
    },
    {
      "cell_type": "markdown",
      "metadata": {
        "id": "E7jO-4OJ_IcF"
      },
      "source": [
        "# 3) sklearn이랑 비교를 해보기\n",
        "\n",
        "https://scikit-learn.org/stable/modules/generated/sklearn.decomposition.PCA.html 를 참고하시면 도움이 될거에요\n",
        "\n",
        "sklearn의 PCA는 고유값 분해(eigenvalue-decomposition)가 아닌 특이값 분해(SVD, Singular Value Decomposition)의 방식으로 차원을 축소한다.\n",
        "\n",
        "이러한 분해 방식의 차이에 의하여 우리가 구한 PCA와 사이킷런의 PCA의 부호가 다르다는 것을 확인 할 수 있다.\n",
        "\n",
        "부호가 다르다는 것은 벡터의 방향이 반대라는 의미일뿐이며 값이 같음으로 주성분 벡터가 구성하는 축이 동일하기 때문에 두 방식의 결과의 차이는 큰 의미가 없다.\n",
        "\n",
        "사이킷런에서는 고유값 분해가 아닌 특이값 분해를 사용하는 이유는 특이값 분해의 경우 행렬이 정방행렬에 관계없이 모든 m x n 행렬에 대해 적용 가능하기 때문이며 고유값 분해의 경우 정방행렬의 경우에만 사용 가능하기 때문에 차원 축소의 폭을 더 넓히고자 특이값 분해를 사용하는 것으로 유추해볼 수 있다.\n",
        "\n",
        "참고\n",
        "\n",
        "1.https://excelsior-cjh.tistory.com/167\n",
        "\n",
        "2.https://darkpgmr.tistory.com/106"
      ]
    },
    {
      "cell_type": "code",
      "metadata": {
        "id": "9Dk4LMMY_IcG"
      },
      "source": [
        "from sklearn.decomposition import PCA\n",
        "pca = PCA(n_components=3)"
      ],
      "execution_count": 32,
      "outputs": []
    },
    {
      "cell_type": "code",
      "metadata": {
        "colab": {
          "base_uri": "https://localhost:8080/"
        },
        "id": "ns8Skl4zsVgk",
        "outputId": "ae24aae4-9e19-4248-c409-723632a6b4b9"
      },
      "source": [
        "pca.fit_transform(X_std)"
      ],
      "execution_count": 33,
      "outputs": [
        {
          "output_type": "execute_result",
          "data": {
            "text/plain": [
              "array([[-0.31019368, -1.08215716, -0.07983642],\n",
              "       [-1.28092404, -0.43132556,  0.13533091],\n",
              "       [-1.38766381,  0.78428014, -0.12911446],\n",
              "       [-0.95087515, -1.15737142,  1.6495519 ],\n",
              "       [-1.84222365,  0.88189889,  0.11493111],\n",
              "       [ 1.12563709, -0.52680338,  0.06564012],\n",
              "       [ 2.71174416,  0.63290138,  0.71195473],\n",
              "       [ 0.03100441, -0.20059783, -0.50339479],\n",
              "       [-2.29618509,  0.07661447,  0.01087174],\n",
              "       [ 0.61585248, -0.205764  ,  1.82651199],\n",
              "       [ 1.73320252,  1.29971699,  0.09045178],\n",
              "       [ 0.82366049, -0.57164535, -0.27123176],\n",
              "       [-0.75619512,  0.73995175, -0.76710616],\n",
              "       [ 0.42344386,  0.26555394, -1.41533681],\n",
              "       [ 0.39581307, -1.64646874,  0.24104031],\n",
              "       [ 0.88581498,  0.15195119, -0.82271209],\n",
              "       [-0.24587691,  0.39139878, -1.15801831],\n",
              "       [-0.14741103, -1.22874561, -0.03110396],\n",
              "       [ 0.7161265 , -0.56781471, -0.86180345],\n",
              "       [-0.24475107,  2.39442622,  1.19337361]])"
            ]
          },
          "metadata": {
            "tags": []
          },
          "execution_count": 33
        }
      ]
    },
    {
      "cell_type": "code",
      "metadata": {
        "colab": {
          "base_uri": "https://localhost:8080/"
        },
        "id": "1GOqYeAe_IcG",
        "outputId": "9e8dd868-15a8-4463-c798-eeefc7f933ae"
      },
      "source": [
        "-MYPCA(X,3)"
      ],
      "execution_count": 34,
      "outputs": [
        {
          "output_type": "execute_result",
          "data": {
            "text/plain": [
              "array([[-0.31019368,  1.08215716,  0.07983642],\n",
              "       [-1.28092404,  0.43132556, -0.13533091],\n",
              "       [-1.38766381, -0.78428014,  0.12911446],\n",
              "       [-0.95087515,  1.15737142, -1.6495519 ],\n",
              "       [-1.84222365, -0.88189889, -0.11493111],\n",
              "       [ 1.12563709,  0.52680338, -0.06564012],\n",
              "       [ 2.71174416, -0.63290138, -0.71195473],\n",
              "       [ 0.03100441,  0.20059783,  0.50339479],\n",
              "       [-2.29618509, -0.07661447, -0.01087174],\n",
              "       [ 0.61585248,  0.205764  , -1.82651199],\n",
              "       [ 1.73320252, -1.29971699, -0.09045178],\n",
              "       [ 0.82366049,  0.57164535,  0.27123176],\n",
              "       [-0.75619512, -0.73995175,  0.76710616],\n",
              "       [ 0.42344386, -0.26555394,  1.41533681],\n",
              "       [ 0.39581307,  1.64646874, -0.24104031],\n",
              "       [ 0.88581498, -0.15195119,  0.82271209],\n",
              "       [-0.24587691, -0.39139878,  1.15801831],\n",
              "       [-0.14741103,  1.22874561,  0.03110396],\n",
              "       [ 0.7161265 ,  0.56781471,  0.86180345],\n",
              "       [-0.24475107, -2.39442622, -1.19337361]])"
            ]
          },
          "metadata": {
            "tags": []
          },
          "execution_count": 34
        }
      ]
    },
    {
      "cell_type": "code",
      "metadata": {
        "colab": {
          "base_uri": "https://localhost:8080/"
        },
        "id": "LNvgwrZ4_IcG",
        "outputId": "a0a57feb-20f4-4cde-92f3-e19d079b5a5d"
      },
      "source": [
        "MYPCA(X,3)"
      ],
      "execution_count": 35,
      "outputs": [
        {
          "output_type": "execute_result",
          "data": {
            "text/plain": [
              "array([[ 0.31019368, -1.08215716, -0.07983642],\n",
              "       [ 1.28092404, -0.43132556,  0.13533091],\n",
              "       [ 1.38766381,  0.78428014, -0.12911446],\n",
              "       [ 0.95087515, -1.15737142,  1.6495519 ],\n",
              "       [ 1.84222365,  0.88189889,  0.11493111],\n",
              "       [-1.12563709, -0.52680338,  0.06564012],\n",
              "       [-2.71174416,  0.63290138,  0.71195473],\n",
              "       [-0.03100441, -0.20059783, -0.50339479],\n",
              "       [ 2.29618509,  0.07661447,  0.01087174],\n",
              "       [-0.61585248, -0.205764  ,  1.82651199],\n",
              "       [-1.73320252,  1.29971699,  0.09045178],\n",
              "       [-0.82366049, -0.57164535, -0.27123176],\n",
              "       [ 0.75619512,  0.73995175, -0.76710616],\n",
              "       [-0.42344386,  0.26555394, -1.41533681],\n",
              "       [-0.39581307, -1.64646874,  0.24104031],\n",
              "       [-0.88581498,  0.15195119, -0.82271209],\n",
              "       [ 0.24587691,  0.39139878, -1.15801831],\n",
              "       [ 0.14741103, -1.22874561, -0.03110396],\n",
              "       [-0.7161265 , -0.56781471, -0.86180345],\n",
              "       [ 0.24475107,  2.39442622,  1.19337361]])"
            ]
          },
          "metadata": {
            "tags": []
          },
          "execution_count": 35
        }
      ]
    }
  ]
}