{
  "nbformat": 4,
  "nbformat_minor": 0,
  "metadata": {
    "colab": {
      "name": "week4_SVM.ipynb",
      "provenance": []
    },
    "file_extension": ".py",
    "kernelspec": {
      "display_name": "Python 3",
      "language": "python",
      "name": "python3"
    },
    "language_info": {
      "codemirror_mode": {
        "name": "ipython",
        "version": 3
      },
      "file_extension": ".py",
      "mimetype": "text/x-python",
      "name": "python",
      "nbconvert_exporter": "python",
      "pygments_lexer": "ipython3",
      "version": "3.8.5"
    },
    "mimetype": "text/x-python",
    "name": "python",
    "npconvert_exporter": "python",
    "pygments_lexer": "ipython3",
    "version": 3
  },
  "cells": [
    {
      "cell_type": "markdown",
      "metadata": {
        "id": "8HyMvTfrPTEU"
      },
      "source": [
        "# Week4 Assignment Multiclass SVM 구현 Tobigs15th 이성범"
      ]
    },
    {
      "cell_type": "code",
      "metadata": {
        "id": "lMqxwjbRNX6u",
        "outputId": "f7b6519f-9521-446b-a107-044a7113bc08"
      },
      "source": [
        "import numpy as np\n",
        "import pandas as pd\n",
        "import matplotlib.pyplot as plt\n",
        "import seaborn as sns\n",
        "from sklearn.svm import SVC\n",
        "from sklearn.model_selection import train_test_split\n",
        "from sklearn.pipeline import Pipeline\n",
        "from sklearn.preprocessing import StandardScaler\n",
        "\n",
        "#IRIS 데이터 로드\n",
        "iris =  sns.load_dataset('iris') \n",
        "X = iris.iloc[:,:4] #학습할데이터\n",
        "y = iris.iloc[:,-1] #타겟\n",
        "print(y)"
      ],
      "execution_count": null,
      "outputs": [
        {
          "output_type": "stream",
          "text": [
            "0         setosa\n",
            "1         setosa\n",
            "2         setosa\n",
            "3         setosa\n",
            "4         setosa\n",
            "         ...    \n",
            "145    virginica\n",
            "146    virginica\n",
            "147    virginica\n",
            "148    virginica\n",
            "149    virginica\n",
            "Name: species, Length: 150, dtype: object\n"
          ],
          "name": "stdout"
        }
      ]
    },
    {
      "cell_type": "code",
      "metadata": {
        "id": "1oPzAaNeP9jY"
      },
      "source": [
        "# 기존 코드가 전체 데이터를 바탕으로 스케일링이 되어있어서\n",
        "# Train과 Test로 데이터를 나눈 후 Train 데이터를 기준으로 스케일링 작업을 했습니다.\n",
        "# 또한 분류 데이터는 기본적으로 균등하게 나누어야 하기 때문에 stratify 옵션을 적용해야한다.\n",
        "# 그러나 stratify 옵션을 적용하면 예측 확률이 1이 나와서 stratify 옵션을 적용하지 않았습니다.\n",
        "\n",
        "from sklearn.model_selection import train_test_split\n",
        "X_train, X_test, y_train, y_test = train_test_split(X, y, test_size=0.2, random_state=48)"
      ],
      "execution_count": null,
      "outputs": []
    },
    {
      "cell_type": "code",
      "metadata": {
        "id": "tm8gpfVSNX67"
      },
      "source": [
        "scaler = StandardScaler()\n",
        "X_train = scaler.fit_transform(X_train)\n",
        "X_test = scaler.transform(X_test)"
      ],
      "execution_count": null,
      "outputs": []
    },
    {
      "cell_type": "markdown",
      "metadata": {
        "id": "x2R7g-tWP9jb"
      },
      "source": [
        "# OneVsRest\n",
        "\n",
        "decision_function는 각 클래스에 대한 결정 함수를 나타내는 함수이다. SVC의 경우 0을 기준으로 0보다 크다며 해당 클래스로 예측을 한다. 즉 값이 높을 수록 해당 클래스가 될 확률이 높은 것이다.\n",
        "\n",
        "OneVsRest는 각 클래스를 예측하는 모델 별로 이러한 결정 함수가 가장 큰 값을 선택하는 방식이다. 따라서 OneVsRest같은 경우 클래스의 개수 만큼의 모델이 필요하다.\n",
        "\n",
        "\n",
        "#### sklearn의 SVC 공식 문서에서 제공하는 decision_function에 대한 설명\n",
        "\n",
        "Evaluates the decision function for the samples in X.\n",
        "\n",
        "#### OneVsRest에 대한 설명\n",
        "1. https://wikidocs.net/4291\n",
        "2. https://machinelearningmastery.com/one-vs-rest-and-one-vs-one-for-multi-class-classification/"
      ]
    },
    {
      "cell_type": "code",
      "metadata": {
        "id": "koySjIVLP9jd",
        "outputId": "cfb66747-c5bf-4cac-ef16-397b3868f4c4"
      },
      "source": [
        "## Case 1 : One vs Rest\n",
        "from sklearn.metrics import accuracy_score\n",
        "\n",
        "def OneVsRest(X_train, X_test, y_train, y_test):\n",
        "    # 클래스의 원핫 인코딩을 시행\n",
        "    y_train = pd.get_dummies(y_train)\n",
        "    \n",
        "    # 클래스의 순서가 저장된 리스트\n",
        "    class_list = y_train.columns.tolist()\n",
        "    \n",
        "    # 예측 값이 저장될 리스트\n",
        "    y_pred = []\n",
        "    # 클래스 만큼의 모델을 만들어줌\n",
        "    for i in range(len(class_list)):\n",
        "        # 모델 학습\n",
        "        model = SVC(kernel ='rbf', C = 5, gamma = 5)\n",
        "        \n",
        "        # 해당 클래스를 학습한 모델\n",
        "        model.fit(X_train, y_train.iloc[:,i])\n",
        "        \n",
        "        # 해당 클래스의 결정 함수를 구함\n",
        "        decision_function = model.decision_function(X_test).reshape(-1,1)\n",
        "        \n",
        "        # 해당 클래스의 결정 함수을 저장\n",
        "        y_pred.append(decision_function)\n",
        "    \n",
        "    # 모델별 결정 함수 를 합침\n",
        "    y_pred = np.concatenate(y_pred, axis = 1)\n",
        "    \n",
        "    # 각 모델별 결정함수가 가장 큰 값의 인덱스를 반횐\n",
        "    # 여기서의 인덱스가 곧 class_list의 인덱스가 됨\n",
        "    # 동일한 값이 생길 경우 자동적으로 제일 먼저 등장한 값을 뽑아준다.\n",
        "    y_pred = np.argmax(y_pred, axis=1)\n",
        "    \n",
        "    # 인덱스에 맞춰서 각 값을 실제 클래스 명으로 변환\n",
        "    y_pred = [ class_list[i] for i in y_pred ]\n",
        "    \n",
        "    # accuracy_score 함수를 활용하기 위한 배열 변환\n",
        "    y_pred = np.array(y_pred)\n",
        "    \n",
        "    # 에측값 반환\n",
        "    return accuracy_score(y_pred, y_test), y_pred\n",
        "\n",
        "scroe, y_pred = OneVsRest(X_train, X_test, y_train, y_test)\n",
        "print(f\"Class: {y_pred}\\nAccuracy: {scroe}\")"
      ],
      "execution_count": null,
      "outputs": [
        {
          "output_type": "stream",
          "text": [
            "Class: ['versicolor' 'versicolor' 'versicolor' 'virginica' 'virginica'\n",
            " 'virginica' 'setosa' 'virginica' 'setosa' 'versicolor' 'virginica'\n",
            " 'setosa' 'setosa' 'virginica' 'versicolor' 'versicolor' 'setosa'\n",
            " 'versicolor' 'virginica' 'virginica' 'setosa' 'virginica' 'versicolor'\n",
            " 'versicolor' 'virginica' 'setosa' 'setosa' 'virginica' 'virginica'\n",
            " 'versicolor']\n",
            "Accuracy: 0.8666666666666667\n"
          ],
          "name": "stdout"
        }
      ]
    },
    {
      "cell_type": "code",
      "metadata": {
        "id": "J4OcgeFQP9jf",
        "outputId": "ad5c089c-a19f-46ef-a0bf-c204d1a1c398"
      },
      "source": [
        "svc = SVC(kernel ='rbf', C = 5, gamma = 5)\n",
        "svc.fit(X_train, y_train)\n",
        "y_pred = svc.predict(X_test)\n",
        "score = accuracy_score(y_pred, y_test)\n",
        "print(f\"Class: {y_pred}\\nAccuracy: {scroe}\")"
      ],
      "execution_count": null,
      "outputs": [
        {
          "output_type": "stream",
          "text": [
            "Class: ['versicolor' 'versicolor' 'versicolor' 'virginica' 'virginica'\n",
            " 'virginica' 'setosa' 'virginica' 'setosa' 'versicolor' 'virginica'\n",
            " 'setosa' 'setosa' 'virginica' 'versicolor' 'versicolor' 'setosa'\n",
            " 'versicolor' 'virginica' 'virginica' 'setosa' 'virginica' 'versicolor'\n",
            " 'versicolor' 'virginica' 'setosa' 'setosa' 'virginica' 'virginica'\n",
            " 'versicolor']\n",
            "Accuracy: 0.8666666666666667\n"
          ],
          "name": "stdout"
        }
      ]
    },
    {
      "cell_type": "markdown",
      "metadata": {
        "id": "vb6hpOPQNX8B"
      },
      "source": [
        "기존 모델과 동일한 결과를 반환한다는 것을 알 수 있음"
      ]
    },
    {
      "cell_type": "markdown",
      "metadata": {
        "id": "YbMR5JxYP9jj"
      },
      "source": [
        "# OneVsOne\n",
        "\n",
        "다중 클래스 분류 데이터 세트를 이진 분류 데이터 세트들로 분활하여 투표를 통해서 가장 다득표를 받은 클래스를 선택하는 방식이다. 따라서 모델은 이진 분류 데이터 세트 만큼이 필요하며 수식적으로는 $ _{m}C_{2} $ 개의 모델이 필요하며 여기서 m은 클래스의 개수를 의미한다. 또한 각 클래스 별로 득표를 받을 수 있는 최대 투표수는 $ _{m}C_{2} - 1 $ 개 이다. \n",
        "\n",
        "#### OneVsOne에 대한 설명\n",
        "1. https://machinelearningmastery.com/one-vs-rest-and-one-vs-one-for-multi-class-classification/"
      ]
    },
    {
      "cell_type": "code",
      "metadata": {
        "id": "OG-QAdMZP9jk",
        "outputId": "9ab41e40-fa66-4309-c1b7-5ad41696ee14"
      },
      "source": [
        "# Case 2 : One vs One\n",
        "from itertools import combinations\n",
        "\n",
        "def OneVsOne(X_train, X_test, y_train, y_test):\n",
        "    \n",
        "    # 클래스가 저장된 리스트\n",
        "    class_list = np.unique(y_train).tolist()\n",
        "    \n",
        "    # 이진 분류된 클래스가 저장될 리스트 \n",
        "    binary_class_list = list(map(list, combinations(class_list, 2)))\n",
        "    \n",
        "    # 투표가 저장될 데이터 프레임\n",
        "    # 행은 테스트 데이터의 개수 만큼, 열은 클래스의 개수 만큼 생성\n",
        "    votes_df = pd.DataFrame(np.zeros((len(X_test), len(class_list))), columns = class_list)\n",
        "    \n",
        "    # 이진 분류 데이터 셋으로 나눈다.\n",
        "    # 이진 븐류된 데이터 만큼의 반복을 해야함\n",
        "    for binary_class in binary_class_list:\n",
        "        class1, class2 = binary_class\n",
        "        X_train_binary = X_train[(y_train == class1) | (y_train == class2)]\n",
        "        y_train_binary = y_train[(y_train == class1) | (y_train == class2)]\n",
        "        \n",
        "        model = SVC(kernel ='rbf', C = 5, gamma = 5)\n",
        "        model.fit(X_train_binary, y_train_binary)\n",
        "        class_pred_list = model.predict(X_test)\n",
        "        \n",
        "        # 데이터 별로 예측한 값에 대해서 클래스별로 투표를 함\n",
        "        for idx, class_pred in enumerate(class_pred_list):\n",
        "            votes_df.loc[idx, [class_pred]] += 1\n",
        "    \n",
        "    # test 데이터에 대한 클래스별 투표 수를 배열화함\n",
        "    y_pred = votes_df.values\n",
        "    \n",
        "    # test 데이터에 대한 클래스별 투표 수가 가장 큰 값의 인덱스를 반횐\n",
        "    # 여기서의 인덱스가 곧 class_list의 인덱스가 되고\n",
        "    # 그 인덱스가 곧 해당 클래스가 됨\n",
        "    # 동일한 값이 생길 경우 자동적으로 제일 먼저 등장한 값을 뽑아준다.\n",
        "    y_pred = np.argmax(y_pred, axis=1)\n",
        "    \n",
        "    # 인덱스에 맞춰서 각 값을 실제 클래스 명으로 변환\n",
        "    y_pred = [ class_list[i] for i in y_pred ]\n",
        "    \n",
        "    # accuracy_score 함수를 활용하기 위한 배열 변환\n",
        "    y_pred = np.array(y_pred)\n",
        "\n",
        "    return accuracy_score(y_pred, y_test), y_pred, votes_df\n",
        "\n",
        "scroe, y_pred, votes_df = OneVsOne(X_train, X_test, y_train, y_test)\n",
        "print(f\"Class: {y_pred}\\nAccuracy: {scroe}\")\n",
        "print('투표 결과')\n",
        "votes_df"
      ],
      "execution_count": null,
      "outputs": [
        {
          "output_type": "stream",
          "text": [
            "Class: ['versicolor' 'versicolor' 'versicolor' 'virginica' 'virginica'\n",
            " 'virginica' 'setosa' 'virginica' 'setosa' 'versicolor' 'virginica'\n",
            " 'setosa' 'setosa' 'virginica' 'versicolor' 'versicolor' 'setosa'\n",
            " 'versicolor' 'virginica' 'virginica' 'setosa' 'virginica' 'versicolor'\n",
            " 'versicolor' 'virginica' 'setosa' 'setosa' 'virginica' 'virginica'\n",
            " 'versicolor']\n",
            "Accuracy: 0.8666666666666667\n",
            "투표 결과\n"
          ],
          "name": "stdout"
        },
        {
          "output_type": "execute_result",
          "data": {
            "text/html": [
              "<div>\n",
              "<style scoped>\n",
              "    .dataframe tbody tr th:only-of-type {\n",
              "        vertical-align: middle;\n",
              "    }\n",
              "\n",
              "    .dataframe tbody tr th {\n",
              "        vertical-align: top;\n",
              "    }\n",
              "\n",
              "    .dataframe thead th {\n",
              "        text-align: right;\n",
              "    }\n",
              "</style>\n",
              "<table border=\"1\" class=\"dataframe\">\n",
              "  <thead>\n",
              "    <tr style=\"text-align: right;\">\n",
              "      <th></th>\n",
              "      <th>setosa</th>\n",
              "      <th>versicolor</th>\n",
              "      <th>virginica</th>\n",
              "    </tr>\n",
              "  </thead>\n",
              "  <tbody>\n",
              "    <tr>\n",
              "      <th>0</th>\n",
              "      <td>0.0</td>\n",
              "      <td>2.0</td>\n",
              "      <td>1.0</td>\n",
              "    </tr>\n",
              "    <tr>\n",
              "      <th>1</th>\n",
              "      <td>0.0</td>\n",
              "      <td>2.0</td>\n",
              "      <td>1.0</td>\n",
              "    </tr>\n",
              "    <tr>\n",
              "      <th>2</th>\n",
              "      <td>0.0</td>\n",
              "      <td>2.0</td>\n",
              "      <td>1.0</td>\n",
              "    </tr>\n",
              "    <tr>\n",
              "      <th>3</th>\n",
              "      <td>0.0</td>\n",
              "      <td>1.0</td>\n",
              "      <td>2.0</td>\n",
              "    </tr>\n",
              "    <tr>\n",
              "      <th>4</th>\n",
              "      <td>0.0</td>\n",
              "      <td>1.0</td>\n",
              "      <td>2.0</td>\n",
              "    </tr>\n",
              "    <tr>\n",
              "      <th>5</th>\n",
              "      <td>0.0</td>\n",
              "      <td>1.0</td>\n",
              "      <td>2.0</td>\n",
              "    </tr>\n",
              "    <tr>\n",
              "      <th>6</th>\n",
              "      <td>2.0</td>\n",
              "      <td>0.0</td>\n",
              "      <td>1.0</td>\n",
              "    </tr>\n",
              "    <tr>\n",
              "      <th>7</th>\n",
              "      <td>0.0</td>\n",
              "      <td>1.0</td>\n",
              "      <td>2.0</td>\n",
              "    </tr>\n",
              "    <tr>\n",
              "      <th>8</th>\n",
              "      <td>2.0</td>\n",
              "      <td>0.0</td>\n",
              "      <td>1.0</td>\n",
              "    </tr>\n",
              "    <tr>\n",
              "      <th>9</th>\n",
              "      <td>0.0</td>\n",
              "      <td>2.0</td>\n",
              "      <td>1.0</td>\n",
              "    </tr>\n",
              "    <tr>\n",
              "      <th>10</th>\n",
              "      <td>0.0</td>\n",
              "      <td>1.0</td>\n",
              "      <td>2.0</td>\n",
              "    </tr>\n",
              "    <tr>\n",
              "      <th>11</th>\n",
              "      <td>2.0</td>\n",
              "      <td>0.0</td>\n",
              "      <td>1.0</td>\n",
              "    </tr>\n",
              "    <tr>\n",
              "      <th>12</th>\n",
              "      <td>2.0</td>\n",
              "      <td>0.0</td>\n",
              "      <td>1.0</td>\n",
              "    </tr>\n",
              "    <tr>\n",
              "      <th>13</th>\n",
              "      <td>0.0</td>\n",
              "      <td>1.0</td>\n",
              "      <td>2.0</td>\n",
              "    </tr>\n",
              "    <tr>\n",
              "      <th>14</th>\n",
              "      <td>0.0</td>\n",
              "      <td>2.0</td>\n",
              "      <td>1.0</td>\n",
              "    </tr>\n",
              "    <tr>\n",
              "      <th>15</th>\n",
              "      <td>0.0</td>\n",
              "      <td>2.0</td>\n",
              "      <td>1.0</td>\n",
              "    </tr>\n",
              "    <tr>\n",
              "      <th>16</th>\n",
              "      <td>2.0</td>\n",
              "      <td>0.0</td>\n",
              "      <td>1.0</td>\n",
              "    </tr>\n",
              "    <tr>\n",
              "      <th>17</th>\n",
              "      <td>0.0</td>\n",
              "      <td>2.0</td>\n",
              "      <td>1.0</td>\n",
              "    </tr>\n",
              "    <tr>\n",
              "      <th>18</th>\n",
              "      <td>0.0</td>\n",
              "      <td>1.0</td>\n",
              "      <td>2.0</td>\n",
              "    </tr>\n",
              "    <tr>\n",
              "      <th>19</th>\n",
              "      <td>0.0</td>\n",
              "      <td>1.0</td>\n",
              "      <td>2.0</td>\n",
              "    </tr>\n",
              "    <tr>\n",
              "      <th>20</th>\n",
              "      <td>2.0</td>\n",
              "      <td>0.0</td>\n",
              "      <td>1.0</td>\n",
              "    </tr>\n",
              "    <tr>\n",
              "      <th>21</th>\n",
              "      <td>0.0</td>\n",
              "      <td>1.0</td>\n",
              "      <td>2.0</td>\n",
              "    </tr>\n",
              "    <tr>\n",
              "      <th>22</th>\n",
              "      <td>0.0</td>\n",
              "      <td>2.0</td>\n",
              "      <td>1.0</td>\n",
              "    </tr>\n",
              "    <tr>\n",
              "      <th>23</th>\n",
              "      <td>0.0</td>\n",
              "      <td>2.0</td>\n",
              "      <td>1.0</td>\n",
              "    </tr>\n",
              "    <tr>\n",
              "      <th>24</th>\n",
              "      <td>0.0</td>\n",
              "      <td>1.0</td>\n",
              "      <td>2.0</td>\n",
              "    </tr>\n",
              "    <tr>\n",
              "      <th>25</th>\n",
              "      <td>2.0</td>\n",
              "      <td>0.0</td>\n",
              "      <td>1.0</td>\n",
              "    </tr>\n",
              "    <tr>\n",
              "      <th>26</th>\n",
              "      <td>2.0</td>\n",
              "      <td>0.0</td>\n",
              "      <td>1.0</td>\n",
              "    </tr>\n",
              "    <tr>\n",
              "      <th>27</th>\n",
              "      <td>0.0</td>\n",
              "      <td>1.0</td>\n",
              "      <td>2.0</td>\n",
              "    </tr>\n",
              "    <tr>\n",
              "      <th>28</th>\n",
              "      <td>0.0</td>\n",
              "      <td>1.0</td>\n",
              "      <td>2.0</td>\n",
              "    </tr>\n",
              "    <tr>\n",
              "      <th>29</th>\n",
              "      <td>0.0</td>\n",
              "      <td>2.0</td>\n",
              "      <td>1.0</td>\n",
              "    </tr>\n",
              "  </tbody>\n",
              "</table>\n",
              "</div>"
            ],
            "text/plain": [
              "    setosa  versicolor  virginica\n",
              "0      0.0         2.0        1.0\n",
              "1      0.0         2.0        1.0\n",
              "2      0.0         2.0        1.0\n",
              "3      0.0         1.0        2.0\n",
              "4      0.0         1.0        2.0\n",
              "5      0.0         1.0        2.0\n",
              "6      2.0         0.0        1.0\n",
              "7      0.0         1.0        2.0\n",
              "8      2.0         0.0        1.0\n",
              "9      0.0         2.0        1.0\n",
              "10     0.0         1.0        2.0\n",
              "11     2.0         0.0        1.0\n",
              "12     2.0         0.0        1.0\n",
              "13     0.0         1.0        2.0\n",
              "14     0.0         2.0        1.0\n",
              "15     0.0         2.0        1.0\n",
              "16     2.0         0.0        1.0\n",
              "17     0.0         2.0        1.0\n",
              "18     0.0         1.0        2.0\n",
              "19     0.0         1.0        2.0\n",
              "20     2.0         0.0        1.0\n",
              "21     0.0         1.0        2.0\n",
              "22     0.0         2.0        1.0\n",
              "23     0.0         2.0        1.0\n",
              "24     0.0         1.0        2.0\n",
              "25     2.0         0.0        1.0\n",
              "26     2.0         0.0        1.0\n",
              "27     0.0         1.0        2.0\n",
              "28     0.0         1.0        2.0\n",
              "29     0.0         2.0        1.0"
            ]
          },
          "metadata": {
            "tags": []
          },
          "execution_count": 6
        }
      ]
    },
    {
      "cell_type": "code",
      "metadata": {
        "id": "Hcx0JnQZP9jn",
        "outputId": "2027f499-f7ac-4c6b-fea4-d052665cab56"
      },
      "source": [
        "svc = SVC(kernel ='rbf', C = 5, gamma = 5)\n",
        "svc.fit(X_train, y_train)\n",
        "y_pred = svc.predict(X_test)\n",
        "score = accuracy_score(y_pred, y_test)\n",
        "print(f\"Class: {y_pred}\\nAccuracy: {scroe}\")"
      ],
      "execution_count": null,
      "outputs": [
        {
          "output_type": "stream",
          "text": [
            "Class: ['versicolor' 'versicolor' 'versicolor' 'virginica' 'virginica'\n",
            " 'virginica' 'setosa' 'virginica' 'setosa' 'versicolor' 'virginica'\n",
            " 'setosa' 'setosa' 'virginica' 'versicolor' 'versicolor' 'setosa'\n",
            " 'versicolor' 'virginica' 'virginica' 'setosa' 'virginica' 'versicolor'\n",
            " 'versicolor' 'virginica' 'setosa' 'setosa' 'virginica' 'virginica'\n",
            " 'versicolor']\n",
            "Accuracy: 0.8666666666666667\n"
          ],
          "name": "stdout"
        }
      ]
    },
    {
      "cell_type": "markdown",
      "metadata": {
        "id": "so9BvJImP9jo"
      },
      "source": [
        "기존 모델과 동일한 결과를 반환한다는 것을 알 수 있음"
      ]
    }
  ]
}