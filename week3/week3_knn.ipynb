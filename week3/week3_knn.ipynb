{
 "cells": [
  {
   "cell_type": "markdown",
   "metadata": {},
   "source": [
    "# K-Nearest Neighbor Assignment Tobigs15th 이성범"
   ]
  },
  {
   "cell_type": "code",
   "execution_count": 1,
   "metadata": {},
   "outputs": [],
   "source": [
    "import pandas as pd\n",
    "import numpy as np\n",
    "import matplotlib.pyplot as plt\n",
    "import matplotlib as mpl\n",
    "import seaborn as sns\n",
    "import warnings\n",
    "\n",
    "warnings.filterwarnings(action='ignore')\n",
    "%matplotlib inline\n",
    "\n",
    "plt.style.use('seaborn') # matplotlib 테마\n",
    "plt.rc('font', family='Malgun Gothic') # 그래프에서 한글 깨지는 현상 방지\n",
    "plt.rc('axes', unicode_minus=False) # 그래프에서 마이너스 기호가 표시되도록"
   ]
  },
  {
   "cell_type": "markdown",
   "metadata": {},
   "source": [
    "# 데이터 확인"
   ]
  },
  {
   "cell_type": "markdown",
   "metadata": {},
   "source": [
    "데이터셋의 이름 BlackFriday\n",
    "\n",
    "### feature\n",
    "- User_ID - 고객 ID\n",
    "- Product_ID - 제품 ID\n",
    "- Age - 고객 연령대\n",
    "- Occupation - 고객 직업\n",
    "- City_Category - 고객 거주 도시\n",
    "- Stay_In_Current_City_Years - 현재 도시 거주 기간(년)\n",
    "- Marital_Status - 결혼 여부\n",
    "- Product_Category_1 - 구매 제품 분류(대)\n",
    "- Product_Category_2 - 구매 제품 분류(중)\n",
    "- Product_Category_3 - 구매 제품 분류(소)\n",
    "- Purchase - 구매가격\n",
    "\n",
    "### target\n",
    "- Gender - 성별\n",
    "\n",
    "캐글에 데이터셋에 대한 설명이 자세히 나와있지 않아 스스로 데이터를 해석하여 분석을 진행했습니다.\n",
    "\n",
    "데이터셋의 제목인 BlackFriday의 경우 11월의 넷째주 목요일인 추수감사절 다음 날로, 미국에서 연중 가장 큰 규모의 쇼핑이 행해지는 날을 의미합니다.\n",
    "\n",
    "현재 데이터의 경우 추후에 나올 분석 결과를 보면 알겠지만 동일한 제품이라도 변수에 특성에 따라서 구매가격이 달라진다는 것을 확인할 수 있습니다.\n",
    "\n",
    "이를 유추해보면 미국에서 가장 큰 규모의 쇼핑이 행해지는 날인 BlackFriday는 대대적인 할인 행사를 진행하기 때문에 충분히 정보의 격차 또는 현재 지역의 규모 등 여러 특성에 따라서 할인율에 대한 정보 또는 혜택이 달라질 것이고 이에 따른 구매가격이 달라질 수 있다고 생각할 수 있습니다.\n",
    "\n",
    "분석에 들어가기 전에 성별에 대해 크게 영향을 주는 변수는 대체로 고객 ID, 제품 ID, 고객 직업, 구매 제품 분류와 관련된 변수로 생각됩니다.\n",
    "\n",
    "하지만 고객 ID의 경우 고유값이기 때문에 고객의 성별과 1대1로 매칭이 된다면 일반화가 되지 않기 때문에 제외하는 것이 맞을거 같습니다.\n",
    "\n",
    "충분히 제품 ID, 즉 제품의 종류에 따라 구매하는 물건이 달라질 것이지만 제품 ID가 너무 많아서 원핫인코딩을 통한 모델을 만들면 메모리 부족 문제로 실행하지 못하여 제외하였습니다.\n",
    "\n",
    "직업에 따라서 성별의 차이가 발생할 것이고 구매하는 제품에 따라서 선호하는 성별이 달라질 것이라고 생각하며 분석을 진행하겠습니다."
   ]
  },
  {
   "cell_type": "code",
   "execution_count": 2,
   "metadata": {},
   "outputs": [],
   "source": [
    "data = pd.read_csv('BlackFriday.csv')"
   ]
  },
  {
   "cell_type": "code",
   "execution_count": 3,
   "metadata": {},
   "outputs": [
    {
     "data": {
      "text/html": [
       "<div>\n",
       "<style scoped>\n",
       "    .dataframe tbody tr th:only-of-type {\n",
       "        vertical-align: middle;\n",
       "    }\n",
       "\n",
       "    .dataframe tbody tr th {\n",
       "        vertical-align: top;\n",
       "    }\n",
       "\n",
       "    .dataframe thead th {\n",
       "        text-align: right;\n",
       "    }\n",
       "</style>\n",
       "<table border=\"1\" class=\"dataframe\">\n",
       "  <thead>\n",
       "    <tr style=\"text-align: right;\">\n",
       "      <th></th>\n",
       "      <th>User_ID</th>\n",
       "      <th>Product_ID</th>\n",
       "      <th>Gender</th>\n",
       "      <th>Age</th>\n",
       "      <th>Occupation</th>\n",
       "      <th>City_Category</th>\n",
       "      <th>Stay_In_Current_City_Years</th>\n",
       "      <th>Marital_Status</th>\n",
       "      <th>Product_Category_1</th>\n",
       "      <th>Product_Category_2</th>\n",
       "      <th>Product_Category_3</th>\n",
       "      <th>Purchase</th>\n",
       "    </tr>\n",
       "  </thead>\n",
       "  <tbody>\n",
       "    <tr>\n",
       "      <th>0</th>\n",
       "      <td>1000001</td>\n",
       "      <td>P00069042</td>\n",
       "      <td>F</td>\n",
       "      <td>0-17</td>\n",
       "      <td>10</td>\n",
       "      <td>A</td>\n",
       "      <td>2</td>\n",
       "      <td>0</td>\n",
       "      <td>3</td>\n",
       "      <td>NaN</td>\n",
       "      <td>NaN</td>\n",
       "      <td>8370</td>\n",
       "    </tr>\n",
       "    <tr>\n",
       "      <th>1</th>\n",
       "      <td>1000001</td>\n",
       "      <td>P00248942</td>\n",
       "      <td>F</td>\n",
       "      <td>0-17</td>\n",
       "      <td>10</td>\n",
       "      <td>A</td>\n",
       "      <td>2</td>\n",
       "      <td>0</td>\n",
       "      <td>1</td>\n",
       "      <td>6.0</td>\n",
       "      <td>14.0</td>\n",
       "      <td>15200</td>\n",
       "    </tr>\n",
       "    <tr>\n",
       "      <th>2</th>\n",
       "      <td>1000001</td>\n",
       "      <td>P00087842</td>\n",
       "      <td>F</td>\n",
       "      <td>0-17</td>\n",
       "      <td>10</td>\n",
       "      <td>A</td>\n",
       "      <td>2</td>\n",
       "      <td>0</td>\n",
       "      <td>12</td>\n",
       "      <td>NaN</td>\n",
       "      <td>NaN</td>\n",
       "      <td>1422</td>\n",
       "    </tr>\n",
       "    <tr>\n",
       "      <th>3</th>\n",
       "      <td>1000001</td>\n",
       "      <td>P00085442</td>\n",
       "      <td>F</td>\n",
       "      <td>0-17</td>\n",
       "      <td>10</td>\n",
       "      <td>A</td>\n",
       "      <td>2</td>\n",
       "      <td>0</td>\n",
       "      <td>12</td>\n",
       "      <td>14.0</td>\n",
       "      <td>NaN</td>\n",
       "      <td>1057</td>\n",
       "    </tr>\n",
       "    <tr>\n",
       "      <th>4</th>\n",
       "      <td>1000002</td>\n",
       "      <td>P00285442</td>\n",
       "      <td>M</td>\n",
       "      <td>55+</td>\n",
       "      <td>16</td>\n",
       "      <td>C</td>\n",
       "      <td>4+</td>\n",
       "      <td>0</td>\n",
       "      <td>8</td>\n",
       "      <td>NaN</td>\n",
       "      <td>NaN</td>\n",
       "      <td>7969</td>\n",
       "    </tr>\n",
       "    <tr>\n",
       "      <th>5</th>\n",
       "      <td>1000003</td>\n",
       "      <td>P00193542</td>\n",
       "      <td>M</td>\n",
       "      <td>26-35</td>\n",
       "      <td>15</td>\n",
       "      <td>A</td>\n",
       "      <td>3</td>\n",
       "      <td>0</td>\n",
       "      <td>1</td>\n",
       "      <td>2.0</td>\n",
       "      <td>NaN</td>\n",
       "      <td>15227</td>\n",
       "    </tr>\n",
       "    <tr>\n",
       "      <th>6</th>\n",
       "      <td>1000004</td>\n",
       "      <td>P00184942</td>\n",
       "      <td>M</td>\n",
       "      <td>46-50</td>\n",
       "      <td>7</td>\n",
       "      <td>B</td>\n",
       "      <td>2</td>\n",
       "      <td>1</td>\n",
       "      <td>1</td>\n",
       "      <td>8.0</td>\n",
       "      <td>17.0</td>\n",
       "      <td>19215</td>\n",
       "    </tr>\n",
       "    <tr>\n",
       "      <th>7</th>\n",
       "      <td>1000004</td>\n",
       "      <td>P00346142</td>\n",
       "      <td>M</td>\n",
       "      <td>46-50</td>\n",
       "      <td>7</td>\n",
       "      <td>B</td>\n",
       "      <td>2</td>\n",
       "      <td>1</td>\n",
       "      <td>1</td>\n",
       "      <td>15.0</td>\n",
       "      <td>NaN</td>\n",
       "      <td>15854</td>\n",
       "    </tr>\n",
       "    <tr>\n",
       "      <th>8</th>\n",
       "      <td>1000004</td>\n",
       "      <td>P0097242</td>\n",
       "      <td>M</td>\n",
       "      <td>46-50</td>\n",
       "      <td>7</td>\n",
       "      <td>B</td>\n",
       "      <td>2</td>\n",
       "      <td>1</td>\n",
       "      <td>1</td>\n",
       "      <td>16.0</td>\n",
       "      <td>NaN</td>\n",
       "      <td>15686</td>\n",
       "    </tr>\n",
       "    <tr>\n",
       "      <th>9</th>\n",
       "      <td>1000005</td>\n",
       "      <td>P00274942</td>\n",
       "      <td>M</td>\n",
       "      <td>26-35</td>\n",
       "      <td>20</td>\n",
       "      <td>A</td>\n",
       "      <td>1</td>\n",
       "      <td>1</td>\n",
       "      <td>8</td>\n",
       "      <td>NaN</td>\n",
       "      <td>NaN</td>\n",
       "      <td>7871</td>\n",
       "    </tr>\n",
       "  </tbody>\n",
       "</table>\n",
       "</div>"
      ],
      "text/plain": [
       "   User_ID Product_ID Gender    Age  Occupation City_Category  \\\n",
       "0  1000001  P00069042      F   0-17          10             A   \n",
       "1  1000001  P00248942      F   0-17          10             A   \n",
       "2  1000001  P00087842      F   0-17          10             A   \n",
       "3  1000001  P00085442      F   0-17          10             A   \n",
       "4  1000002  P00285442      M    55+          16             C   \n",
       "5  1000003  P00193542      M  26-35          15             A   \n",
       "6  1000004  P00184942      M  46-50           7             B   \n",
       "7  1000004  P00346142      M  46-50           7             B   \n",
       "8  1000004   P0097242      M  46-50           7             B   \n",
       "9  1000005  P00274942      M  26-35          20             A   \n",
       "\n",
       "  Stay_In_Current_City_Years  Marital_Status  Product_Category_1  \\\n",
       "0                          2               0                   3   \n",
       "1                          2               0                   1   \n",
       "2                          2               0                  12   \n",
       "3                          2               0                  12   \n",
       "4                         4+               0                   8   \n",
       "5                          3               0                   1   \n",
       "6                          2               1                   1   \n",
       "7                          2               1                   1   \n",
       "8                          2               1                   1   \n",
       "9                          1               1                   8   \n",
       "\n",
       "   Product_Category_2  Product_Category_3  Purchase  \n",
       "0                 NaN                 NaN      8370  \n",
       "1                 6.0                14.0     15200  \n",
       "2                 NaN                 NaN      1422  \n",
       "3                14.0                 NaN      1057  \n",
       "4                 NaN                 NaN      7969  \n",
       "5                 2.0                 NaN     15227  \n",
       "6                 8.0                17.0     19215  \n",
       "7                15.0                 NaN     15854  \n",
       "8                16.0                 NaN     15686  \n",
       "9                 NaN                 NaN      7871  "
      ]
     },
     "execution_count": 3,
     "metadata": {},
     "output_type": "execute_result"
    }
   ],
   "source": [
    "data.head(10)"
   ]
  },
  {
   "cell_type": "code",
   "execution_count": 4,
   "metadata": {},
   "outputs": [
    {
     "data": {
      "text/html": [
       "<div>\n",
       "<style scoped>\n",
       "    .dataframe tbody tr th:only-of-type {\n",
       "        vertical-align: middle;\n",
       "    }\n",
       "\n",
       "    .dataframe tbody tr th {\n",
       "        vertical-align: top;\n",
       "    }\n",
       "\n",
       "    .dataframe thead th {\n",
       "        text-align: right;\n",
       "    }\n",
       "</style>\n",
       "<table border=\"1\" class=\"dataframe\">\n",
       "  <thead>\n",
       "    <tr style=\"text-align: right;\">\n",
       "      <th></th>\n",
       "      <th>User_ID</th>\n",
       "      <th>Product_ID</th>\n",
       "      <th>Gender</th>\n",
       "      <th>Age</th>\n",
       "      <th>Occupation</th>\n",
       "      <th>City_Category</th>\n",
       "      <th>Stay_In_Current_City_Years</th>\n",
       "      <th>Marital_Status</th>\n",
       "      <th>Product_Category_1</th>\n",
       "      <th>Product_Category_2</th>\n",
       "      <th>Product_Category_3</th>\n",
       "      <th>Purchase</th>\n",
       "    </tr>\n",
       "  </thead>\n",
       "  <tbody>\n",
       "    <tr>\n",
       "      <th>537567</th>\n",
       "      <td>1004736</td>\n",
       "      <td>P00157542</td>\n",
       "      <td>M</td>\n",
       "      <td>18-25</td>\n",
       "      <td>20</td>\n",
       "      <td>A</td>\n",
       "      <td>1</td>\n",
       "      <td>1</td>\n",
       "      <td>8</td>\n",
       "      <td>14.0</td>\n",
       "      <td>NaN</td>\n",
       "      <td>1994</td>\n",
       "    </tr>\n",
       "    <tr>\n",
       "      <th>537568</th>\n",
       "      <td>1004736</td>\n",
       "      <td>P00250642</td>\n",
       "      <td>M</td>\n",
       "      <td>18-25</td>\n",
       "      <td>20</td>\n",
       "      <td>A</td>\n",
       "      <td>1</td>\n",
       "      <td>1</td>\n",
       "      <td>11</td>\n",
       "      <td>NaN</td>\n",
       "      <td>NaN</td>\n",
       "      <td>5930</td>\n",
       "    </tr>\n",
       "    <tr>\n",
       "      <th>537569</th>\n",
       "      <td>1004736</td>\n",
       "      <td>P00023142</td>\n",
       "      <td>M</td>\n",
       "      <td>18-25</td>\n",
       "      <td>20</td>\n",
       "      <td>A</td>\n",
       "      <td>1</td>\n",
       "      <td>1</td>\n",
       "      <td>5</td>\n",
       "      <td>14.0</td>\n",
       "      <td>NaN</td>\n",
       "      <td>7042</td>\n",
       "    </tr>\n",
       "    <tr>\n",
       "      <th>537570</th>\n",
       "      <td>1004736</td>\n",
       "      <td>P00162442</td>\n",
       "      <td>M</td>\n",
       "      <td>18-25</td>\n",
       "      <td>20</td>\n",
       "      <td>A</td>\n",
       "      <td>1</td>\n",
       "      <td>1</td>\n",
       "      <td>1</td>\n",
       "      <td>16.0</td>\n",
       "      <td>NaN</td>\n",
       "      <td>15491</td>\n",
       "    </tr>\n",
       "    <tr>\n",
       "      <th>537571</th>\n",
       "      <td>1004737</td>\n",
       "      <td>P00221442</td>\n",
       "      <td>M</td>\n",
       "      <td>36-45</td>\n",
       "      <td>16</td>\n",
       "      <td>C</td>\n",
       "      <td>1</td>\n",
       "      <td>0</td>\n",
       "      <td>1</td>\n",
       "      <td>2.0</td>\n",
       "      <td>5.0</td>\n",
       "      <td>11852</td>\n",
       "    </tr>\n",
       "    <tr>\n",
       "      <th>537572</th>\n",
       "      <td>1004737</td>\n",
       "      <td>P00193542</td>\n",
       "      <td>M</td>\n",
       "      <td>36-45</td>\n",
       "      <td>16</td>\n",
       "      <td>C</td>\n",
       "      <td>1</td>\n",
       "      <td>0</td>\n",
       "      <td>1</td>\n",
       "      <td>2.0</td>\n",
       "      <td>NaN</td>\n",
       "      <td>11664</td>\n",
       "    </tr>\n",
       "    <tr>\n",
       "      <th>537573</th>\n",
       "      <td>1004737</td>\n",
       "      <td>P00111142</td>\n",
       "      <td>M</td>\n",
       "      <td>36-45</td>\n",
       "      <td>16</td>\n",
       "      <td>C</td>\n",
       "      <td>1</td>\n",
       "      <td>0</td>\n",
       "      <td>1</td>\n",
       "      <td>15.0</td>\n",
       "      <td>16.0</td>\n",
       "      <td>19196</td>\n",
       "    </tr>\n",
       "    <tr>\n",
       "      <th>537574</th>\n",
       "      <td>1004737</td>\n",
       "      <td>P00345942</td>\n",
       "      <td>M</td>\n",
       "      <td>36-45</td>\n",
       "      <td>16</td>\n",
       "      <td>C</td>\n",
       "      <td>1</td>\n",
       "      <td>0</td>\n",
       "      <td>8</td>\n",
       "      <td>15.0</td>\n",
       "      <td>NaN</td>\n",
       "      <td>8043</td>\n",
       "    </tr>\n",
       "    <tr>\n",
       "      <th>537575</th>\n",
       "      <td>1004737</td>\n",
       "      <td>P00285842</td>\n",
       "      <td>M</td>\n",
       "      <td>36-45</td>\n",
       "      <td>16</td>\n",
       "      <td>C</td>\n",
       "      <td>1</td>\n",
       "      <td>0</td>\n",
       "      <td>5</td>\n",
       "      <td>NaN</td>\n",
       "      <td>NaN</td>\n",
       "      <td>7172</td>\n",
       "    </tr>\n",
       "    <tr>\n",
       "      <th>537576</th>\n",
       "      <td>1004737</td>\n",
       "      <td>P00118242</td>\n",
       "      <td>M</td>\n",
       "      <td>36-45</td>\n",
       "      <td>16</td>\n",
       "      <td>C</td>\n",
       "      <td>1</td>\n",
       "      <td>0</td>\n",
       "      <td>5</td>\n",
       "      <td>8.0</td>\n",
       "      <td>NaN</td>\n",
       "      <td>6875</td>\n",
       "    </tr>\n",
       "  </tbody>\n",
       "</table>\n",
       "</div>"
      ],
      "text/plain": [
       "        User_ID Product_ID Gender    Age  Occupation City_Category  \\\n",
       "537567  1004736  P00157542      M  18-25          20             A   \n",
       "537568  1004736  P00250642      M  18-25          20             A   \n",
       "537569  1004736  P00023142      M  18-25          20             A   \n",
       "537570  1004736  P00162442      M  18-25          20             A   \n",
       "537571  1004737  P00221442      M  36-45          16             C   \n",
       "537572  1004737  P00193542      M  36-45          16             C   \n",
       "537573  1004737  P00111142      M  36-45          16             C   \n",
       "537574  1004737  P00345942      M  36-45          16             C   \n",
       "537575  1004737  P00285842      M  36-45          16             C   \n",
       "537576  1004737  P00118242      M  36-45          16             C   \n",
       "\n",
       "       Stay_In_Current_City_Years  Marital_Status  Product_Category_1  \\\n",
       "537567                          1               1                   8   \n",
       "537568                          1               1                  11   \n",
       "537569                          1               1                   5   \n",
       "537570                          1               1                   1   \n",
       "537571                          1               0                   1   \n",
       "537572                          1               0                   1   \n",
       "537573                          1               0                   1   \n",
       "537574                          1               0                   8   \n",
       "537575                          1               0                   5   \n",
       "537576                          1               0                   5   \n",
       "\n",
       "        Product_Category_2  Product_Category_3  Purchase  \n",
       "537567                14.0                 NaN      1994  \n",
       "537568                 NaN                 NaN      5930  \n",
       "537569                14.0                 NaN      7042  \n",
       "537570                16.0                 NaN     15491  \n",
       "537571                 2.0                 5.0     11852  \n",
       "537572                 2.0                 NaN     11664  \n",
       "537573                15.0                16.0     19196  \n",
       "537574                15.0                 NaN      8043  \n",
       "537575                 NaN                 NaN      7172  \n",
       "537576                 8.0                 NaN      6875  "
      ]
     },
     "execution_count": 4,
     "metadata": {},
     "output_type": "execute_result"
    }
   ],
   "source": [
    "data.tail(10)"
   ]
  },
  {
   "cell_type": "code",
   "execution_count": 5,
   "metadata": {},
   "outputs": [
    {
     "data": {
      "text/html": [
       "<div>\n",
       "<style scoped>\n",
       "    .dataframe tbody tr th:only-of-type {\n",
       "        vertical-align: middle;\n",
       "    }\n",
       "\n",
       "    .dataframe tbody tr th {\n",
       "        vertical-align: top;\n",
       "    }\n",
       "\n",
       "    .dataframe thead th {\n",
       "        text-align: right;\n",
       "    }\n",
       "</style>\n",
       "<table border=\"1\" class=\"dataframe\">\n",
       "  <thead>\n",
       "    <tr style=\"text-align: right;\">\n",
       "      <th></th>\n",
       "      <th>User_ID</th>\n",
       "      <th>Product_ID</th>\n",
       "      <th>Gender</th>\n",
       "      <th>Age</th>\n",
       "      <th>Occupation</th>\n",
       "      <th>City_Category</th>\n",
       "      <th>Stay_In_Current_City_Years</th>\n",
       "      <th>Marital_Status</th>\n",
       "      <th>Product_Category_1</th>\n",
       "      <th>Product_Category_2</th>\n",
       "      <th>Product_Category_3</th>\n",
       "      <th>Purchase</th>\n",
       "    </tr>\n",
       "  </thead>\n",
       "  <tbody>\n",
       "    <tr>\n",
       "      <th>3</th>\n",
       "      <td>1000001</td>\n",
       "      <td>P00085442</td>\n",
       "      <td>F</td>\n",
       "      <td>0-17</td>\n",
       "      <td>10</td>\n",
       "      <td>A</td>\n",
       "      <td>2</td>\n",
       "      <td>0</td>\n",
       "      <td>12</td>\n",
       "      <td>14.0</td>\n",
       "      <td>NaN</td>\n",
       "      <td>1057</td>\n",
       "    </tr>\n",
       "    <tr>\n",
       "      <th>322</th>\n",
       "      <td>1000053</td>\n",
       "      <td>P00085442</td>\n",
       "      <td>M</td>\n",
       "      <td>26-35</td>\n",
       "      <td>0</td>\n",
       "      <td>B</td>\n",
       "      <td>1</td>\n",
       "      <td>0</td>\n",
       "      <td>12</td>\n",
       "      <td>14.0</td>\n",
       "      <td>NaN</td>\n",
       "      <td>1752</td>\n",
       "    </tr>\n",
       "    <tr>\n",
       "      <th>973</th>\n",
       "      <td>1000169</td>\n",
       "      <td>P00085442</td>\n",
       "      <td>M</td>\n",
       "      <td>26-35</td>\n",
       "      <td>7</td>\n",
       "      <td>B</td>\n",
       "      <td>3</td>\n",
       "      <td>0</td>\n",
       "      <td>12</td>\n",
       "      <td>14.0</td>\n",
       "      <td>NaN</td>\n",
       "      <td>1434</td>\n",
       "    </tr>\n",
       "    <tr>\n",
       "      <th>2024</th>\n",
       "      <td>1000323</td>\n",
       "      <td>P00085442</td>\n",
       "      <td>M</td>\n",
       "      <td>46-50</td>\n",
       "      <td>12</td>\n",
       "      <td>C</td>\n",
       "      <td>1</td>\n",
       "      <td>0</td>\n",
       "      <td>12</td>\n",
       "      <td>14.0</td>\n",
       "      <td>NaN</td>\n",
       "      <td>1714</td>\n",
       "    </tr>\n",
       "    <tr>\n",
       "      <th>11978</th>\n",
       "      <td>1001796</td>\n",
       "      <td>P00085442</td>\n",
       "      <td>M</td>\n",
       "      <td>51-55</td>\n",
       "      <td>11</td>\n",
       "      <td>C</td>\n",
       "      <td>2</td>\n",
       "      <td>1</td>\n",
       "      <td>12</td>\n",
       "      <td>14.0</td>\n",
       "      <td>NaN</td>\n",
       "      <td>1423</td>\n",
       "    </tr>\n",
       "  </tbody>\n",
       "</table>\n",
       "</div>"
      ],
      "text/plain": [
       "       User_ID Product_ID Gender    Age  Occupation City_Category  \\\n",
       "3      1000001  P00085442      F   0-17          10             A   \n",
       "322    1000053  P00085442      M  26-35           0             B   \n",
       "973    1000169  P00085442      M  26-35           7             B   \n",
       "2024   1000323  P00085442      M  46-50          12             C   \n",
       "11978  1001796  P00085442      M  51-55          11             C   \n",
       "\n",
       "      Stay_In_Current_City_Years  Marital_Status  Product_Category_1  \\\n",
       "3                              2               0                  12   \n",
       "322                            1               0                  12   \n",
       "973                            3               0                  12   \n",
       "2024                           1               0                  12   \n",
       "11978                          2               1                  12   \n",
       "\n",
       "       Product_Category_2  Product_Category_3  Purchase  \n",
       "3                    14.0                 NaN      1057  \n",
       "322                  14.0                 NaN      1752  \n",
       "973                  14.0                 NaN      1434  \n",
       "2024                 14.0                 NaN      1714  \n",
       "11978                14.0                 NaN      1423  "
      ]
     },
     "execution_count": 5,
     "metadata": {},
     "output_type": "execute_result"
    }
   ],
   "source": [
    "# 동일한 제품 ID의 경우 Product_Category가 동일하다는 것을 알 수 있다.\n",
    "data[data['Product_ID'] == 'P00085442'].head()"
   ]
  },
  {
   "cell_type": "code",
   "execution_count": 6,
   "metadata": {},
   "outputs": [
    {
     "name": "stdout",
     "output_type": "stream",
     "text": [
      "====================================================================================================\n",
      "User_ID의 고유한 데이터의 개수는: 5891\n",
      "User_ID의 고유한 데이터의 개수가 50개를 넘어 시각화하지 않습니다.\n",
      "====================================================================================================\n",
      "====================================================================================================\n",
      "Product_ID의 고유한 데이터의 개수는: 3623\n",
      "Product_ID의 고유한 데이터의 개수가 50개를 넘어 시각화하지 않습니다.\n",
      "====================================================================================================\n",
      "====================================================================================================\n",
      "Gender의 고유한 데이터의 개수는: 2\n",
      "Gender의 고유한 데이터는: ['F' 'M']\n",
      "====================================================================================================\n",
      "====================================================================================================\n",
      "Age의 고유한 데이터의 개수는: 7\n",
      "Age의 고유한 데이터는: ['0-17' '55+' '26-35' '46-50' '51-55' '36-45' '18-25']\n",
      "====================================================================================================\n",
      "====================================================================================================\n",
      "Occupation의 고유한 데이터의 개수는: 21\n",
      "Occupation의 고유한 데이터는: [10 16 15  7 20  9  1 12 17  0  3  4 11  8 19  2 18  5 14 13  6]\n",
      "====================================================================================================\n",
      "====================================================================================================\n",
      "City_Category의 고유한 데이터의 개수는: 3\n",
      "City_Category의 고유한 데이터는: ['A' 'C' 'B']\n",
      "====================================================================================================\n",
      "====================================================================================================\n",
      "Stay_In_Current_City_Years의 고유한 데이터의 개수는: 5\n",
      "Stay_In_Current_City_Years의 고유한 데이터는: ['2' '4+' '3' '1' '0']\n",
      "====================================================================================================\n",
      "====================================================================================================\n",
      "Marital_Status의 고유한 데이터의 개수는: 2\n",
      "Marital_Status의 고유한 데이터는: [0 1]\n",
      "====================================================================================================\n",
      "====================================================================================================\n",
      "Product_Category_1의 고유한 데이터의 개수는: 18\n",
      "Product_Category_1의 고유한 데이터는: [ 3  1 12  8  5  4  2  6 14 11 13 15  7 16 18 10 17  9]\n",
      "====================================================================================================\n",
      "====================================================================================================\n",
      "Product_Category_2의 고유한 데이터의 개수는: 17\n",
      "Product_Category_2의 고유한 데이터는: [nan  6. 14.  2.  8. 15. 16. 11.  5.  3.  4. 12.  9. 10. 17. 13.  7. 18.]\n",
      "====================================================================================================\n",
      "====================================================================================================\n",
      "Product_Category_3의 고유한 데이터의 개수는: 15\n",
      "Product_Category_3의 고유한 데이터는: [nan 14. 17.  5.  4. 16. 15.  8.  9. 13.  6. 12.  3. 18. 11. 10.]\n",
      "====================================================================================================\n",
      "====================================================================================================\n",
      "Purchase의 고유한 데이터의 개수는: 17959\n",
      "Purchase의 고유한 데이터의 개수가 50개를 넘어 시각화하지 않습니다.\n",
      "====================================================================================================\n"
     ]
    }
   ],
   "source": [
    "# 각 칼럼별 고유한 데이터의 값과 개수를 나타내는 함수\n",
    "def getUniqueData(df, col):\n",
    "    unique_data = df[col].unique()\n",
    "    unique_count = df[col].nunique()\n",
    "    print('='* 100)\n",
    "    print(f'{col}의 고유한 데이터의 개수는: {unique_count}')\n",
    "    if unique_count >= 50: print(f'{col}의 고유한 데이터의 개수가 50개를 넘어 시각화하지 않습니다.')\n",
    "    else: print(f'{col}의 고유한 데이터는: {unique_data}')\n",
    "    print('='* 100)\n",
    "    \n",
    "cols = data.columns\n",
    "for col in cols:\n",
    "    getUniqueData(data, col)"
   ]
  },
  {
   "cell_type": "code",
   "execution_count": 7,
   "metadata": {},
   "outputs": [
    {
     "name": "stdout",
     "output_type": "stream",
     "text": [
      "<class 'pandas.core.frame.DataFrame'>\n",
      "RangeIndex: 537577 entries, 0 to 537576\n",
      "Data columns (total 12 columns):\n",
      " #   Column                      Non-Null Count   Dtype  \n",
      "---  ------                      --------------   -----  \n",
      " 0   User_ID                     537577 non-null  int64  \n",
      " 1   Product_ID                  537577 non-null  object \n",
      " 2   Gender                      537577 non-null  object \n",
      " 3   Age                         537577 non-null  object \n",
      " 4   Occupation                  537577 non-null  int64  \n",
      " 5   City_Category               537577 non-null  object \n",
      " 6   Stay_In_Current_City_Years  537577 non-null  object \n",
      " 7   Marital_Status              537577 non-null  int64  \n",
      " 8   Product_Category_1          537577 non-null  int64  \n",
      " 9   Product_Category_2          370591 non-null  float64\n",
      " 10  Product_Category_3          164278 non-null  float64\n",
      " 11  Purchase                    537577 non-null  int64  \n",
      "dtypes: float64(2), int64(5), object(5)\n",
      "memory usage: 49.2+ MB\n"
     ]
    }
   ],
   "source": [
    "data.info()"
   ]
  },
  {
   "cell_type": "markdown",
   "metadata": {},
   "source": [
    "User_ID를 통하여 현재 주어진 데이터는 5891명의 고객 데이터임을 알 수 있다.\n",
    "\n",
    "Product_ID를 통하여 현재 주어진 데이터는 3623개의 제품이 존재함을 알 수 있다.\n",
    "\n",
    "또한 Purchase를 제외한 모든 변수가 범주형 변수로 해석되어야 함도 알 수 있다.\n",
    "\n",
    "결측치가 존재하는 Product_Category의 경우 구매하는 제품이 대분류에는 속하지만 그 밑에 분류에는 해당되는 값이 없다고 할 수 있다. 따라서 결측치를 따로 채울수는 없을 것이며 사용을 한다면 Product_Category_1만을 사용하는 것이 바람직한 방법이라고 생각된다.\n",
    "\n",
    "주어진 데이터는 5891명의 고객의 구매한 제품에 대한 데이터라고 볼 수 있다."
   ]
  },
  {
   "cell_type": "markdown",
   "metadata": {},
   "source": [
    "# Data Preprocessing\n",
    "\n",
    "1. Purchase를 제외한 모든 변수가 사실상 범주형 변수이기 때문에 모든 변수를 범주형 변수로 바꾸어 주는 과정을 진행한다.\n",
    "\n",
    "2. 동일한 상품의 경우 Product_Category가 같기 때문에 Product_Category를 하나로 묶어서 현재 데이터에 존재하는 모든 상품의 카테고리를 얻을 수 있을 것이다."
   ]
  },
  {
   "cell_type": "code",
   "execution_count": 8,
   "metadata": {},
   "outputs": [],
   "source": [
    "# Product_Category를 하나로 묶어 전체 제품의 카테고리를 의미하는 Product_Category_total을 새롭게 만들었다.\n",
    "data['Product_Category_total'] = data.apply(lambda x : str(x['Product_Category_1']) + '_' + str(x['Product_Category_2']) + '_' + str(x['Product_Category_3']), axis = 1)"
   ]
  },
  {
   "cell_type": "code",
   "execution_count": 9,
   "metadata": {},
   "outputs": [
    {
     "name": "stdout",
     "output_type": "stream",
     "text": [
      "<class 'pandas.core.frame.DataFrame'>\n",
      "RangeIndex: 537577 entries, 0 to 537576\n",
      "Data columns (total 13 columns):\n",
      " #   Column                      Non-Null Count   Dtype  \n",
      "---  ------                      --------------   -----  \n",
      " 0   User_ID                     537577 non-null  int64  \n",
      " 1   Product_ID                  537577 non-null  object \n",
      " 2   Gender                      537577 non-null  object \n",
      " 3   Age                         537577 non-null  object \n",
      " 4   Occupation                  537577 non-null  int64  \n",
      " 5   City_Category               537577 non-null  object \n",
      " 6   Stay_In_Current_City_Years  537577 non-null  object \n",
      " 7   Marital_Status              537577 non-null  int64  \n",
      " 8   Product_Category_1          537577 non-null  int64  \n",
      " 9   Product_Category_2          370591 non-null  float64\n",
      " 10  Product_Category_3          164278 non-null  float64\n",
      " 11  Purchase                    537577 non-null  int64  \n",
      " 12  Product_Category_total      537577 non-null  object \n",
      "dtypes: float64(2), int64(5), object(6)\n",
      "memory usage: 53.3+ MB\n"
     ]
    }
   ],
   "source": [
    "data.info()"
   ]
  },
  {
   "cell_type": "markdown",
   "metadata": {},
   "source": [
    "Product_Category의 경우 대, 중, 소 분류로 나누어지지만 대분류에는 속하지만 중, 소 분류에 속하지 않은 데이터가 존재하므로\n",
    "\n",
    "Product_Category를 하나로 묶어 전체 제품의 카테고리를 의미하는 Product_Category_total을 새롭게 만들었다.\n",
    "\n",
    "추후에 범주형 데이터의 경우 원핫인코딩을 사용할 예정이므로 정수형 변수의 경우 문자형 변수로 변경해주는 과정을 진행하겠다."
   ]
  },
  {
   "cell_type": "code",
   "execution_count": 10,
   "metadata": {},
   "outputs": [],
   "source": [
    "data['Occupation'] = data['Occupation'].astype(str)\n",
    "data['Marital_Status'] = data['Marital_Status'].astype(str)\n",
    "data['Product_Category_1'] = data['Product_Category_1'].astype(str)\n",
    "\n",
    "# 타겟 데이터 라벨 인코딩\n",
    "# F = 1 (여성)\n",
    "# M = 0 (남성)\n",
    "data['target'] = data['Gender'].map(lambda x : 1 if x == 'F' else 0)"
   ]
  },
  {
   "cell_type": "code",
   "execution_count": 11,
   "metadata": {},
   "outputs": [
    {
     "name": "stdout",
     "output_type": "stream",
     "text": [
      "====================================================================================================\n",
      "User_ID의 고유한 데이터의 개수는: 5891\n",
      "User_ID의 고유한 데이터의 개수가 50개를 넘어 시각화하지 않습니다.\n",
      "====================================================================================================\n",
      "====================================================================================================\n",
      "Product_ID의 고유한 데이터의 개수는: 3623\n",
      "Product_ID의 고유한 데이터의 개수가 50개를 넘어 시각화하지 않습니다.\n",
      "====================================================================================================\n",
      "====================================================================================================\n",
      "Gender의 고유한 데이터의 개수는: 2\n",
      "Gender의 고유한 데이터는: ['F' 'M']\n",
      "====================================================================================================\n",
      "====================================================================================================\n",
      "Age의 고유한 데이터의 개수는: 7\n",
      "Age의 고유한 데이터는: ['0-17' '55+' '26-35' '46-50' '51-55' '36-45' '18-25']\n",
      "====================================================================================================\n",
      "====================================================================================================\n",
      "Occupation의 고유한 데이터의 개수는: 21\n",
      "Occupation의 고유한 데이터는: ['10' '16' '15' '7' '20' '9' '1' '12' '17' '0' '3' '4' '11' '8' '19' '2'\n",
      " '18' '5' '14' '13' '6']\n",
      "====================================================================================================\n",
      "====================================================================================================\n",
      "City_Category의 고유한 데이터의 개수는: 3\n",
      "City_Category의 고유한 데이터는: ['A' 'C' 'B']\n",
      "====================================================================================================\n",
      "====================================================================================================\n",
      "Stay_In_Current_City_Years의 고유한 데이터의 개수는: 5\n",
      "Stay_In_Current_City_Years의 고유한 데이터는: ['2' '4+' '3' '1' '0']\n",
      "====================================================================================================\n",
      "====================================================================================================\n",
      "Marital_Status의 고유한 데이터의 개수는: 2\n",
      "Marital_Status의 고유한 데이터는: ['0' '1']\n",
      "====================================================================================================\n",
      "====================================================================================================\n",
      "Product_Category_1의 고유한 데이터의 개수는: 18\n",
      "Product_Category_1의 고유한 데이터는: ['3' '1' '12' '8' '5' '4' '2' '6' '14' '11' '13' '15' '7' '16' '18' '10'\n",
      " '17' '9']\n",
      "====================================================================================================\n",
      "====================================================================================================\n",
      "Product_Category_2의 고유한 데이터의 개수는: 17\n",
      "Product_Category_2의 고유한 데이터는: [nan  6. 14.  2.  8. 15. 16. 11.  5.  3.  4. 12.  9. 10. 17. 13.  7. 18.]\n",
      "====================================================================================================\n",
      "====================================================================================================\n",
      "Product_Category_3의 고유한 데이터의 개수는: 15\n",
      "Product_Category_3의 고유한 데이터는: [nan 14. 17.  5.  4. 16. 15.  8.  9. 13.  6. 12.  3. 18. 11. 10.]\n",
      "====================================================================================================\n",
      "====================================================================================================\n",
      "Purchase의 고유한 데이터의 개수는: 17959\n",
      "Purchase의 고유한 데이터의 개수가 50개를 넘어 시각화하지 않습니다.\n",
      "====================================================================================================\n",
      "====================================================================================================\n",
      "Product_Category_total의 고유한 데이터의 개수는: 235\n",
      "Product_Category_total의 고유한 데이터의 개수가 50개를 넘어 시각화하지 않습니다.\n",
      "====================================================================================================\n",
      "====================================================================================================\n",
      "target의 고유한 데이터의 개수는: 2\n",
      "target의 고유한 데이터는: [1 0]\n",
      "====================================================================================================\n"
     ]
    }
   ],
   "source": [
    "cols = data.columns\n",
    "for col in cols:\n",
    "    getUniqueData(data, col)"
   ]
  },
  {
   "cell_type": "markdown",
   "metadata": {},
   "source": [
    "# EDA"
   ]
  },
  {
   "cell_type": "markdown",
   "metadata": {},
   "source": [
    "### User_ID - 고객 ID"
   ]
  },
  {
   "cell_type": "code",
   "execution_count": 12,
   "metadata": {},
   "outputs": [
    {
     "name": "stdout",
     "output_type": "stream",
     "text": [
      "현재 데이터의 고객의 수: 5891\n",
      "현재 데이터에서 고객의 성별 모두 1대1로 매칭이 되느냐? True\n"
     ]
    }
   ],
   "source": [
    "user_count = data['User_ID'].nunique()\n",
    "user_gender_cout = len(data.groupby(['User_ID', 'Gender']).count().index)\n",
    "\n",
    "print(f'현재 데이터의 고객의 수: {user_count}')\n",
    "print(f'현재 데이터에서 고객의 성별 모두 1대1로 매칭이 되느냐? {user_count == user_gender_cout}')"
   ]
  },
  {
   "cell_type": "markdown",
   "metadata": {},
   "source": [
    "고객 ID의 경우 고유값이기 때문에 고객과의 성별과 1대1로 매칭이 된다.\n",
    "\n",
    "이는 모델을 평가할 때 고객 ID를 픽쳐로 활용한다면 고객별로 성별을 분류해주기 때문에 아마 유의미한 픽쳐의 역할을 해줄 것이다.\n",
    "\n",
    "하지만 우리의 목표는 일반화된 모델을 만드는 것이다. 따라서 User_ID의 경우 고유값이기 때문에 고객과의 성별과 1대1로 매칭이 되기 때문에 사용하지 않을 것이다."
   ]
  },
  {
   "cell_type": "markdown",
   "metadata": {},
   "source": [
    "### Product_ID - 제품 ID"
   ]
  },
  {
   "cell_type": "code",
   "execution_count": 13,
   "metadata": {},
   "outputs": [
    {
     "name": "stdout",
     "output_type": "stream",
     "text": [
      "현재 데이터에 존재하는 제품의 수: 3623\n"
     ]
    }
   ],
   "source": [
    "product_count = data['Product_ID'].nunique()\n",
    "print(f'현재 데이터에 존재하는 제품의 수: {product_count}')"
   ]
  },
  {
   "cell_type": "markdown",
   "metadata": {},
   "source": [
    "충분히 제품의 종류에 따라 구매하는 물건이 달라질 것이지만 제품 ID가 너무 많아서 원핫인코딩을 통하여 모델을 만들면 메모리 부족 문제가 발생하여 실행을 하지 못하였습니다.\n",
    "\n",
    "메모리 부족 문제로 현 칼럼은 사용할 수 없었습니다."
   ]
  },
  {
   "cell_type": "markdown",
   "metadata": {},
   "source": [
    "### Purchase - 구입 가격"
   ]
  },
  {
   "cell_type": "code",
   "execution_count": 14,
   "metadata": {},
   "outputs": [
    {
     "data": {
      "text/html": [
       "<div>\n",
       "<style scoped>\n",
       "    .dataframe tbody tr th:only-of-type {\n",
       "        vertical-align: middle;\n",
       "    }\n",
       "\n",
       "    .dataframe tbody tr th {\n",
       "        vertical-align: top;\n",
       "    }\n",
       "\n",
       "    .dataframe thead th {\n",
       "        text-align: right;\n",
       "    }\n",
       "</style>\n",
       "<table border=\"1\" class=\"dataframe\">\n",
       "  <thead>\n",
       "    <tr style=\"text-align: right;\">\n",
       "      <th></th>\n",
       "      <th>User_ID</th>\n",
       "      <th>Product_ID</th>\n",
       "      <th>Gender</th>\n",
       "      <th>Age</th>\n",
       "      <th>Occupation</th>\n",
       "      <th>City_Category</th>\n",
       "      <th>Stay_In_Current_City_Years</th>\n",
       "      <th>Marital_Status</th>\n",
       "      <th>Product_Category_1</th>\n",
       "      <th>Product_Category_2</th>\n",
       "      <th>Product_Category_3</th>\n",
       "      <th>Purchase</th>\n",
       "      <th>Product_Category_total</th>\n",
       "      <th>target</th>\n",
       "    </tr>\n",
       "  </thead>\n",
       "  <tbody>\n",
       "    <tr>\n",
       "      <th>405</th>\n",
       "      <td>1000068</td>\n",
       "      <td>P00248942</td>\n",
       "      <td>M</td>\n",
       "      <td>18-25</td>\n",
       "      <td>4</td>\n",
       "      <td>A</td>\n",
       "      <td>0</td>\n",
       "      <td>0</td>\n",
       "      <td>1</td>\n",
       "      <td>6.0</td>\n",
       "      <td>14.0</td>\n",
       "      <td>11429</td>\n",
       "      <td>1_6.0_14.0</td>\n",
       "      <td>0</td>\n",
       "    </tr>\n",
       "    <tr>\n",
       "      <th>373276</th>\n",
       "      <td>1003509</td>\n",
       "      <td>P00248942</td>\n",
       "      <td>M</td>\n",
       "      <td>18-25</td>\n",
       "      <td>4</td>\n",
       "      <td>A</td>\n",
       "      <td>0</td>\n",
       "      <td>0</td>\n",
       "      <td>1</td>\n",
       "      <td>6.0</td>\n",
       "      <td>14.0</td>\n",
       "      <td>19601</td>\n",
       "      <td>1_6.0_14.0</td>\n",
       "      <td>0</td>\n",
       "    </tr>\n",
       "    <tr>\n",
       "      <th>536492</th>\n",
       "      <td>1004567</td>\n",
       "      <td>P00248942</td>\n",
       "      <td>M</td>\n",
       "      <td>18-25</td>\n",
       "      <td>4</td>\n",
       "      <td>A</td>\n",
       "      <td>0</td>\n",
       "      <td>0</td>\n",
       "      <td>1</td>\n",
       "      <td>6.0</td>\n",
       "      <td>14.0</td>\n",
       "      <td>19132</td>\n",
       "      <td>1_6.0_14.0</td>\n",
       "      <td>0</td>\n",
       "    </tr>\n",
       "  </tbody>\n",
       "</table>\n",
       "</div>"
      ],
      "text/plain": [
       "        User_ID Product_ID Gender    Age Occupation City_Category  \\\n",
       "405     1000068  P00248942      M  18-25          4             A   \n",
       "373276  1003509  P00248942      M  18-25          4             A   \n",
       "536492  1004567  P00248942      M  18-25          4             A   \n",
       "\n",
       "       Stay_In_Current_City_Years Marital_Status Product_Category_1  \\\n",
       "405                             0              0                  1   \n",
       "373276                          0              0                  1   \n",
       "536492                          0              0                  1   \n",
       "\n",
       "        Product_Category_2  Product_Category_3  Purchase  \\\n",
       "405                    6.0                14.0     11429   \n",
       "373276                 6.0                14.0     19601   \n",
       "536492                 6.0                14.0     19132   \n",
       "\n",
       "       Product_Category_total  target  \n",
       "405                1_6.0_14.0       0  \n",
       "373276             1_6.0_14.0       0  \n",
       "536492             1_6.0_14.0       0  "
      ]
     },
     "execution_count": 14,
     "metadata": {},
     "output_type": "execute_result"
    }
   ],
   "source": [
    "data[\n",
    "    (data['Product_ID'] == 'P00248942') &\n",
    "    (data['Gender'] == 'M') &\n",
    "    (data['Age'] == '18-25') &\n",
    "    (data['Occupation'] == '4') &\n",
    "    (data['City_Category'] == 'A') &\n",
    "    (data['Stay_In_Current_City_Years'] == '0') &\n",
    "    (data['Product_Category_1'] == '1') &\n",
    "    (data['Product_Category_2'] == 6) &\n",
    "    (data['Product_Category_3'] == 14)\n",
    "]\n",
    "\n",
    "# 동일한 제품이며\n",
    "# 다른 픽쳐들도 동일하지만 \n",
    "# 가격이 다르다는 사실을 알 수 있다."
   ]
  },
  {
   "cell_type": "markdown",
   "metadata": {},
   "source": [
    "Purchase의 경우 동일한 제품이며 다른 픽쳐들도 동일하지만 구매 가격이 다른 것을 확인할 수 있다. 이는 사람의 개인적인 역량(할인을 더 시키기위해 하는 활동)이 제품을 구매하는데 큰 영향을 줄 수 있다는 것을 의미한다. 성별에 따라서 제품을 구매하는 가격의 차이는 충분히 존재하겠지만 User_ID를 제외한 모든 픽쳐가 동일한 상태에서 Purchase가 다른 경우가 발생되기 때문에 모델이 성별을 분류하는데 악영향을 줄 것이라고 생각된다. 따라서 모델 예측에는 활용하지 않을 것이다."
   ]
  },
  {
   "cell_type": "markdown",
   "metadata": {},
   "source": [
    "## 데이터 셋을 어떻게 나눌 것인가?"
   ]
  },
  {
   "cell_type": "code",
   "execution_count": 15,
   "metadata": {},
   "outputs": [
    {
     "name": "stdout",
     "output_type": "stream",
     "text": [
      "====================================================================================================\n",
      "User_ID의 고유한 데이터의 개수는: 5891\n",
      "User_ID의 고유한 데이터의 개수가 50개를 넘어 시각화하지 않습니다.\n",
      "====================================================================================================\n",
      "====================================================================================================\n",
      "Product_ID의 고유한 데이터의 개수는: 1611\n",
      "Product_ID의 고유한 데이터의 개수가 50개를 넘어 시각화하지 않습니다.\n",
      "====================================================================================================\n",
      "====================================================================================================\n",
      "Gender의 고유한 데이터의 개수는: 2\n",
      "Gender의 고유한 데이터는: ['F' 'M']\n",
      "====================================================================================================\n",
      "====================================================================================================\n",
      "Age의 고유한 데이터의 개수는: 7\n",
      "Age의 고유한 데이터는: ['0-17' '55+' '26-35' '46-50' '51-55' '36-45' '18-25']\n",
      "====================================================================================================\n",
      "====================================================================================================\n",
      "Occupation의 고유한 데이터의 개수는: 21\n",
      "Occupation의 고유한 데이터는: ['10' '16' '15' '7' '20' '9' '1' '12' '17' '0' '3' '4' '11' '8' '19' '2'\n",
      " '18' '5' '14' '13' '6']\n",
      "====================================================================================================\n",
      "====================================================================================================\n",
      "City_Category의 고유한 데이터의 개수는: 3\n",
      "City_Category의 고유한 데이터는: ['A' 'C' 'B']\n",
      "====================================================================================================\n",
      "====================================================================================================\n",
      "Stay_In_Current_City_Years의 고유한 데이터의 개수는: 5\n",
      "Stay_In_Current_City_Years의 고유한 데이터는: ['2' '4+' '3' '1' '0']\n",
      "====================================================================================================\n",
      "====================================================================================================\n",
      "Marital_Status의 고유한 데이터의 개수는: 2\n",
      "Marital_Status의 고유한 데이터는: ['0' '1']\n",
      "====================================================================================================\n",
      "====================================================================================================\n",
      "Product_Category_1의 고유한 데이터의 개수는: 18\n",
      "Product_Category_1의 고유한 데이터는: ['3' '8' '1' '5' '6' '2' '13' '4' '16' '11' '15' '18' '12' '10' '7' '14'\n",
      " '9' '17']\n",
      "====================================================================================================\n",
      "====================================================================================================\n",
      "Product_Category_2의 고유한 데이터의 개수는: 17\n",
      "Product_Category_2의 고유한 데이터는: [nan  2.  8. 14.  5.  4. 17.  6. 11. 12. 16. 15. 10.  9.  3. 13. 18.  7.]\n",
      "====================================================================================================\n",
      "====================================================================================================\n",
      "Product_Category_3의 고유한 데이터의 개수는: 15\n",
      "Product_Category_3의 고유한 데이터는: [nan 17. 14. 16. 15.  8.  3.  9. 18.  5. 13.  6. 12. 10. 11.  4.]\n",
      "====================================================================================================\n",
      "====================================================================================================\n",
      "Purchase의 고유한 데이터의 개수는: 4133\n",
      "Purchase의 고유한 데이터의 개수가 50개를 넘어 시각화하지 않습니다.\n",
      "====================================================================================================\n",
      "====================================================================================================\n",
      "Product_Category_total의 고유한 데이터의 개수는: 206\n",
      "Product_Category_total의 고유한 데이터의 개수가 50개를 넘어 시각화하지 않습니다.\n",
      "====================================================================================================\n",
      "====================================================================================================\n",
      "target의 고유한 데이터의 개수는: 2\n",
      "target의 고유한 데이터는: [1 0]\n",
      "====================================================================================================\n"
     ]
    }
   ],
   "source": [
    "# 중복되는 유저ID를 제거하여 고객의 신상정보에 대한 전체 칼럼을 구한다.\n",
    "drop_data = data.drop_duplicates(['User_ID'])\n",
    "\n",
    "cols = drop_data.columns\n",
    "for col in cols:\n",
    "    getUniqueData(drop_data, col)"
   ]
  },
  {
   "cell_type": "markdown",
   "metadata": {},
   "source": [
    "우리는 앞에서 고객 ID와 성별이 1대1로 매칭된다는 것을 알게 되었다.\n",
    "\n",
    "그리고 위 결과를 통하여 고객 ID에 대하여 고객의 신상정보와 관련된 데이터는 모두 1대1로 매칭되어 있다는 것을 확인했다.\n",
    "\n",
    "그러면 고객의 신상정보와 관련된 데이터가 오버샘플링 되어 있다는 것을 의미한다.\n",
    "\n",
    "예를 들어 1번 고객이 3종류의 다른 물건을 구입하였는데 레코드는 3개가 남기 때문에 신상정보에 대한 데이터도 동일한 값이 3개가 기록되어 의미 없는 데이터가 축적되었다는 것이다.\n",
    "\n",
    "이는 모델에 넣었을 때 1번 고객이 10개의 물건을 구입하였고 그의 성별은 F이고 직업이 1이라면 각각 10개의 데이터가 들어가 있을 것이다. \n",
    "\n",
    "그리고 2번 고객이 5개의 물건을 구입하였고 그의 성별이 F이고 직업이 2라면 각각 5개의 데이터가 들어가 있을 것이다.\n",
    "\n",
    "그러면 모델은 F라는 성별을 예측하는데 1이라는 직업이 더 많이 존재하기 때문에 직업 2보다 더 중요하게 여길 것이다.\n",
    "\n",
    "그렇다면 이는 사실상 모델이 직업의 중요성을 가지고 판단한 것이 아닌 더 많은 물건을 구매한 고객을 중요하게 여겨 값을 예측한 것이 된다. 이는 제대로된 예측을 했다고 볼 수 없다.\n",
    "\n",
    "따라서 이제 우리는 선택을 해야한다.\n",
    "\n",
    "중복되는 고객 ID에 대한 데이터를 제거하여 고객 신상정보를 바탕으로 성별을 예측할 것인지\n",
    "\n",
    "아니면 고객 신상정보 데이터를 활용하지 않고 제품과 관련된 정보를 바탕으로 성별을 예측할 것이지 선택해야 한다.\n",
    "\n",
    "고객의 신상정보 데이터를 바탕으로 성별을 예측한다면 우리는 고객의 수인 5891개의 데이터만을 활용할 수 있다.\n",
    "\n",
    "하지만 제품과 관련된 정보를 바탕으로 성별을 예측한다면 총 537577개의 모든 데이터를 사용할 수 있게 된다.\n",
    "\n",
    "왜냐하면 성별에 따라 선호하는 제품이 존재한다고 가정하면 고객 1명이 여러 종류의 제품을 구매하고 그에 대한 모든 기록이 저장되어 있기 때문이다. \n",
    "\n",
    "결론을 말하자면 무엇이 좋은 방법이라고 결단이 서지 않는다. 그래서 베이스 라인 모델을 만들어 모델의 성능을 비교하여 더 나은 방식을 선택하겠다."
   ]
  },
  {
   "cell_type": "markdown",
   "metadata": {},
   "source": [
    "### 고객 신상정보 관련 feature로 만들어진 모델의 성능\n",
    "### 사용 데이터: 중복으로 저장된 데이터를 모두 제외한 고유한 데이터 5891개"
   ]
  },
  {
   "cell_type": "code",
   "execution_count": 16,
   "metadata": {},
   "outputs": [
    {
     "data": {
      "text/plain": [
       "Text(0.5, 1.0, '고유한 데이터에서의 성별 비율 약 7 대 3')"
      ]
     },
     "execution_count": 16,
     "metadata": {},
     "output_type": "execute_result"
    },
    {
     "data": {
      "image/png": "[encoded data removed]",
      "text/plain": [
       "<Figure size 576x396 with 1 Axes>"
      ]
     },
     "metadata": {},
     "output_type": "display_data"
    }
   ],
   "source": [
    "sns.histplot(data=drop_data, x='Gender', stat='probability')\n",
    "plt.title('고유한 데이터에서의 성별 비율 약 7 대 3')"
   ]
  },
  {
   "cell_type": "markdown",
   "metadata": {},
   "source": [
    "모든 데이터를 M으로 예측해도 성능은 70% 이상이기 때문에 기준을 70%로 선택한다.\n",
    "\n",
    "모델은 속도가 빠른 LogisticRegression을 활용하겠다."
   ]
  },
  {
   "cell_type": "code",
   "execution_count": 17,
   "metadata": {},
   "outputs": [],
   "source": [
    "# 고객 신상 정보와 관련된 컬럼\n",
    "cols_user = ['Age', 'Occupation', 'City_Category', 'Stay_In_Current_City_Years', 'Marital_Status']\n",
    "# LogisticRegression에 넣기 위한 원핫인코딩\n",
    "X_user = pd.get_dummies(drop_data[cols_user])\n",
    "\n",
    "target = 'target'\n",
    "y_user = drop_data[target]"
   ]
  },
  {
   "cell_type": "code",
   "execution_count": 18,
   "metadata": {},
   "outputs": [
    {
     "data": {
      "text/plain": [
       "0.7365472755050076"
      ]
     },
     "execution_count": 18,
     "metadata": {},
     "output_type": "execute_result"
    }
   ],
   "source": [
    "from sklearn.linear_model import LogisticRegression\n",
    "\n",
    "model = LogisticRegression(random_state=22)\n",
    "model.fit(X_user, y_user)\n",
    "model.score(X_user, y_user)"
   ]
  },
  {
   "cell_type": "markdown",
   "metadata": {},
   "source": [
    "모델 예측 결과 73%의 데이터를 맞추었다는 것을 알 수 있다.\n",
    "\n",
    "기준보다 더 높은 값을 보이기 때문에 제대로 된 예측을 했다고 볼 수 있다."
   ]
  },
  {
   "cell_type": "markdown",
   "metadata": {},
   "source": [
    "### 제품 관련 feature로 만들어진 모델의 성능\n",
    "### 사용 데이터: 537577개의 모든 데이터"
   ]
  },
  {
   "cell_type": "code",
   "execution_count": 19,
   "metadata": {},
   "outputs": [
    {
     "data": {
      "text/plain": [
       "Text(0.5, 1.0, '전체 데이터에서의 성별 비율 약 7.5 대 2.5')"
      ]
     },
     "execution_count": 19,
     "metadata": {},
     "output_type": "execute_result"
    },
    {
     "data": {
      "image/png": "[encoded data removed]",
      "text/plain": [
       "<Figure size 576x396 with 1 Axes>"
      ]
     },
     "metadata": {},
     "output_type": "display_data"
    }
   ],
   "source": [
    "sns.histplot(data=data, x='Gender', stat='probability')\n",
    "plt.title('전체 데이터에서의 성별 비율 약 7.5 대 2.5')"
   ]
  },
  {
   "cell_type": "markdown",
   "metadata": {},
   "source": [
    "모든 데이터를 M으로 예측해도 성능은 75% 이상이기 때문에 기준을 75%로 선택한다.\n",
    "\n",
    "모델은 속도가 빠른 LogisticRegression을 활용하겠다."
   ]
  },
  {
   "cell_type": "code",
   "execution_count": 20,
   "metadata": {},
   "outputs": [],
   "source": [
    "# 제품 정보와 관련된 컬럼\n",
    "cols_product = ['Product_Category_1', 'Product_Category_total']\n",
    "# LogisticRegression에 넣기 위한 원핫인코딩\n",
    "X_product = pd.get_dummies(data[cols_product])\n",
    "\n",
    "target = 'target'\n",
    "y_product = data[target]"
   ]
  },
  {
   "cell_type": "code",
   "execution_count": 21,
   "metadata": {},
   "outputs": [
    {
     "data": {
      "text/plain": [
       "0.7540873214441838"
      ]
     },
     "execution_count": 21,
     "metadata": {},
     "output_type": "execute_result"
    }
   ],
   "source": [
    "from sklearn.linear_model import LogisticRegression\n",
    "\n",
    "model = LogisticRegression(random_state=22)\n",
    "model.fit(X_product, y_product)\n",
    "model.score(X_product, y_product)"
   ]
  },
  {
   "cell_type": "markdown",
   "metadata": {},
   "source": [
    "모델 예측 결과 75%의 데이터를 맞추었다는 것을 알 수 있다.\n",
    "\n",
    "기준과 동일한 값을 보이기 때문에 제대로 된 예측을 했다고 볼 수 없다."
   ]
  },
  {
   "cell_type": "markdown",
   "metadata": {},
   "source": [
    "### 베이스 라인 모델을 통하여 내린 결론\n",
    "\n",
    "개인적으로 데이터가 많으면 많을 수록 좋다고 생각하며 제품과 관련된 정보 자체가 더 성별을 예측하는데 일반화된 모델을 만든다고 생각되어 제품과 관련된 정보를 바탕으로 성별을 예측하는 것이 좋다고 생각했으나\n",
    "\n",
    "모델의 결과로는 고객의 신상정보를 바탕으로 모델을 예측하는 것이 더 높은 성능을 보였다. (전체 데이터의 특징을 나타내는 Product_ID를 사용할 수 없었던 것이 큰 영향을 주었을 수도 있으며 Product_ID를 사용할 수 있었다면 결과가 바뀌었을 수도 있다.)\n",
    "\n",
    "따라서 앞으로 중복되는 고객 ID에 대한 데이터를 제거하여 고객 신상정보를 바탕으로 성별을 예측할 것이다.\n",
    "\n",
    "위 결과를 한번 생각해보자면 고객의 신상 정보는 성별에 영향을 준다는 것을 알 수 있다.\n",
    "\n",
    "하지만 제품도 충분히 고객의 성별을 분류하는데 큰 영향을 줄 것이다. 또한 현재 데이터의 경우 한가지만의 경우를 선택하여 사용할 수 밖에 없기 때문에 위와 같은 선택을 한 것이지 만약에 제대로된 데이터라면 모든 칼럼을 활용한 일반화된 좋은 성능의 모델을 만들 수 있을 것이다."
   ]
  },
  {
   "cell_type": "markdown",
   "metadata": {},
   "source": [
    "## 고객 신상정보 관련 feature"
   ]
  },
  {
   "cell_type": "markdown",
   "metadata": {},
   "source": [
    "### Age - 고객 연령대"
   ]
  },
  {
   "cell_type": "code",
   "execution_count": 22,
   "metadata": {},
   "outputs": [
    {
     "data": {
      "text/plain": [
       "<AxesSubplot:xlabel='Age', ylabel='count'>"
      ]
     },
     "execution_count": 22,
     "metadata": {},
     "output_type": "execute_result"
    },
    {
     "data": {
      "image/png": "[encoded data removed]",
      "text/plain": [
       "<Figure size 576x396 with 1 Axes>"
      ]
     },
     "metadata": {},
     "output_type": "display_data"
    }
   ],
   "source": [
    "sns.countplot(data=drop_data, x='Age', hue='Gender')"
   ]
  },
  {
   "cell_type": "markdown",
   "metadata": {},
   "source": [
    "### Occupation - 고객 직업"
   ]
  },
  {
   "cell_type": "code",
   "execution_count": 23,
   "metadata": {},
   "outputs": [
    {
     "data": {
      "text/plain": [
       "<AxesSubplot:xlabel='Occupation', ylabel='count'>"
      ]
     },
     "execution_count": 23,
     "metadata": {},
     "output_type": "execute_result"
    },
    {
     "data": {
      "image/png": "[encoded data removed]",
      "text/plain": [
       "<Figure size 576x396 with 1 Axes>"
      ]
     },
     "metadata": {},
     "output_type": "display_data"
    }
   ],
   "source": [
    "sns.countplot(data=drop_data, x='Occupation', hue='Gender')"
   ]
  },
  {
   "cell_type": "markdown",
   "metadata": {},
   "source": [
    "### City_Category - 고객 거주 도시"
   ]
  },
  {
   "cell_type": "code",
   "execution_count": 24,
   "metadata": {},
   "outputs": [
    {
     "data": {
      "text/plain": [
       "<AxesSubplot:xlabel='City_Category', ylabel='count'>"
      ]
     },
     "execution_count": 24,
     "metadata": {},
     "output_type": "execute_result"
    },
    {
     "data": {
      "image/png": "[encoded data removed]",
      "text/plain": [
       "<Figure size 576x396 with 1 Axes>"
      ]
     },
     "metadata": {},
     "output_type": "display_data"
    }
   ],
   "source": [
    "sns.countplot(data=drop_data, x='City_Category', hue='Gender')"
   ]
  },
  {
   "cell_type": "markdown",
   "metadata": {},
   "source": [
    "### Stay_In_Current_City_Years - 현재 도시 거주 기간(년)"
   ]
  },
  {
   "cell_type": "code",
   "execution_count": 25,
   "metadata": {},
   "outputs": [
    {
     "data": {
      "text/plain": [
       "<AxesSubplot:xlabel='Stay_In_Current_City_Years', ylabel='count'>"
      ]
     },
     "execution_count": 25,
     "metadata": {},
     "output_type": "execute_result"
    },
    {
     "data": {
      "image/png": "[encoded data removed]",
      "text/plain": [
       "<Figure size 576x396 with 1 Axes>"
      ]
     },
     "metadata": {},
     "output_type": "display_data"
    }
   ],
   "source": [
    "sns.countplot(data=drop_data, x='Stay_In_Current_City_Years', hue='Gender')"
   ]
  },
  {
   "cell_type": "markdown",
   "metadata": {},
   "source": [
    "### Marital_Status - 결혼 여부"
   ]
  },
  {
   "cell_type": "code",
   "execution_count": 26,
   "metadata": {},
   "outputs": [
    {
     "data": {
      "text/plain": [
       "<AxesSubplot:xlabel='Marital_Status', ylabel='count'>"
      ]
     },
     "execution_count": 26,
     "metadata": {},
     "output_type": "execute_result"
    },
    {
     "data": {
      "image/png": "[encoded data removed]",
      "text/plain": [
       "<Figure size 576x396 with 1 Axes>"
      ]
     },
     "metadata": {},
     "output_type": "display_data"
    }
   ],
   "source": [
    "sns.countplot(data=drop_data, x='Marital_Status', hue='Gender')"
   ]
  },
  {
   "cell_type": "markdown",
   "metadata": {},
   "source": [
    "## 고객 신상정보 관련 feature EDA 결과\n",
    "\n",
    "전체 데이터의 성별의 비율이 매우 불균형한 이유도 있겠지만 크게 성별에 영향을 주는 feature를 찾을 수 없었다. \n",
    "\n",
    "하지만 통계적으로 연령대가 높아질 수록 여성의 비율이 높아지며 도시에 사느냐 지방에 사느냐 등에 따라 남녀 성비의 비율이 달라지며 직업에 따라서도 남녀 성비의 비율이 달라진다고 생각한다.\n",
    "\n",
    "따라서 Age, Occupation, City_Category를 최종적으로 사용할 예정이다. "
   ]
  },
  {
   "cell_type": "markdown",
   "metadata": {},
   "source": [
    "## 제품 관련 feature\n",
    "\n",
    "### Product_Category\n",
    "\n",
    "결측치가 존재하는 Product_Category의 2와 3의 경우 구매하는 제품이 대분류에는 속하지만 그 밑에 분류에는 해당되는 값이 없다고 할 수 있다.\n",
    "\n",
    "따라서 결측치를 따로 채울수는 없을 것이며 사용을 한다면 Product_Category_1만을 사용하는 것이 바람직한 방법이라고 생각된다."
   ]
  },
  {
   "cell_type": "code",
   "execution_count": 27,
   "metadata": {},
   "outputs": [
    {
     "data": {
      "text/plain": [
       "<AxesSubplot:xlabel='Product_Category_1', ylabel='count'>"
      ]
     },
     "execution_count": 27,
     "metadata": {},
     "output_type": "execute_result"
    },
    {
     "data": {
      "image/png": "[encoded data removed]",
      "text/plain": [
       "<Figure size 576x396 with 1 Axes>"
      ]
     },
     "metadata": {},
     "output_type": "display_data"
    }
   ],
   "source": [
    "sns.countplot(data=data, x='Product_Category_1', hue='Gender')"
   ]
  },
  {
   "cell_type": "code",
   "execution_count": 28,
   "metadata": {},
   "outputs": [
    {
     "data": {
      "text/plain": [
       "<AxesSubplot:xlabel='Product_Category_total', ylabel='count'>"
      ]
     },
     "execution_count": 28,
     "metadata": {},
     "output_type": "execute_result"
    },
    {
     "data": {
      "image/png": "[encoded data removed]",
      "text/plain": [
       "<Figure size 576x396 with 1 Axes>"
      ]
     },
     "metadata": {},
     "output_type": "display_data"
    }
   ],
   "source": [
    "sns.countplot(data=data, x='Product_Category_total', hue='Gender')"
   ]
  },
  {
   "cell_type": "markdown",
   "metadata": {},
   "source": [
    "## 제품 관련 feature EDA 결과\n",
    "\n",
    "전체 제품의 카테고리별 그래프를 볼때 여성의 비율이 압도적인 제품이 몇몇 존재한다는 것을 알 수 있다. 하지만 전체 픽쳐대비 그 수가 매우 적기 때문에 모델이 잘 반영할 수 없어서 위와 같은 결과가 나왔다고 생각된다.\n",
    "\n",
    "만약에 메모리가 많아서 Product_ID를 원핫인코딩하여 사용할 수 있다면 더 높은 성능의 모델을 만들 수 있을 것이다.\n",
    "\n",
    "현재는 베이스라인 모델의 결과인 고객신상정보 관련 feature을 가지고 모델을 만들겠다. "
   ]
  },
  {
   "cell_type": "markdown",
   "metadata": {},
   "source": [
    "### Gender - 성별"
   ]
  },
  {
   "cell_type": "code",
   "execution_count": 29,
   "metadata": {},
   "outputs": [
    {
     "data": {
      "text/plain": [
       "<AxesSubplot:xlabel='Gender', ylabel='Probability'>"
      ]
     },
     "execution_count": 29,
     "metadata": {},
     "output_type": "execute_result"
    },
    {
     "data": {
      "image/png": "[encoded data removed]",
      "text/plain": [
       "<Figure size 576x396 with 1 Axes>"
      ]
     },
     "metadata": {},
     "output_type": "display_data"
    }
   ],
   "source": [
    "sns.histplot(data=drop_data, x='Gender', stat='probability')"
   ]
  },
  {
   "cell_type": "code",
   "execution_count": 30,
   "metadata": {},
   "outputs": [
    {
     "data": {
      "text/plain": [
       "<AxesSubplot:xlabel='Gender', ylabel='Probability'>"
      ]
     },
     "execution_count": 30,
     "metadata": {},
     "output_type": "execute_result"
    },
    {
     "data": {
      "image/png": "[encoded data removed]",
      "text/plain": [
       "<Figure size 576x396 with 1 Axes>"
      ]
     },
     "metadata": {},
     "output_type": "display_data"
    }
   ],
   "source": [
    "sns.histplot(data=data, x='Gender', stat='probability')"
   ]
  },
  {
   "cell_type": "markdown",
   "metadata": {},
   "source": [
    "확실히 target 값이 매우 불균형하다는 것을 확인할 수 있다.\n",
    "\n",
    "따라서 Test 데이터와 Train 데이터를 분리할 때 stratify하게 데이터를 분리할 예정이다."
   ]
  },
  {
   "cell_type": "markdown",
   "metadata": {},
   "source": [
    "# Model"
   ]
  },
  {
   "cell_type": "code",
   "execution_count": 31,
   "metadata": {},
   "outputs": [],
   "source": [
    "# Train과 Test 데이터로 데이터를 분리하겠다.\n",
    "cols = ['Age', 'Occupation', 'City_Category']\n",
    "# 원핫인코딩\n",
    "features = pd.get_dummies(drop_data[cols]).reset_index(drop=True)\n",
    "target = drop_data[['target']].reset_index(drop=True)"
   ]
  },
  {
   "cell_type": "code",
   "execution_count": 32,
   "metadata": {},
   "outputs": [],
   "source": [
    "from sklearn.model_selection import train_test_split\n",
    "\n",
    "X_train, X_test, y_train, y_test = train_test_split(features, target, random_state=22, stratify=target, test_size=0.2)"
   ]
  },
  {
   "cell_type": "code",
   "execution_count": 33,
   "metadata": {},
   "outputs": [
    {
     "data": {
      "text/plain": [
       "Text(0.5, 1.0, 'Test')"
      ]
     },
     "execution_count": 33,
     "metadata": {},
     "output_type": "execute_result"
    },
    {
     "data": {
      "image/png": "[encoded data removed]",
      "text/plain": [
       "<Figure size 1080x360 with 2 Axes>"
      ]
     },
     "metadata": {},
     "output_type": "display_data"
    }
   ],
   "source": [
    "fig, ax = plt.subplots(nrows=1, ncols=2, figsize=(15,5))\n",
    "\n",
    "sns.countplot(data=y_train, x='target', ax=ax[0])\n",
    "sns.countplot(data=y_test, x='target', ax=ax[1])\n",
    "ax[0].set_title('Train')\n",
    "ax[1].set_title('Test')"
   ]
  },
  {
   "cell_type": "markdown",
   "metadata": {},
   "source": [
    "target 값이 일정하게 분류되었음을 확인할 수 있다."
   ]
  },
  {
   "cell_type": "code",
   "execution_count": 34,
   "metadata": {},
   "outputs": [
    {
     "name": "stdout",
     "output_type": "stream",
     "text": [
      "Hyperparameter Tuning 전의 점수: 0.654792\n"
     ]
    }
   ],
   "source": [
    "from sklearn.neighbors import KNeighborsClassifier\n",
    "\n",
    "knn = KNeighborsClassifier(n_neighbors = 5)\n",
    "knn.fit(X_train, y_train)\n",
    "score = knn.score(X_test, y_test)\n",
    "print(f'Hyperparameter Tuning 전의 점수: {score:.6f}')"
   ]
  },
  {
   "cell_type": "markdown",
   "metadata": {},
   "source": [
    "# Hyperparameter Tuning\n",
    "\n",
    "개인적으로 하이퍼 파라미터 튜닝을 할때 검증 데이터 셋에 점수의 평균이 아닌\n",
    "\n",
    "분리된 각각의 데이터로 학습된 전체 검증 데이터와 전체 학습 데이터를 비교하여 성능을 비교하는 편이다.\n",
    "\n",
    "밑의 코드는 그 과정을 나타낸 것이다."
   ]
  },
  {
   "cell_type": "code",
   "execution_count": 35,
   "metadata": {},
   "outputs": [
    {
     "name": "stderr",
     "output_type": "stream",
     "text": [
      "100%|██████████████████████████████████████████████████████████████████████████████████| 49/49 [00:44<00:00,  1.09it/s]\n"
     ]
    }
   ],
   "source": [
    "from sklearn.model_selection import StratifiedKFold\n",
    "from sklearn.neighbors import KNeighborsClassifier\n",
    "from sklearn.metrics import accuracy_score\n",
    "from tqdm import tqdm # 모델 학습에 걸리는 시간을 측정하기 위한 라이브러리\n",
    "\n",
    "k_range = [i for i in range(1,50)]  # k를 1~49까지 고려하여 최적의 k를 찾는다.\n",
    "k_score = []                        # 각 k들의 성능을 비교하기 위한 리스트\n",
    "\n",
    "n_split = 5 # 데이터를 5조각 내겠다.\n",
    "skf = StratifiedKFold(n_splits = n_split, shuffle=True, random_state=22) # Stratify한 데이터 분리\n",
    "\n",
    "\n",
    "for k in tqdm(k_range) :\n",
    "    knn = KNeighborsClassifier(k) # 모델을 만듬\n",
    "    knn_oof_train = np.zeros(y_train.shape[0]) # 모델 예측 값이 저장될 배열\n",
    "    \n",
    "    for trn_idx, val_idx in skf.split(X_train, y_train):\n",
    "        trn_data, trn_label = X_train.iloc[trn_idx], y_train.iloc[trn_idx] # 모델 학습에 사용할 데이터\n",
    "        val_data, val_label = X_train.iloc[val_idx], y_train.iloc[val_idx] # 모델 검증에 사용할 데이터\n",
    "        knn.fit(trn_data, trn_label) # 모델 학습\n",
    "        \n",
    "        knn_oof_train[val_idx] = knn.predict(val_data) # 검즘 데이터를 저장함\n",
    "        \n",
    "    scores = accuracy_score(y_train, knn_oof_train) # y_train과 각각의 검증 셋으로 구해진 점수를 전체적으로 비교함\n",
    "    k_score.append(scores)"
   ]
  },
  {
   "cell_type": "code",
   "execution_count": 36,
   "metadata": {},
   "outputs": [
    {
     "data": {
      "image/png": "[encoded data removed]",
      "text/plain": [
       "<Figure size 576x396 with 1 Axes>"
      ]
     },
     "metadata": {},
     "output_type": "display_data"
    }
   ],
   "source": [
    "plt.plot(k_range, k_score)\n",
    "plt.xlabel('Value of K for KNN')\n",
    "plt.ylabel('Cross-Validation Accuracy')\n",
    "plt.axvline(14, linestyle='--', color='r')\n",
    "plt.axvline(33, linestyle='--', color='r')\n",
    "plt.axvline(41, linestyle='--', color='r')\n",
    "plt.show()"
   ]
  },
  {
   "cell_type": "code",
   "execution_count": 37,
   "metadata": {},
   "outputs": [
    {
     "name": "stdout",
     "output_type": "stream",
     "text": [
      "현재 평가결과 최고의 점수는 0.720925, \n",
      "최고 점수의 k는 33\n"
     ]
    }
   ],
   "source": [
    "best_score = max(k_score)\n",
    "best_score_index = k_score.index(best_score)\n",
    "besk_k = k_range[best_score_index]\n",
    "print(f\"현재 평가결과 최고의 점수는 {best_score:.6f}, \\n최고 점수의 k는 {besk_k}\")"
   ]
  },
  {
   "cell_type": "code",
   "execution_count": 38,
   "metadata": {},
   "outputs": [
    {
     "name": "stdout",
     "output_type": "stream",
     "text": [
      "Hyperparameter Tuning 후의 점수: 0.727735\n"
     ]
    }
   ],
   "source": [
    "from sklearn.neighbors import KNeighborsClassifier\n",
    "\n",
    "knn = KNeighborsClassifier(n_neighbors = besk_k)\n",
    "knn.fit(X_train, y_train)\n",
    "\n",
    "pred = knn.predict(X_test) # Evaluation에 활용할 예측 값을 구한다\n",
    "pred_proba_c1 = knn.predict_proba(X_test)[:,1] # Evaluation에 활용할 라벨 1에 대한 데이터 예측 확률 값을 구한다.\n",
    "\n",
    "score = knn.score(X_test, y_test)\n",
    "print(f'Hyperparameter Tuning 후의 점수: {score:.6f}')"
   ]
  },
  {
   "cell_type": "markdown",
   "metadata": {},
   "source": [
    "#### 튜닝 전\n",
    "- 0.654792\n",
    "\n",
    "#### 튜닝 후\n",
    "- 0.727735\n",
    "\n",
    "하이퍼 파라미터 튜닝을 거쳐서 최적의 k인 33을 찾았고 그를 모델에 넣어 예측한 결과 성능이 약 0.7가까이 더 향상되었다는 것을 확인할 수 있다."
   ]
  },
  {
   "cell_type": "markdown",
   "metadata": {},
   "source": [
    "# Evaluation"
   ]
  },
  {
   "cell_type": "code",
   "execution_count": 39,
   "metadata": {},
   "outputs": [
    {
     "name": "stdout",
     "output_type": "stream",
     "text": [
      "------------------------------------------------------------------------------------------\n",
      "KNN (임계치 0.5 기준)\n",
      "------------------------------------------------------------------------------------------\n",
      "Confusion Matrix\n",
      "[[844   2]\n",
      " [319  14]]\n",
      "------------------------------------------------------------------------------------------\n",
      "Accuracy : 0.72774, Precision : 0.87500, Recall : 0.04204, F1 : 0.08023\n",
      "------------------------------------------------------------------------------------------\n"
     ]
    }
   ],
   "source": [
    "from sklearn.metrics import confusion_matrix\n",
    "\n",
    "# Confusion Matrix을 함수로 구현\n",
    "def get_clf_eval(y_test, y_predict, title):\n",
    "    tn, fp, fn, tp = confusion_matrix(y_test, y_predict).ravel()\n",
    "    print(\"-\"*90)\n",
    "    print(f'{title}')\n",
    "    print(\"-\"*90)\n",
    "    print('Confusion Matrix')\n",
    "    print(confusion_matrix(y_test, y_predict))\n",
    "    print(\"-\"*90)\n",
    "    accuracy = (tp+tn) / (tp+fn+fp+tn)\n",
    "    precision = tp / (tp + fp)\n",
    "    recall = tp / (tp + fn)\n",
    "    f1 = 2 * (precision * recall) / (precision + recall)\n",
    "    print(f'Accuracy : {accuracy:.5f}, Precision : {precision:.5f}, Recall : {recall:.5f}, F1 : {f1:.5f}')\n",
    "    print(\"-\"*90)\n",
    "\n",
    "get_clf_eval(y_test, pred, 'KNN (임계치 0.5 기준)')"
   ]
  },
  {
   "cell_type": "markdown",
   "metadata": {},
   "source": [
    "Accuracy는 상대적으로 높지만 모든 값을 대체로 FN  즉, 1(여성)인 실제 값을 모두 0으로 예측한다는 것을 알 수 있다.\n",
    "\n",
    "따라서 현재 모델은 임계치 0.5기준으로 모든 값을 0(남성)으로 예측하는 아주 좋지 못한 성능을 가지고 있다. 이에 Precision값이 Recall과 F1에 비해 상대적으로 매우 높다는 것을 알 수 있다."
   ]
  },
  {
   "cell_type": "code",
   "execution_count": 40,
   "metadata": {},
   "outputs": [
    {
     "data": {
      "image/png": "[encoded data removed]",
      "text/plain": [
       "<Figure size 720x576 with 1 Axes>"
      ]
     },
     "metadata": {},
     "output_type": "display_data"
    },
    {
     "name": "stdout",
     "output_type": "stream",
     "text": [
      "정밀도가 최대인 값 : 1.00000, 최대의 정밀도를 가지는 임계치 : 0.63636\n",
      "재현율이 최대인 값 : 1.00000, 최대의 재현율을 가지는 임계치 : 0.06061\n",
      "F1 점수가 최대인 값: 0.46802, 최대의 F1 점수를 가지는 임계치: 0.21212\n"
     ]
    }
   ],
   "source": [
    "import matplotlib.ticker as ticker\n",
    "import matplotlib.pyplot as plt\n",
    "import matplotlib as mpl\n",
    "from sklearn.metrics import precision_recall_curve\n",
    "\n",
    "# 정밀도와 재현율과 F1스코어을 그래프화 시키기 위한 함수\n",
    "def precision_recall_curve_plot_and_f1(y_test, pred_proba_c1):\n",
    "    precisions, recalls, thresholds = precision_recall_curve(y_test, pred_proba_c1)\n",
    "    f1 = 2 * (precisions * recalls) / (precisions + recalls)\n",
    "\n",
    "    plt.figure(figsize=(10,8))\n",
    "    threshold_boundary = thresholds.shape[0]\n",
    "    plt.plot(thresholds, precisions[0:threshold_boundary], linestyle='--', label='Precision')\n",
    "    plt.plot(thresholds, recalls[0:threshold_boundary], label='Recall')\n",
    "    plt.plot(thresholds, f1[0:threshold_boundary], linestyle='-', label='F1')\n",
    "\n",
    "    start, end = plt.xlim()\n",
    "    plt.xticks(np.round(np.arange(start, end, 0.1), 2))\n",
    "    plt.axvline(x=0.365, c='r')\n",
    "\n",
    "    plt.xlabel('Threshold value')\n",
    "    plt.ylabel('Precision and Recalls and F1 value')\n",
    "    plt.legend()\n",
    "    plt.grid()\n",
    "    plt.show()\n",
    "    \n",
    "    return precisions[0:threshold_boundary], recalls[0:threshold_boundary], f1[0:threshold_boundary], thresholds \n",
    "\n",
    "precision, recall, f1, threshold = precision_recall_curve_plot_and_f1(y_test, pred_proba_c1)\n",
    "\n",
    "precision = precision.tolist()\n",
    "recall = recall.tolist()\n",
    "f1 = f1.tolist()\n",
    "threshold = threshold.tolist()\n",
    "\n",
    "max_precision = max(precision)\n",
    "max_precision_idx = precision.index(max_precision)\n",
    "max_precision_threshold = threshold[max_precision_idx]\n",
    "\n",
    "max_recall = max(recall)\n",
    "max_recall_idx = recall.index(max_recall)\n",
    "max_recall_threshold = threshold[max_recall_idx]\n",
    "\n",
    "max_f1 = max(f1)\n",
    "max_f1_idx = f1.index(max_f1)\n",
    "max_f1_threshold = threshold[max_f1_idx]\n",
    "\n",
    "print(f'정밀도가 최대인 값 : {max_precision:.5f}, 최대의 정밀도를 가지는 임계치 : {max_precision_threshold:.5f}')\n",
    "print(f'재현율이 최대인 값 : {max_recall:.5f}, 최대의 재현율을 가지는 임계치 : {max_recall_threshold:.5f}')\n",
    "print(f'F1 점수가 최대인 값: {max_f1:.5f}, 최대의 F1 점수를 가지는 임계치: {max_f1_threshold:.5f}')"
   ]
  },
  {
   "cell_type": "markdown",
   "metadata": {},
   "source": [
    "Precision, Recall, F1의 전체적인 비율을 고려해서 임계치를 설정한다면 0.365가 적당하겠지만 모델 자체의 성능이 매우 좋지 않기 때문에 의미가 없다고 생각된다."
   ]
  },
  {
   "cell_type": "code",
   "execution_count": 41,
   "metadata": {},
   "outputs": [
    {
     "data": {
      "image/png": "[encoded data removed]",
      "text/plain": [
       "<Figure size 720x576 with 1 Axes>"
      ]
     },
     "metadata": {},
     "output_type": "display_data"
    }
   ],
   "source": [
    "import matplotlib.ticker as ticker\n",
    "import matplotlib.pyplot as plt\n",
    "import matplotlib as mpl\n",
    "from sklearn.metrics import roc_curve\n",
    "\n",
    "# ROC curve and AUC Score를 그래프로 나타내기 위한 함수\n",
    "def roc_curve_plot(y_test, pred_proba_c1):\n",
    "    FPRs, TPRs, thresholds = roc_curve(y_test, pred_proba_c1)\n",
    "\n",
    "    plt.figure(figsize=(10,8))\n",
    "    # ROC 곡선을 그림\n",
    "    plt.plot(FPRs, TPRs, label='ROC')\n",
    "    # 가운데 대각선을 그림\n",
    "    plt.plot([0,1], [0,1], 'k--', label = 'Random')\n",
    "\n",
    "    start, end = plt.xlim()\n",
    "    plt.xticks(np.round(np.arange(start, end, 0.1), 2))\n",
    "    plt.xlim(0, 1)\n",
    "    plt.ylim(0, 1)\n",
    "    plt.xlabel('FPR(1 - Sensitivity)')\n",
    "    plt.ylabel('TPR(Recall)')\n",
    "    plt.legend()\n",
    "    plt.show()\n",
    "\n",
    "roc_curve_plot(y_test, pred_proba_c1)"
   ]
  },
  {
   "cell_type": "code",
   "execution_count": 42,
   "metadata": {},
   "outputs": [
    {
     "name": "stdout",
     "output_type": "stream",
     "text": [
      "AUC Score : 0.61462\n"
     ]
    }
   ],
   "source": [
    "from sklearn.metrics import roc_auc_score\n",
    "auc = roc_auc_score(y_test, pred_proba_c1)\n",
    "print(f'AUC Score : {auc:.5f}')"
   ]
  },
  {
   "cell_type": "markdown",
   "metadata": {},
   "source": [
    "ROC 커브의 경우 가운데 직선에 가까울수록 랜덤하게 값을 예측한 모델로 매우 성능이 안좋다고 할 수 있으며\n",
    "\n",
    "AUC Score의 경우 1에 가까울수록 매우 좋은 성능을 가졌다고 볼 수 있지만 현재 모델의 경우 AUC Score의 값이 0.5에 근사하므로 매우 좋지 못한 성능을 가지고 았다.\n",
    "\n",
    "따라서 현재 만들어진 모델의 경우 매우 좋지 못한 성능을 가지고 있다."
   ]
  },
  {
   "cell_type": "markdown",
   "metadata": {},
   "source": [
    "# 결론\n",
    "\n",
    "현재 모델의 경우 매우 좋지 못한 성능을 보이고 있다.\n",
    "\n",
    "좋지 못한 성능을 보이는 이유는 성별을 예측하는데 적합하지 않은 데이터 셋 때문으로 생각되며 모델의 성능을 높이기 위해서는 성별 예측에 더 도움이 되는 다른 데이터를 수집하여야 할 것이다. "
   ]
  }
 ],
 "metadata": {
  "kernelspec": {
   "display_name": "Python 3",
   "language": "python",
   "name": "python3"
  },
  "language_info": {
   "codemirror_mode": {
    "name": "ipython",
    "version": 3
   },
   "file_extension": ".py",
   "mimetype": "text/x-python",
   "name": "python",
   "nbconvert_exporter": "python",
   "pygments_lexer": "ipython3",
   "version": "3.8.5"
  }
 },
 "nbformat": 4,
 "nbformat_minor": 4
}
