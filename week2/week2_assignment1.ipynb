{
 "cells": [
  {
   "cell_type": "markdown",
   "metadata": {
    "id": "7eUp8l-erxno"
   },
   "source": [
    "# Assignment1 Tobigs15th 이성범"
   ]
  },
  {
   "cell_type": "markdown",
   "metadata": {
    "id": "K5BAo-DTrxnr"
   },
   "source": [
    "## Matrix 구현 \n",
    "1. Linear Regression 에서 쓰이는 **정규방정식**을 행렬로 구현하고, sklearn 혹은 OLS 패키지를 통해 구한 **실제 값과 비교**해 주세요 \n",
    "2. LSE에서 쓰이는 Loss Function, **MSE**를 행렬로 구현해 출력해 주세요 "
   ]
  },
  {
   "cell_type": "markdown",
   "metadata": {
    "id": "2fq7mDNOrxns"
   },
   "source": [
    "### Data Load "
   ]
  },
  {
   "cell_type": "code",
   "execution_count": null,
   "metadata": {
    "id": "CEvRTNegrxns"
   },
   "outputs": [],
   "source": [
    "import pandas as pd \n",
    "data = pd.read_csv(\"assignment1.csv\")"
   ]
  },
  {
   "cell_type": "code",
   "execution_count": null,
   "metadata": {
    "id": "M482o1BIrxnt",
    "outputId": "84713cb0-26a7-4b72-ddcd-4365ae1ffad8"
   },
   "outputs": [
    {
     "data": {
      "text/html": [
       "<div>\n",
       "<style scoped>\n",
       "    .dataframe tbody tr th:only-of-type {\n",
       "        vertical-align: middle;\n",
       "    }\n",
       "\n",
       "    .dataframe tbody tr th {\n",
       "        vertical-align: top;\n",
       "    }\n",
       "\n",
       "    .dataframe thead th {\n",
       "        text-align: right;\n",
       "    }\n",
       "</style>\n",
       "<table border=\"1\" class=\"dataframe\">\n",
       "  <thead>\n",
       "    <tr style=\"text-align: right;\">\n",
       "      <th></th>\n",
       "      <th>y</th>\n",
       "      <th>x1</th>\n",
       "      <th>x2</th>\n",
       "      <th>x3</th>\n",
       "      <th>x4</th>\n",
       "      <th>x5</th>\n",
       "    </tr>\n",
       "  </thead>\n",
       "  <tbody>\n",
       "    <tr>\n",
       "      <th>0</th>\n",
       "      <td>10</td>\n",
       "      <td>38.9</td>\n",
       "      <td>64.7</td>\n",
       "      <td>4</td>\n",
       "      <td>868</td>\n",
       "      <td>59.7</td>\n",
       "    </tr>\n",
       "    <tr>\n",
       "      <th>1</th>\n",
       "      <td>13</td>\n",
       "      <td>41.6</td>\n",
       "      <td>45.3</td>\n",
       "      <td>-4</td>\n",
       "      <td>957</td>\n",
       "      <td>61.4</td>\n",
       "    </tr>\n",
       "    <tr>\n",
       "      <th>2</th>\n",
       "      <td>11</td>\n",
       "      <td>39.7</td>\n",
       "      <td>74.1</td>\n",
       "      <td>8</td>\n",
       "      <td>786</td>\n",
       "      <td>61.0</td>\n",
       "    </tr>\n",
       "    <tr>\n",
       "      <th>3</th>\n",
       "      <td>7</td>\n",
       "      <td>37.3</td>\n",
       "      <td>48.0</td>\n",
       "      <td>19</td>\n",
       "      <td>984</td>\n",
       "      <td>67.5</td>\n",
       "    </tr>\n",
       "    <tr>\n",
       "      <th>4</th>\n",
       "      <td>10</td>\n",
       "      <td>39.5</td>\n",
       "      <td>51.9</td>\n",
       "      <td>6</td>\n",
       "      <td>700</td>\n",
       "      <td>57.2</td>\n",
       "    </tr>\n",
       "  </tbody>\n",
       "</table>\n",
       "</div>"
      ],
      "text/plain": [
       "    y    x1    x2  x3   x4    x5\n",
       "0  10  38.9  64.7   4  868  59.7\n",
       "1  13  41.6  45.3  -4  957  61.4\n",
       "2  11  39.7  74.1   8  786  61.0\n",
       "3   7  37.3  48.0  19  984  67.5\n",
       "4  10  39.5  51.9   6  700  57.2"
      ]
     },
     "execution_count": 2,
     "metadata": {
      "tags": []
     },
     "output_type": "execute_result"
    }
   ],
   "source": [
    "data.head()"
   ]
  },
  {
   "cell_type": "code",
   "execution_count": null,
   "metadata": {
    "id": "Hrqun8Torxnt",
    "outputId": "15526338-1306-43aa-9083-eafe46b5a369"
   },
   "outputs": [
    {
     "data": {
      "text/plain": [
       "(9, 6)"
      ]
     },
     "execution_count": 3,
     "metadata": {
      "tags": []
     },
     "output_type": "execute_result"
    }
   ],
   "source": [
    "data.shape # y:(9,1), X:(9,5)"
   ]
  },
  {
   "cell_type": "code",
   "execution_count": null,
   "metadata": {
    "id": "M2GDxiyjrxnu"
   },
   "outputs": [],
   "source": [
    "X = data.drop([\"y\"], axis=1)\n",
    "y = data.y"
   ]
  },
  {
   "cell_type": "code",
   "execution_count": null,
   "metadata": {
    "id": "TvxPDewprxnv"
   },
   "outputs": [],
   "source": [
    "# matrix 계산을 위해 numpy 형태로 바꾸어 줍니다 \n",
    "X = X.to_numpy()\n",
    "y = y.to_numpy()"
   ]
  },
  {
   "cell_type": "code",
   "execution_count": null,
   "metadata": {
    "id": "PNqEus_Lrxnv",
    "outputId": "131ef053-0a43-4790-f205-fef99a0f8597"
   },
   "outputs": [
    {
     "data": {
      "text/plain": [
       "array([[  38.9,   64.7,    4. ,  868. ,   59.7],\n",
       "       [  41.6,   45.3,   -4. ,  957. ,   61.4],\n",
       "       [  39.7,   74.1,    8. ,  786. ,   61. ],\n",
       "       [  37.3,   48. ,   19. ,  984. ,   67.5],\n",
       "       [  39.5,   51.9,    6. ,  700. ,   57.2],\n",
       "       [  37.4,   53.6,   -5. , 1037. ,   58.8],\n",
       "       [  35.1,   71.4,    3. ,  986. ,   58.6],\n",
       "       [  38.8,   58.3,    6. ,  819. ,   59.2],\n",
       "       [  36.6,   52.6,  -19. ,  791. ,   54.4]])"
      ]
     },
     "execution_count": 6,
     "metadata": {
      "tags": []
     },
     "output_type": "execute_result"
    }
   ],
   "source": [
    "X"
   ]
  },
  {
   "cell_type": "code",
   "execution_count": null,
   "metadata": {
    "id": "n7FF2-Hmrxnv",
    "outputId": "38f243f2-ae92-40be-c786-52693c9d0051"
   },
   "outputs": [
    {
     "data": {
      "text/plain": [
       "array([10, 13, 11,  7, 10,  9,  9,  6,  5], dtype=int64)"
      ]
     },
     "execution_count": 7,
     "metadata": {
      "tags": []
     },
     "output_type": "execute_result"
    }
   ],
   "source": [
    "y"
   ]
  },
  {
   "cell_type": "markdown",
   "metadata": {
    "id": "dDzC-1Zcrxnw"
   },
   "source": [
    "### 1. Normal Equation\n",
    "\n",
    "## $\\hat{\\beta} = (X^{T}X)^{-1}X^{T}y $"
   ]
  },
  {
   "cell_type": "code",
   "execution_count": null,
   "metadata": {
    "id": "beJyJ3aFrxnw"
   },
   "outputs": [],
   "source": [
    "import numpy as np\n",
    "from numpy.linalg import inv "
   ]
  },
  {
   "cell_type": "code",
   "execution_count": null,
   "metadata": {
    "id": "EUSNH8Uprxnx"
   },
   "outputs": [],
   "source": [
    "def estimate_beta(X, y):\n",
    "    # np.ones((len(y), 1)) : 관측치 개수(len(y)) 만큼의 1로 채워진 행렬을 만듬 -> x0 즉 절편을 구하기 위한 새로운 변수임\n",
    "    # np.concatenate([np.ones((len(y), 1)), X] : x0과 X를 합쳐서 새로운 (9,6)의 X 행렬을 만듬\n",
    "    designX = np.concatenate([np.ones((len(y), 1)), X], axis=1)\n",
    "    \n",
    "    # 정규방정식 구현\n",
    "    # 1. np.dot(designX.T, designX) : 전치한 X 행렬과 X를 곱함\n",
    "    # 2. inv(np.dot(designX.T, designX)) : 1번 식의 역행렬을 구함\n",
    "    # 3. np.dot(inv(np.dot(designX.T, designX)), designX.T) : 역행렬과 전치한 X를 곱함\n",
    "    # 4. np.dot(np.dot(inv(np.dot(designX.T, designX)), designX.T), y) : 3번 식으로 구한 행렬과 y를 곱함\n",
    "    beta_hat = np.dot(np.dot(inv(np.dot(designX.T, designX)), designX.T), y)\n",
    "    \n",
    "    return beta_hat"
   ]
  },
  {
   "cell_type": "code",
   "execution_count": null,
   "metadata": {
    "id": "Z3DBnZ91rxnx",
    "outputId": "0364969a-80bd-43fc-e473-6f28433c1eee"
   },
   "outputs": [
    {
     "data": {
      "text/plain": [
       "array([-3.92447368e+01,  1.31232583e+00,  8.53744361e-02,  7.41849897e-02,\n",
       "        1.50018573e-02, -3.42273652e-01])"
      ]
     },
     "execution_count": 10,
     "metadata": {
      "tags": []
     },
     "output_type": "execute_result"
    }
   ],
   "source": [
    "beta_hat = estimate_beta(X, y)\n",
    "beta_hat"
   ]
  },
  {
   "cell_type": "code",
   "execution_count": null,
   "metadata": {
    "id": "lphN3u90rxnx",
    "outputId": "fae87d8f-d0c4-4648-9dd3-039c11fd9287"
   },
   "outputs": [
    {
     "data": {
      "text/plain": [
       "array([[-3.92447368e+01],\n",
       "       [ 1.31232583e+00],\n",
       "       [ 8.53744361e-02],\n",
       "       [ 7.41849897e-02],\n",
       "       [ 1.50018573e-02],\n",
       "       [-3.42273652e-01]])"
      ]
     },
     "execution_count": 41,
     "metadata": {
      "tags": []
     },
     "output_type": "execute_result"
    }
   ],
   "source": [
    "beta_hat.reshape(-1,1)"
   ]
  },
  {
   "cell_type": "code",
   "execution_count": null,
   "metadata": {
    "id": "mlxynE6urxny",
    "outputId": "175e3204-caec-4325-84f5-3436070b1b03"
   },
   "outputs": [
    {
     "name": "stdout",
     "output_type": "stream",
     "text": [
      "-39.24473678136485\n",
      "[ 1.31232583  0.08537444  0.07418499  0.01500186 -0.34227365]\n"
     ]
    }
   ],
   "source": [
    "print(beta_hat[0]) # intercept\n",
    "print(beta_hat[1:]) # 추정된 회귀계수 (intercept제외)"
   ]
  },
  {
   "cell_type": "markdown",
   "metadata": {
    "id": "T671czzRrxny"
   },
   "source": [
    "sklearn의 LinearRegression과 매우 유사한 값이 도출되었음을 알 수 있다."
   ]
  },
  {
   "cell_type": "markdown",
   "metadata": {
    "id": "lMk58Ec_rxnz"
   },
   "source": [
    "#### 실제 값과 비교"
   ]
  },
  {
   "cell_type": "code",
   "execution_count": null,
   "metadata": {
    "id": "8V1HVbOJrxn0"
   },
   "outputs": [],
   "source": [
    "from sklearn.linear_model import LinearRegression"
   ]
  },
  {
   "cell_type": "code",
   "execution_count": null,
   "metadata": {
    "id": "Hp7WFbBirxn1"
   },
   "outputs": [],
   "source": [
    "model = LinearRegression()\n",
    "model.fit(X, y)\n",
    "\n",
    "pred = model.predict(X)"
   ]
  },
  {
   "cell_type": "code",
   "execution_count": null,
   "metadata": {
    "id": "gdRLtXqsrxn2",
    "outputId": "d1ca7392-8a40-44bf-8e8d-a2cb8fb53a29"
   },
   "outputs": [
    {
     "name": "stdout",
     "output_type": "stream",
     "text": [
      "-39.24473678135658\n",
      "[ 1.31232583  0.08537444  0.07418499  0.01500186 -0.34227365]\n"
     ]
    }
   ],
   "source": [
    "print(model.intercept_) # intercept\n",
    "print(model.coef_) # 추정된 회귀계수 (intercept제외)"
   ]
  },
  {
   "cell_type": "markdown",
   "metadata": {
    "id": "4bgiDKwwrxn2"
   },
   "source": [
    "### 2. MSE\n",
    "\n",
    "## $MSE = \t\\frac{1}{n-(k+1)}\\sum (y - \\hat{y})^2 $\n",
    "\n",
    "$ \\hat{y} = X\\hat{\\beta} $\n",
    "\n",
    "n = 관측치의 수, k = 설명변수 x의 수"
   ]
  },
  {
   "cell_type": "code",
   "execution_count": null,
   "metadata": {
    "id": "bw7bNgZ1rxn3"
   },
   "outputs": [],
   "source": [
    "def MSE(X, y, beta_hat):\n",
    "    # np.ones((len(y), 1)) : 관측치 개수(len(y)) 만큼의 1로 채워진 행렬을 만듬 -> x0\n",
    "    # np.concatenate([np.ones((len(y), 1)), X] : x0과 X를 합쳐서 새로운 (9,6)의 X 행렬을 만듬\n",
    "    designX = np.concatenate([np.ones((len(y), 1)), X], axis=1)\n",
    "    \n",
    "    # designX와 beta_hat을 곱하여 예측값을 구함\n",
    "    y_pred = np.dot(designX, beta_hat)\n",
    "    \n",
    "    # MSE 구현\n",
    "    # 1. (y - y_pred) : 실제 값과 예측 값을 빼 잔차를 구한다.\n",
    "    # 2. (y - y_pred)**2 : 1에서 구한 잔차에 제곱을 구한다.\n",
    "    # 3. np.sum((y - y_pred)**2) : 2에서 구한 잔차 제곱의 합을 구한다.\n",
    "    # 4. np.sum((y - y_pred)**2) / (len(y) - (X.shape[1] + 1)) : 3에서 구한 잔차 제곱의 합을 자유도{관측치의 개수(len(y)) - [설명변수의 수(X.shape[1]) + 1]}로 나눈다\n",
    "    mse = np.sum((y - y_pred)**2) / (len(y) - (X.shape[1] + 1))\n",
    "    \n",
    "    return mse"
   ]
  },
  {
   "cell_type": "code",
   "execution_count": null,
   "metadata": {
    "id": "fwjqXkOfrxn3",
    "outputId": "3e110894-791a-4bcf-c70c-12165066a593"
   },
   "outputs": [
    {
     "data": {
      "text/plain": [
       "4.846793168705752"
      ]
     },
     "execution_count": 49,
     "metadata": {
      "tags": []
     },
     "output_type": "execute_result"
    }
   ],
   "source": [
    "MSE(X, y, estimate_beta(X, y))"
   ]
  },
  {
   "cell_type": "markdown",
   "metadata": {
    "id": "aSQQreUxrxn4"
   },
   "source": [
    "모델로 예측한 값과 직접만든 정규방정식을 이용해 예측한 값의 MSE를 비교했을 때 서로 매우 유사한 값이 나왔음을 알 수 있다."
   ]
  },
  {
   "cell_type": "markdown",
   "metadata": {
    "id": "0Ygk5ARkrxn4"
   },
   "source": [
    "#### 실제 값과 비교"
   ]
  },
  {
   "cell_type": "code",
   "execution_count": null,
   "metadata": {
    "id": "KlPiasSRrxn5",
    "outputId": "2b00f083-32d8-49e4-c4a2-fab7dd79e3f9"
   },
   "outputs": [
    {
     "data": {
      "text/plain": [
       "4.846793168705742"
      ]
     },
     "execution_count": 16,
     "metadata": {
      "tags": []
     },
     "output_type": "execute_result"
    }
   ],
   "source": [
    "np.sum((pred - y)**2) / (len(y) - (X.shape[1]+1))"
   ]
  },
  {
   "cell_type": "markdown",
   "metadata": {
    "id": "K71j1plArxn5"
   },
   "source": [
    "### 3.MLE"
   ]
  },
  {
   "cell_type": "markdown",
   "metadata": {
    "id": "F265vEQirxn5"
   },
   "source": [
    "#### 바구니 안에 파란구슬과 빨간구슬이 들어있을 때, 10개를 추출하여보니 파란구슬이 2개 빨간구슬이 8개가 추출되었습니다. \n",
    "#### 이때 바구니안에는 파란구슬과 빨간구슬이 각각 몇개있는지에 대해서 최대우도추정법을 이용해 논리적으로 설명해주세요. \n",
    "- 수식은 있어도 좋고 말로 풀어쓰셔도 좋습니다\n",
    "- 추출은 복원추출을 전제로 합니다\n",
    "- 글자수 제한은 없습니다. 많이 쓰라는 얘기가 아니라 정말 제한이 없습니다. 너무 부담가지고 쓰지마세요."
   ]
  },
  {
   "cell_type": "markdown",
   "metadata": {
    "id": "h34jfOUarxn5"
   },
   "source": [
    " 바구니 안에 파란 구슬과 빨간 구슬 만이 들어있다고 가정한다면 우리가 10개의 구슬을 추출하였을 때 파란구슬이 2개 빨간구슬이 8개가 추출되었다면 우리는 직관적으로 바구니 안에 파라구슬이 20%, 빨간구슬이 80%가 들어있다고 직관적으로 추정할 수 있다. 그런데 이런 직관적인 추정을 조금 더 논리적으로 설명할 수 있는 방법이 바로 최대우도추정법이다.\n",
    "\n",
    " 우선 바구니 안에 구슬의 비율을 생각해보자. 바구니 안의 파란 구슬의 비율을 p라고 정의한다면 빨간 구슬의 비율은 1-p로 정의할 수 있을 것이다. "
   ]
  },
  {
   "cell_type": "markdown",
   "metadata": {
    "id": "YpS2ub-Hrxn6"
   },
   "source": [
    "![image.png](data:image/png;base64,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)"
   ]
  },
  {
   "cell_type": "markdown",
   "metadata": {
    "id": "36D8R2eprxn6"
   },
   "source": [
    " 그리고 이제 우리가 바구니 안에서 구슬을 뽑는 경우의 수를 생각해보자. 우리가 바구니 안에서 구슬을 10번 추출했을때 파란 구슬과 빨간 구슬이 뽑히는 사건을 생각한다면 항상 구슬이 [B, B, B, B, B, B, B, B, R, R] 순으로 뽑히는 것이 아닌 [R, R, B, B, B, B, B, B, B, B] 순 등 여러 순서로 뽑힐 것이다. 이렇게 가능한 모든 사건의 수는 조합을 통해서 나타낼 수 있으며 그 사건의 총합은 $_{10}\\mathrm{C}_{2}$ 개 이다. 이러한 모든 사건들을 E라고 칭한다면 10번 추출에서 파란 구슬이 2번, 빨간 구슬이 8번 나올 확률은 밑의 식과 같이 표현할 수 있다.\n",
    " "
   ]
  },
  {
   "cell_type": "markdown",
   "metadata": {
    "id": "95JX3FQ-rxn6"
   },
   "source": [
    "![image.png](data:image/png;base64,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)"
   ]
  },
  {
   "cell_type": "markdown",
   "metadata": {
    "id": "0wap3tzFrxn7"
   },
   "source": [
    " 이렇게 관측된 사건들의 확률 $ P(E|p) $ 를 최대화하는 p를 찾는 것이 최대우도추정법이다. 그런데 우리는 왜? 관측된 사건들의 확률을 최대화하는 최대우도추정법을 통해서 바구니 속의 구슬의 수를 추정할 수 있는 것일까? 최대우도추정법은 발생한 사건이 자주 일어난 사건이다라는 발상에 기초한다. \n",
    " \n",
    " 따라서 우리가 관측한 사건(파란 구슬이 2개, 빨간 구슬이 8개가 뽑힌 사건)이 많이 보이는 이유는 우리가 관측한 사건이 발생할 확률이 높기 때문이며 이에 관측한 사건의 확률을 가장 크게 하는 p를 찾는다면 바구니 안에 있는 파란 구슬과 빨간 구슬의 개수를 추정할 수 있다. 따라서 $ \\hat{p} $은 아래와 같은 식으로 나타낼 수 있다."
   ]
  },
  {
   "cell_type": "markdown",
   "metadata": {
    "id": "WlmS3d5trxn7"
   },
   "source": [
    "![image.png](data:image/png;base64,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)"
   ]
  },
  {
   "cell_type": "markdown",
   "metadata": {
    "id": "6KhO3xjSrxn7"
   },
   "source": [
    "우리는 위의 복잡한 식을 log와 미분을 활용한다면 쉽게 구할 수 있다. 우선 위에 식을 p에 대한 식인 $ f(p)$로 정의하고 log를 취해서 곱하기를 플러스로 바꾸어주고 식에 붙어있던 지수를 앞으로 바깥으로 빼주겠다. log를 취하면 밑과 같은 식으로 나타낼 수 있다.  "
   ]
  },
  {
   "cell_type": "markdown",
   "metadata": {
    "id": "c_5J7q2Prxn8"
   },
   "source": [
    "![image.png](data:image/png;base64,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)"
   ]
  },
  {
   "cell_type": "markdown",
   "metadata": {
    "id": "G0PjD8rarxn8"
   },
   "source": [
    " 우리가 찾고자 하는 값은 $f(p)$ 가 최대가 되는 값이다. 최대가 되는 값은 미분을 통해서 구할 수 있다. 미분의 개념을 통해서 알 수 있듯이 도함수가 0이 되는 지점이 곧 기존 함수의 최대가 되는 지점임을 알 수 있다. 따라서 우리는 위에 식을 p에 대하여 미분하면 도함수 $f'(p)$가 0이 되는 값이 곧 $f(p)$가 최대가 된다는 것을 알 수 있다. 위에 식을 p에 대하여 미분하면 다음과 같이 나타낼 수 있다.  "
   ]
  },
  {
   "cell_type": "markdown",
   "metadata": {
    "id": "vXQXVRFJrxn8"
   },
   "source": [
    "![image.png](data:image/png;base64,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)"
   ]
  },
  {
   "cell_type": "markdown",
   "metadata": {
    "id": "Ub1uJzexrxn9"
   },
   "source": [
    "$ \\log_{10}\\mathrm{C}_{2} $는 상수항이기 때문에 미분을 하면 사라지게 되고 나머지 log 값들은 log의 미분 공식에 의해서 분모로 들어가게 된다. 우리가 구하고자 하는 값은 $f'(p)$가 0이 되는 값이기 때문에 아래와 같이 나타낼 수 있다."
   ]
  },
  {
   "cell_type": "markdown",
   "metadata": {
    "id": "hqFFxDxLrxn9"
   },
   "source": [
    "![image.png](data:image/png;base64,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)"
   ]
  },
  {
   "cell_type": "markdown",
   "metadata": {
    "id": "dc-zNVBZrxn9"
   },
   "source": [
    " 위 식을 p에 대하여 정리하면 아래와 같은 값이 나옴을 알 수 있다."
   ]
  },
  {
   "cell_type": "markdown",
   "metadata": {
    "id": "CTCkrqVarxn-"
   },
   "source": [
    "![image.png](data:image/png;base64,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)"
   ]
  },
  {
   "cell_type": "markdown",
   "metadata": {
    "id": "PeGNMtxUrxn-"
   },
   "source": [
    "우리가 기존에 파란 구슬의 비율을 p로 정의하였는데 최대우도추정법을 통하여 p가 $ \\frac{2}{10} $라는 것을 알 수 있다. 따라서 우리는 최대우도추정법을 통하여 바구니 안에 파란 구슬의 비율을 직관이 아닌 논리적인 추론을 통하여 20%가 존재한다는 것을 입증할 수 있으며 빨간 구슬의 비율도 1 - p 인 $ \\frac{8}{10} $ 임도 추정할 수 있다."
   ]
  },
  {
   "cell_type": "markdown",
   "metadata": {
    "id": "JV29UO03rxn-"
   },
   "source": [
    "#### 참고자료\n",
    "- 핸즈온 머신러닝 2판 (박해선)\n",
    "- https://seungtae-jeff.tistory.com/entry/%ED%86%B5%EA%B3%84%ED%95%99-1-%EC%B5%9C%EB%8C%80%EC%9A%B0%EB%8F%84%EC%B6%94%EC%A0%95%EB%B2%95\n",
    "- https://www.youtube.com/watch?v=sOtkPm_1GYw"
   ]
  },
  {
   "cell_type": "markdown",
   "metadata": {
    "id": "4nlm2FSLrxn_"
   },
   "source": [
    "그림 같은 경우 가운데 정렬 후 첨부시 오류가 발생하여 따로 이미지 파일로 저장하여 만들었습니다."
   ]
  }
 ],
 "metadata": {
  "colab": {
   "collapsed_sections": [],
   "name": "week2_assignment1.ipynb",
   "provenance": []
  },
  "kernelspec": {
   "display_name": "Python 3",
   "language": "python",
   "name": "python3"
  },
  "language_info": {
   "codemirror_mode": {
    "name": "ipython",
    "version": 3
   },
   "file_extension": ".py",
   "mimetype": "text/x-python",
   "name": "python",
   "nbconvert_exporter": "python",
   "pygments_lexer": "ipython3",
   "version": "3.8.5"
  }
 },
 "nbformat": 4,
 "nbformat_minor": 1
}
