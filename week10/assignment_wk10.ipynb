{
  "nbformat": 4,
  "nbformat_minor": 0,
  "metadata": {
    "colab": {
      "name": "assignment_wk10.ipynb",
      "provenance": [],
      "collapsed_sections": [],
      "authorship_tag": "ABX9TyPN7c6/wfSXFn7GJUiJO2O0"
    },
    "kernelspec": {
      "name": "python3",
      "display_name": "Python 3"
    },
    "language_info": {
      "name": "python"
    },
    "accelerator": "GPU",
    "widgets": {
      "application/vnd.jupyter.widget-state+json": {
        "09c29b3319694ed39be994bd576074bd": {
          "model_module": "@jupyter-widgets/controls",
          "model_name": "HBoxModel",
          "state": {
            "_view_name": "HBoxView",
            "_dom_classes": [],
            "_model_name": "HBoxModel",
            "_view_module": "@jupyter-widgets/controls",
            "_model_module_version": "1.5.0",
            "_view_count": null,
            "_view_module_version": "1.5.0",
            "box_style": "",
            "layout": "IPY_MODEL_47763a6e30e547dc8cbc950048df0677",
            "_model_module": "@jupyter-widgets/controls",
            "children": [
              "IPY_MODEL_084cc8ccc96e4d1685ab9bf4c8466835",
              "IPY_MODEL_30bf7be352834cee9253da379b238671"
            ]
          }
        },
        "47763a6e30e547dc8cbc950048df0677": {
          "model_module": "@jupyter-widgets/base",
          "model_name": "LayoutModel",
          "state": {
            "_view_name": "LayoutView",
            "grid_template_rows": null,
            "right": null,
            "justify_content": null,
            "_view_module": "@jupyter-widgets/base",
            "overflow": null,
            "_model_module_version": "1.2.0",
            "_view_count": null,
            "flex_flow": null,
            "width": null,
            "min_width": null,
            "border": null,
            "align_items": null,
            "bottom": null,
            "_model_module": "@jupyter-widgets/base",
            "top": null,
            "grid_column": null,
            "overflow_y": null,
            "overflow_x": null,
            "grid_auto_flow": null,
            "grid_area": null,
            "grid_template_columns": null,
            "flex": null,
            "_model_name": "LayoutModel",
            "justify_items": null,
            "grid_row": null,
            "max_height": null,
            "align_content": null,
            "visibility": null,
            "align_self": null,
            "height": null,
            "min_height": null,
            "padding": null,
            "grid_auto_rows": null,
            "grid_gap": null,
            "max_width": null,
            "order": null,
            "_view_module_version": "1.2.0",
            "grid_template_areas": null,
            "object_position": null,
            "object_fit": null,
            "grid_auto_columns": null,
            "margin": null,
            "display": null,
            "left": null
          }
        },
        "084cc8ccc96e4d1685ab9bf4c8466835": {
          "model_module": "@jupyter-widgets/controls",
          "model_name": "FloatProgressModel",
          "state": {
            "_view_name": "ProgressView",
            "style": "IPY_MODEL_c6c394384b1641abbd779e162f17945a",
            "_dom_classes": [],
            "description": "",
            "_model_name": "FloatProgressModel",
            "bar_style": "success",
            "max": 9912422,
            "_view_module": "@jupyter-widgets/controls",
            "_model_module_version": "1.5.0",
            "value": 9912422,
            "_view_count": null,
            "_view_module_version": "1.5.0",
            "orientation": "horizontal",
            "min": 0,
            "description_tooltip": null,
            "_model_module": "@jupyter-widgets/controls",
            "layout": "IPY_MODEL_30e7210c66be4fd9b01e85dfe1bc6ad9"
          }
        },
        "30bf7be352834cee9253da379b238671": {
          "model_module": "@jupyter-widgets/controls",
          "model_name": "HTMLModel",
          "state": {
            "_view_name": "HTMLView",
            "style": "IPY_MODEL_85c1fe49c0f645e594d940104bf4373a",
            "_dom_classes": [],
            "description": "",
            "_model_name": "HTMLModel",
            "placeholder": "​",
            "_view_module": "@jupyter-widgets/controls",
            "_model_module_version": "1.5.0",
            "value": " 9913344/? [00:12&lt;00:00, 778406.08it/s]",
            "_view_count": null,
            "_view_module_version": "1.5.0",
            "description_tooltip": null,
            "_model_module": "@jupyter-widgets/controls",
            "layout": "IPY_MODEL_109406463000459db93cc0cc86d51116"
          }
        },
        "c6c394384b1641abbd779e162f17945a": {
          "model_module": "@jupyter-widgets/controls",
          "model_name": "ProgressStyleModel",
          "state": {
            "_view_name": "StyleView",
            "_model_name": "ProgressStyleModel",
            "description_width": "initial",
            "_view_module": "@jupyter-widgets/base",
            "_model_module_version": "1.5.0",
            "_view_count": null,
            "_view_module_version": "1.2.0",
            "bar_color": null,
            "_model_module": "@jupyter-widgets/controls"
          }
        },
        "30e7210c66be4fd9b01e85dfe1bc6ad9": {
          "model_module": "@jupyter-widgets/base",
          "model_name": "LayoutModel",
          "state": {
            "_view_name": "LayoutView",
            "grid_template_rows": null,
            "right": null,
            "justify_content": null,
            "_view_module": "@jupyter-widgets/base",
            "overflow": null,
            "_model_module_version": "1.2.0",
            "_view_count": null,
            "flex_flow": null,
            "width": null,
            "min_width": null,
            "border": null,
            "align_items": null,
            "bottom": null,
            "_model_module": "@jupyter-widgets/base",
            "top": null,
            "grid_column": null,
            "overflow_y": null,
            "overflow_x": null,
            "grid_auto_flow": null,
            "grid_area": null,
            "grid_template_columns": null,
            "flex": null,
            "_model_name": "LayoutModel",
            "justify_items": null,
            "grid_row": null,
            "max_height": null,
            "align_content": null,
            "visibility": null,
            "align_self": null,
            "height": null,
            "min_height": null,
            "padding": null,
            "grid_auto_rows": null,
            "grid_gap": null,
            "max_width": null,
            "order": null,
            "_view_module_version": "1.2.0",
            "grid_template_areas": null,
            "object_position": null,
            "object_fit": null,
            "grid_auto_columns": null,
            "margin": null,
            "display": null,
            "left": null
          }
        },
        "85c1fe49c0f645e594d940104bf4373a": {
          "model_module": "@jupyter-widgets/controls",
          "model_name": "DescriptionStyleModel",
          "state": {
            "_view_name": "StyleView",
            "_model_name": "DescriptionStyleModel",
            "description_width": "",
            "_view_module": "@jupyter-widgets/base",
            "_model_module_version": "1.5.0",
            "_view_count": null,
            "_view_module_version": "1.2.0",
            "_model_module": "@jupyter-widgets/controls"
          }
        },
        "109406463000459db93cc0cc86d51116": {
          "model_module": "@jupyter-widgets/base",
          "model_name": "LayoutModel",
          "state": {
            "_view_name": "LayoutView",
            "grid_template_rows": null,
            "right": null,
            "justify_content": null,
            "_view_module": "@jupyter-widgets/base",
            "overflow": null,
            "_model_module_version": "1.2.0",
            "_view_count": null,
            "flex_flow": null,
            "width": null,
            "min_width": null,
            "border": null,
            "align_items": null,
            "bottom": null,
            "_model_module": "@jupyter-widgets/base",
            "top": null,
            "grid_column": null,
            "overflow_y": null,
            "overflow_x": null,
            "grid_auto_flow": null,
            "grid_area": null,
            "grid_template_columns": null,
            "flex": null,
            "_model_name": "LayoutModel",
            "justify_items": null,
            "grid_row": null,
            "max_height": null,
            "align_content": null,
            "visibility": null,
            "align_self": null,
            "height": null,
            "min_height": null,
            "padding": null,
            "grid_auto_rows": null,
            "grid_gap": null,
            "max_width": null,
            "order": null,
            "_view_module_version": "1.2.0",
            "grid_template_areas": null,
            "object_position": null,
            "object_fit": null,
            "grid_auto_columns": null,
            "margin": null,
            "display": null,
            "left": null
          }
        },
        "3f77ff40658c407d8870ac0457378c59": {
          "model_module": "@jupyter-widgets/controls",
          "model_name": "HBoxModel",
          "state": {
            "_view_name": "HBoxView",
            "_dom_classes": [],
            "_model_name": "HBoxModel",
            "_view_module": "@jupyter-widgets/controls",
            "_model_module_version": "1.5.0",
            "_view_count": null,
            "_view_module_version": "1.5.0",
            "box_style": "",
            "layout": "IPY_MODEL_40c4dea6f51a43a3ad94e45395bf1f32",
            "_model_module": "@jupyter-widgets/controls",
            "children": [
              "IPY_MODEL_25ed8c7a02a2409db96646e04f277fe1",
              "IPY_MODEL_57f890851fa14b9985ca6d8043bb1610"
            ]
          }
        },
        "40c4dea6f51a43a3ad94e45395bf1f32": {
          "model_module": "@jupyter-widgets/base",
          "model_name": "LayoutModel",
          "state": {
            "_view_name": "LayoutView",
            "grid_template_rows": null,
            "right": null,
            "justify_content": null,
            "_view_module": "@jupyter-widgets/base",
            "overflow": null,
            "_model_module_version": "1.2.0",
            "_view_count": null,
            "flex_flow": null,
            "width": null,
            "min_width": null,
            "border": null,
            "align_items": null,
            "bottom": null,
            "_model_module": "@jupyter-widgets/base",
            "top": null,
            "grid_column": null,
            "overflow_y": null,
            "overflow_x": null,
            "grid_auto_flow": null,
            "grid_area": null,
            "grid_template_columns": null,
            "flex": null,
            "_model_name": "LayoutModel",
            "justify_items": null,
            "grid_row": null,
            "max_height": null,
            "align_content": null,
            "visibility": null,
            "align_self": null,
            "height": null,
            "min_height": null,
            "padding": null,
            "grid_auto_rows": null,
            "grid_gap": null,
            "max_width": null,
            "order": null,
            "_view_module_version": "1.2.0",
            "grid_template_areas": null,
            "object_position": null,
            "object_fit": null,
            "grid_auto_columns": null,
            "margin": null,
            "display": null,
            "left": null
          }
        },
        "25ed8c7a02a2409db96646e04f277fe1": {
          "model_module": "@jupyter-widgets/controls",
          "model_name": "FloatProgressModel",
          "state": {
            "_view_name": "ProgressView",
            "style": "IPY_MODEL_d119675e30714bf79c10a138a44ab530",
            "_dom_classes": [],
            "description": "",
            "_model_name": "FloatProgressModel",
            "bar_style": "success",
            "max": 28881,
            "_view_module": "@jupyter-widgets/controls",
            "_model_module_version": "1.5.0",
            "value": 28881,
            "_view_count": null,
            "_view_module_version": "1.5.0",
            "orientation": "horizontal",
            "min": 0,
            "description_tooltip": null,
            "_model_module": "@jupyter-widgets/controls",
            "layout": "IPY_MODEL_8b37e53bd30d4325a8db82c7fa321a97"
          }
        },
        "57f890851fa14b9985ca6d8043bb1610": {
          "model_module": "@jupyter-widgets/controls",
          "model_name": "HTMLModel",
          "state": {
            "_view_name": "HTMLView",
            "style": "IPY_MODEL_8250a48b0eaa4253aa151644b37b09a1",
            "_dom_classes": [],
            "description": "",
            "_model_name": "HTMLModel",
            "placeholder": "​",
            "_view_module": "@jupyter-widgets/controls",
            "_model_module_version": "1.5.0",
            "value": " 29696/? [00:00&lt;00:00, 37891.59it/s]",
            "_view_count": null,
            "_view_module_version": "1.5.0",
            "description_tooltip": null,
            "_model_module": "@jupyter-widgets/controls",
            "layout": "IPY_MODEL_2c5d540f6b1c4d8aa715daf1cbd32c54"
          }
        },
        "d119675e30714bf79c10a138a44ab530": {
          "model_module": "@jupyter-widgets/controls",
          "model_name": "ProgressStyleModel",
          "state": {
            "_view_name": "StyleView",
            "_model_name": "ProgressStyleModel",
            "description_width": "initial",
            "_view_module": "@jupyter-widgets/base",
            "_model_module_version": "1.5.0",
            "_view_count": null,
            "_view_module_version": "1.2.0",
            "bar_color": null,
            "_model_module": "@jupyter-widgets/controls"
          }
        },
        "8b37e53bd30d4325a8db82c7fa321a97": {
          "model_module": "@jupyter-widgets/base",
          "model_name": "LayoutModel",
          "state": {
            "_view_name": "LayoutView",
            "grid_template_rows": null,
            "right": null,
            "justify_content": null,
            "_view_module": "@jupyter-widgets/base",
            "overflow": null,
            "_model_module_version": "1.2.0",
            "_view_count": null,
            "flex_flow": null,
            "width": null,
            "min_width": null,
            "border": null,
            "align_items": null,
            "bottom": null,
            "_model_module": "@jupyter-widgets/base",
            "top": null,
            "grid_column": null,
            "overflow_y": null,
            "overflow_x": null,
            "grid_auto_flow": null,
            "grid_area": null,
            "grid_template_columns": null,
            "flex": null,
            "_model_name": "LayoutModel",
            "justify_items": null,
            "grid_row": null,
            "max_height": null,
            "align_content": null,
            "visibility": null,
            "align_self": null,
            "height": null,
            "min_height": null,
            "padding": null,
            "grid_auto_rows": null,
            "grid_gap": null,
            "max_width": null,
            "order": null,
            "_view_module_version": "1.2.0",
            "grid_template_areas": null,
            "object_position": null,
            "object_fit": null,
            "grid_auto_columns": null,
            "margin": null,
            "display": null,
            "left": null
          }
        },
        "8250a48b0eaa4253aa151644b37b09a1": {
          "model_module": "@jupyter-widgets/controls",
          "model_name": "DescriptionStyleModel",
          "state": {
            "_view_name": "StyleView",
            "_model_name": "DescriptionStyleModel",
            "description_width": "",
            "_view_module": "@jupyter-widgets/base",
            "_model_module_version": "1.5.0",
            "_view_count": null,
            "_view_module_version": "1.2.0",
            "_model_module": "@jupyter-widgets/controls"
          }
        },
        "2c5d540f6b1c4d8aa715daf1cbd32c54": {
          "model_module": "@jupyter-widgets/base",
          "model_name": "LayoutModel",
          "state": {
            "_view_name": "LayoutView",
            "grid_template_rows": null,
            "right": null,
            "justify_content": null,
            "_view_module": "@jupyter-widgets/base",
            "overflow": null,
            "_model_module_version": "1.2.0",
            "_view_count": null,
            "flex_flow": null,
            "width": null,
            "min_width": null,
            "border": null,
            "align_items": null,
            "bottom": null,
            "_model_module": "@jupyter-widgets/base",
            "top": null,
            "grid_column": null,
            "overflow_y": null,
            "overflow_x": null,
            "grid_auto_flow": null,
            "grid_area": null,
            "grid_template_columns": null,
            "flex": null,
            "_model_name": "LayoutModel",
            "justify_items": null,
            "grid_row": null,
            "max_height": null,
            "align_content": null,
            "visibility": null,
            "align_self": null,
            "height": null,
            "min_height": null,
            "padding": null,
            "grid_auto_rows": null,
            "grid_gap": null,
            "max_width": null,
            "order": null,
            "_view_module_version": "1.2.0",
            "grid_template_areas": null,
            "object_position": null,
            "object_fit": null,
            "grid_auto_columns": null,
            "margin": null,
            "display": null,
            "left": null
          }
        },
        "2dd954340005438696ebdd451f2da13a": {
          "model_module": "@jupyter-widgets/controls",
          "model_name": "HBoxModel",
          "state": {
            "_view_name": "HBoxView",
            "_dom_classes": [],
            "_model_name": "HBoxModel",
            "_view_module": "@jupyter-widgets/controls",
            "_model_module_version": "1.5.0",
            "_view_count": null,
            "_view_module_version": "1.5.0",
            "box_style": "",
            "layout": "IPY_MODEL_5606c14fe9a642af859ca772ac582eac",
            "_model_module": "@jupyter-widgets/controls",
            "children": [
              "IPY_MODEL_3b332a11bb334be7a517c9d2f642fe38",
              "IPY_MODEL_29c8b856d61c46d4bee711e9c95b7218"
            ]
          }
        },
        "5606c14fe9a642af859ca772ac582eac": {
          "model_module": "@jupyter-widgets/base",
          "model_name": "LayoutModel",
          "state": {
            "_view_name": "LayoutView",
            "grid_template_rows": null,
            "right": null,
            "justify_content": null,
            "_view_module": "@jupyter-widgets/base",
            "overflow": null,
            "_model_module_version": "1.2.0",
            "_view_count": null,
            "flex_flow": null,
            "width": null,
            "min_width": null,
            "border": null,
            "align_items": null,
            "bottom": null,
            "_model_module": "@jupyter-widgets/base",
            "top": null,
            "grid_column": null,
            "overflow_y": null,
            "overflow_x": null,
            "grid_auto_flow": null,
            "grid_area": null,
            "grid_template_columns": null,
            "flex": null,
            "_model_name": "LayoutModel",
            "justify_items": null,
            "grid_row": null,
            "max_height": null,
            "align_content": null,
            "visibility": null,
            "align_self": null,
            "height": null,
            "min_height": null,
            "padding": null,
            "grid_auto_rows": null,
            "grid_gap": null,
            "max_width": null,
            "order": null,
            "_view_module_version": "1.2.0",
            "grid_template_areas": null,
            "object_position": null,
            "object_fit": null,
            "grid_auto_columns": null,
            "margin": null,
            "display": null,
            "left": null
          }
        },
        "3b332a11bb334be7a517c9d2f642fe38": {
          "model_module": "@jupyter-widgets/controls",
          "model_name": "FloatProgressModel",
          "state": {
            "_view_name": "ProgressView",
            "style": "IPY_MODEL_6cdfd0a1e0c44d7a9637c3ab9ca5e1fe",
            "_dom_classes": [],
            "description": "",
            "_model_name": "FloatProgressModel",
            "bar_style": "success",
            "max": 1648877,
            "_view_module": "@jupyter-widgets/controls",
            "_model_module_version": "1.5.0",
            "value": 1648877,
            "_view_count": null,
            "_view_module_version": "1.5.0",
            "orientation": "horizontal",
            "min": 0,
            "description_tooltip": null,
            "_model_module": "@jupyter-widgets/controls",
            "layout": "IPY_MODEL_e0b2b5f7927d4057ab0655ce3e47c78b"
          }
        },
        "29c8b856d61c46d4bee711e9c95b7218": {
          "model_module": "@jupyter-widgets/controls",
          "model_name": "HTMLModel",
          "state": {
            "_view_name": "HTMLView",
            "style": "IPY_MODEL_781a866337564d33a49fde448f4725de",
            "_dom_classes": [],
            "description": "",
            "_model_name": "HTMLModel",
            "placeholder": "​",
            "_view_module": "@jupyter-widgets/controls",
            "_model_module_version": "1.5.0",
            "value": " 1649664/? [00:00&lt;00:00, 2835634.61it/s]",
            "_view_count": null,
            "_view_module_version": "1.5.0",
            "description_tooltip": null,
            "_model_module": "@jupyter-widgets/controls",
            "layout": "IPY_MODEL_d7ee134894af41a89ad5b18e657c4631"
          }
        },
        "6cdfd0a1e0c44d7a9637c3ab9ca5e1fe": {
          "model_module": "@jupyter-widgets/controls",
          "model_name": "ProgressStyleModel",
          "state": {
            "_view_name": "StyleView",
            "_model_name": "ProgressStyleModel",
            "description_width": "initial",
            "_view_module": "@jupyter-widgets/base",
            "_model_module_version": "1.5.0",
            "_view_count": null,
            "_view_module_version": "1.2.0",
            "bar_color": null,
            "_model_module": "@jupyter-widgets/controls"
          }
        },
        "e0b2b5f7927d4057ab0655ce3e47c78b": {
          "model_module": "@jupyter-widgets/base",
          "model_name": "LayoutModel",
          "state": {
            "_view_name": "LayoutView",
            "grid_template_rows": null,
            "right": null,
            "justify_content": null,
            "_view_module": "@jupyter-widgets/base",
            "overflow": null,
            "_model_module_version": "1.2.0",
            "_view_count": null,
            "flex_flow": null,
            "width": null,
            "min_width": null,
            "border": null,
            "align_items": null,
            "bottom": null,
            "_model_module": "@jupyter-widgets/base",
            "top": null,
            "grid_column": null,
            "overflow_y": null,
            "overflow_x": null,
            "grid_auto_flow": null,
            "grid_area": null,
            "grid_template_columns": null,
            "flex": null,
            "_model_name": "LayoutModel",
            "justify_items": null,
            "grid_row": null,
            "max_height": null,
            "align_content": null,
            "visibility": null,
            "align_self": null,
            "height": null,
            "min_height": null,
            "padding": null,
            "grid_auto_rows": null,
            "grid_gap": null,
            "max_width": null,
            "order": null,
            "_view_module_version": "1.2.0",
            "grid_template_areas": null,
            "object_position": null,
            "object_fit": null,
            "grid_auto_columns": null,
            "margin": null,
            "display": null,
            "left": null
          }
        },
        "781a866337564d33a49fde448f4725de": {
          "model_module": "@jupyter-widgets/controls",
          "model_name": "DescriptionStyleModel",
          "state": {
            "_view_name": "StyleView",
            "_model_name": "DescriptionStyleModel",
            "description_width": "",
            "_view_module": "@jupyter-widgets/base",
            "_model_module_version": "1.5.0",
            "_view_count": null,
            "_view_module_version": "1.2.0",
            "_model_module": "@jupyter-widgets/controls"
          }
        },
        "d7ee134894af41a89ad5b18e657c4631": {
          "model_module": "@jupyter-widgets/base",
          "model_name": "LayoutModel",
          "state": {
            "_view_name": "LayoutView",
            "grid_template_rows": null,
            "right": null,
            "justify_content": null,
            "_view_module": "@jupyter-widgets/base",
            "overflow": null,
            "_model_module_version": "1.2.0",
            "_view_count": null,
            "flex_flow": null,
            "width": null,
            "min_width": null,
            "border": null,
            "align_items": null,
            "bottom": null,
            "_model_module": "@jupyter-widgets/base",
            "top": null,
            "grid_column": null,
            "overflow_y": null,
            "overflow_x": null,
            "grid_auto_flow": null,
            "grid_area": null,
            "grid_template_columns": null,
            "flex": null,
            "_model_name": "LayoutModel",
            "justify_items": null,
            "grid_row": null,
            "max_height": null,
            "align_content": null,
            "visibility": null,
            "align_self": null,
            "height": null,
            "min_height": null,
            "padding": null,
            "grid_auto_rows": null,
            "grid_gap": null,
            "max_width": null,
            "order": null,
            "_view_module_version": "1.2.0",
            "grid_template_areas": null,
            "object_position": null,
            "object_fit": null,
            "grid_auto_columns": null,
            "margin": null,
            "display": null,
            "left": null
          }
        },
        "d1495f06a1004757b2d9ee7d0833c5b6": {
          "model_module": "@jupyter-widgets/controls",
          "model_name": "HBoxModel",
          "state": {
            "_view_name": "HBoxView",
            "_dom_classes": [],
            "_model_name": "HBoxModel",
            "_view_module": "@jupyter-widgets/controls",
            "_model_module_version": "1.5.0",
            "_view_count": null,
            "_view_module_version": "1.5.0",
            "box_style": "",
            "layout": "IPY_MODEL_af816ef6be3d441f858f95f8aa4f0037",
            "_model_module": "@jupyter-widgets/controls",
            "children": [
              "IPY_MODEL_60fc427909194823a066bcb9b43cd6ac",
              "IPY_MODEL_28012d5cf8b84db0906f4c0e117b0e82"
            ]
          }
        },
        "af816ef6be3d441f858f95f8aa4f0037": {
          "model_module": "@jupyter-widgets/base",
          "model_name": "LayoutModel",
          "state": {
            "_view_name": "LayoutView",
            "grid_template_rows": null,
            "right": null,
            "justify_content": null,
            "_view_module": "@jupyter-widgets/base",
            "overflow": null,
            "_model_module_version": "1.2.0",
            "_view_count": null,
            "flex_flow": null,
            "width": null,
            "min_width": null,
            "border": null,
            "align_items": null,
            "bottom": null,
            "_model_module": "@jupyter-widgets/base",
            "top": null,
            "grid_column": null,
            "overflow_y": null,
            "overflow_x": null,
            "grid_auto_flow": null,
            "grid_area": null,
            "grid_template_columns": null,
            "flex": null,
            "_model_name": "LayoutModel",
            "justify_items": null,
            "grid_row": null,
            "max_height": null,
            "align_content": null,
            "visibility": null,
            "align_self": null,
            "height": null,
            "min_height": null,
            "padding": null,
            "grid_auto_rows": null,
            "grid_gap": null,
            "max_width": null,
            "order": null,
            "_view_module_version": "1.2.0",
            "grid_template_areas": null,
            "object_position": null,
            "object_fit": null,
            "grid_auto_columns": null,
            "margin": null,
            "display": null,
            "left": null
          }
        },
        "60fc427909194823a066bcb9b43cd6ac": {
          "model_module": "@jupyter-widgets/controls",
          "model_name": "FloatProgressModel",
          "state": {
            "_view_name": "ProgressView",
            "style": "IPY_MODEL_a2b8ebb3b8d54f92a1699db371f1f0c8",
            "_dom_classes": [],
            "description": "",
            "_model_name": "FloatProgressModel",
            "bar_style": "success",
            "max": 4542,
            "_view_module": "@jupyter-widgets/controls",
            "_model_module_version": "1.5.0",
            "value": 4542,
            "_view_count": null,
            "_view_module_version": "1.5.0",
            "orientation": "horizontal",
            "min": 0,
            "description_tooltip": null,
            "_model_module": "@jupyter-widgets/controls",
            "layout": "IPY_MODEL_c88a6bbe29bd4ac0ac7548377c4216da"
          }
        },
        "28012d5cf8b84db0906f4c0e117b0e82": {
          "model_module": "@jupyter-widgets/controls",
          "model_name": "HTMLModel",
          "state": {
            "_view_name": "HTMLView",
            "style": "IPY_MODEL_a8d56c97c5c74caeb7e72916df84594c",
            "_dom_classes": [],
            "description": "",
            "_model_name": "HTMLModel",
            "placeholder": "​",
            "_view_module": "@jupyter-widgets/controls",
            "_model_module_version": "1.5.0",
            "value": " 5120/? [00:00&lt;00:00, 19574.11it/s]",
            "_view_count": null,
            "_view_module_version": "1.5.0",
            "description_tooltip": null,
            "_model_module": "@jupyter-widgets/controls",
            "layout": "IPY_MODEL_d87ab6075b1a4caeba4d4dfe9d9b45d7"
          }
        },
        "a2b8ebb3b8d54f92a1699db371f1f0c8": {
          "model_module": "@jupyter-widgets/controls",
          "model_name": "ProgressStyleModel",
          "state": {
            "_view_name": "StyleView",
            "_model_name": "ProgressStyleModel",
            "description_width": "initial",
            "_view_module": "@jupyter-widgets/base",
            "_model_module_version": "1.5.0",
            "_view_count": null,
            "_view_module_version": "1.2.0",
            "bar_color": null,
            "_model_module": "@jupyter-widgets/controls"
          }
        },
        "c88a6bbe29bd4ac0ac7548377c4216da": {
          "model_module": "@jupyter-widgets/base",
          "model_name": "LayoutModel",
          "state": {
            "_view_name": "LayoutView",
            "grid_template_rows": null,
            "right": null,
            "justify_content": null,
            "_view_module": "@jupyter-widgets/base",
            "overflow": null,
            "_model_module_version": "1.2.0",
            "_view_count": null,
            "flex_flow": null,
            "width": null,
            "min_width": null,
            "border": null,
            "align_items": null,
            "bottom": null,
            "_model_module": "@jupyter-widgets/base",
            "top": null,
            "grid_column": null,
            "overflow_y": null,
            "overflow_x": null,
            "grid_auto_flow": null,
            "grid_area": null,
            "grid_template_columns": null,
            "flex": null,
            "_model_name": "LayoutModel",
            "justify_items": null,
            "grid_row": null,
            "max_height": null,
            "align_content": null,
            "visibility": null,
            "align_self": null,
            "height": null,
            "min_height": null,
            "padding": null,
            "grid_auto_rows": null,
            "grid_gap": null,
            "max_width": null,
            "order": null,
            "_view_module_version": "1.2.0",
            "grid_template_areas": null,
            "object_position": null,
            "object_fit": null,
            "grid_auto_columns": null,
            "margin": null,
            "display": null,
            "left": null
          }
        },
        "a8d56c97c5c74caeb7e72916df84594c": {
          "model_module": "@jupyter-widgets/controls",
          "model_name": "DescriptionStyleModel",
          "state": {
            "_view_name": "StyleView",
            "_model_name": "DescriptionStyleModel",
            "description_width": "",
            "_view_module": "@jupyter-widgets/base",
            "_model_module_version": "1.5.0",
            "_view_count": null,
            "_view_module_version": "1.2.0",
            "_model_module": "@jupyter-widgets/controls"
          }
        },
        "d87ab6075b1a4caeba4d4dfe9d9b45d7": {
          "model_module": "@jupyter-widgets/base",
          "model_name": "LayoutModel",
          "state": {
            "_view_name": "LayoutView",
            "grid_template_rows": null,
            "right": null,
            "justify_content": null,
            "_view_module": "@jupyter-widgets/base",
            "overflow": null,
            "_model_module_version": "1.2.0",
            "_view_count": null,
            "flex_flow": null,
            "width": null,
            "min_width": null,
            "border": null,
            "align_items": null,
            "bottom": null,
            "_model_module": "@jupyter-widgets/base",
            "top": null,
            "grid_column": null,
            "overflow_y": null,
            "overflow_x": null,
            "grid_auto_flow": null,
            "grid_area": null,
            "grid_template_columns": null,
            "flex": null,
            "_model_name": "LayoutModel",
            "justify_items": null,
            "grid_row": null,
            "max_height": null,
            "align_content": null,
            "visibility": null,
            "align_self": null,
            "height": null,
            "min_height": null,
            "padding": null,
            "grid_auto_rows": null,
            "grid_gap": null,
            "max_width": null,
            "order": null,
            "_view_module_version": "1.2.0",
            "grid_template_areas": null,
            "object_position": null,
            "object_fit": null,
            "grid_auto_columns": null,
            "margin": null,
            "display": null,
            "left": null
          }
        }
      }
    }
  },
  "cells": [
    {
      "cell_type": "markdown",
      "metadata": {
        "id": "lqHSUXBAp2DQ"
      },
      "source": [
        "# 투빅스 15기 정규세션 10주차 DCGAN 구현 과제  - Tobigs 15기 이성범\n",
        "\"빈칸\" 부분을 채우는 과제입니다. \"빈칸\"뿐만 아니라 중간중간 주석 또는 마크다운으로 설명 부탁드립니다  \n",
        "https://github.com/pytorch/tutorials/blob/master/beginner_source/dcgan_faces_tutorial.py  \n",
        "위의 주소는 pytorch dcgan 공식 튜토리얼 코드로 해당 코드를 바탕으로 과제를 만들었습니다. 튜토리얼 코드와 과제 코드가 상당부분 유사하므로 어려운 점이 있을 때 참고하면 좋을 것 같습니다  \n",
        "다만, 그대로 복붙이 아닌 코드를 이해해 나가면서 과제를 수행해주시기 바랍니다  \n",
        "마지막 과제인 만큼 다들 화이팅!"
      ]
    },
    {
      "cell_type": "markdown",
      "metadata": {
        "id": "zW6ONB7fqANg"
      },
      "source": [
        "## 드라이브 연결"
      ]
    },
    {
      "cell_type": "code",
      "metadata": {
        "id": "8sl5iSXfj9Et"
      },
      "source": [
        "# gdrive에 mount\n",
        "from google.colab import drive\n",
        "drive.mount('/content/gdrive')\n",
        "# 경로 설정\n",
        "import os\n",
        "os.chdir('/content/gdrive/My Drive/')"
      ],
      "execution_count": 1,
      "outputs": []
    },
    {
      "cell_type": "markdown",
      "metadata": {
        "id": "XlrC-8uBqFbK"
      },
      "source": [
        "## 패키지 임포트"
      ]
    },
    {
      "cell_type": "code",
      "metadata": {
        "id": "1jXGcTmgk4sf"
      },
      "source": [
        "%matplotlib inline\n",
        "from matplotlib import pyplot as plt\n",
        "import random\n",
        "import torch\n",
        "import torch.nn as nn\n",
        "import torch.optim as optim\n",
        "import torch.utils.data\n",
        "import torchvision.datasets as dset\n",
        "import torchvision.transforms as transforms"
      ],
      "execution_count": 2,
      "outputs": []
    },
    {
      "cell_type": "markdown",
      "metadata": {
        "id": "mS080UbJqKMQ"
      },
      "source": [
        "## MNIST 데이터 불러오기\n",
        "기존의 MNIST 손글씨 데이터의 경우 1x28x28 이미지 -> dcgan 모델 적용을 위해 1x64x64 이미지로 크기 조절 (물론 28x28이미지도 사용가능하지만 네트워크 구조 수정 필요)  \n",
        "처음 데이터를 사용할때는 download=True로 데이터를 다운 받기  \n",
        "이후에 사용할때는 데이터가 이미 다운되있으므로 download=False로 바꿔서 사용"
      ]
    },
    {
      "cell_type": "code",
      "metadata": {
        "id": "4kg3Cy9kk55K",
        "colab": {
          "base_uri": "https://localhost:8080/",
          "height": 885,
          "referenced_widgets": [
            "09c29b3319694ed39be994bd576074bd",
            "47763a6e30e547dc8cbc950048df0677",
            "084cc8ccc96e4d1685ab9bf4c8466835",
            "30bf7be352834cee9253da379b238671",
            "c6c394384b1641abbd779e162f17945a",
            "30e7210c66be4fd9b01e85dfe1bc6ad9",
            "85c1fe49c0f645e594d940104bf4373a",
            "109406463000459db93cc0cc86d51116",
            "3f77ff40658c407d8870ac0457378c59",
            "40c4dea6f51a43a3ad94e45395bf1f32",
            "25ed8c7a02a2409db96646e04f277fe1",
            "57f890851fa14b9985ca6d8043bb1610",
            "d119675e30714bf79c10a138a44ab530",
            "8b37e53bd30d4325a8db82c7fa321a97",
            "8250a48b0eaa4253aa151644b37b09a1",
            "2c5d540f6b1c4d8aa715daf1cbd32c54",
            "2dd954340005438696ebdd451f2da13a",
            "5606c14fe9a642af859ca772ac582eac",
            "3b332a11bb334be7a517c9d2f642fe38",
            "29c8b856d61c46d4bee711e9c95b7218",
            "6cdfd0a1e0c44d7a9637c3ab9ca5e1fe",
            "e0b2b5f7927d4057ab0655ce3e47c78b",
            "781a866337564d33a49fde448f4725de",
            "d7ee134894af41a89ad5b18e657c4631",
            "d1495f06a1004757b2d9ee7d0833c5b6",
            "af816ef6be3d441f858f95f8aa4f0037",
            "60fc427909194823a066bcb9b43cd6ac",
            "28012d5cf8b84db0906f4c0e117b0e82",
            "a2b8ebb3b8d54f92a1699db371f1f0c8",
            "c88a6bbe29bd4ac0ac7548377c4216da",
            "a8d56c97c5c74caeb7e72916df84594c",
            "d87ab6075b1a4caeba4d4dfe9d9b45d7"
          ]
        },
        "outputId": "4acec6df-9317-486c-fc5e-8ae5dc030f9a"
      },
      "source": [
        "# MNIST dataset\n",
        "dataroot = './mnist_data/'\n",
        "imageSize = 64 # the height / width of the input image to network\n",
        "\n",
        "dataset = dset.MNIST(root = dataroot, download= True,\n",
        "                     transform = transforms.Compose([\n",
        "                                                     transforms.Resize(imageSize), #이미지 64x64로 크기 변환\n",
        "                                                     transforms.ToTensor(), #텐서자료형으로 변환\n",
        "                                                     transforms.Normalize((0.5,), (0.5,)), #노말라이즈를 통해 -1.~1.의 값을 갖게 변환\n",
        "                     ]))"
      ],
      "execution_count": 3,
      "outputs": [
        {
          "output_type": "stream",
          "text": [
            "Downloading http://yann.lecun.com/exdb/mnist/train-images-idx3-ubyte.gz\n",
            "Failed to download (trying next):\n",
            "HTTP Error 503: Service Unavailable\n",
            "\n",
            "Downloading https://ossci-datasets.s3.amazonaws.com/mnist/train-images-idx3-ubyte.gz\n",
            "Downloading https://ossci-datasets.s3.amazonaws.com/mnist/train-images-idx3-ubyte.gz to ./mnist_data/MNIST/raw/train-images-idx3-ubyte.gz\n"
          ],
          "name": "stdout"
        },
        {
          "output_type": "display_data",
          "data": {
            "application/vnd.jupyter.widget-view+json": {
              "model_id": "09c29b3319694ed39be994bd576074bd",
              "version_minor": 0,
              "version_major": 2
            },
            "text/plain": [
              "HBox(children=(FloatProgress(value=0.0, max=9912422.0), HTML(value='')))"
            ]
          },
          "metadata": {
            "tags": []
          }
        },
        {
          "output_type": "stream",
          "text": [
            "\n",
            "Extracting ./mnist_data/MNIST/raw/train-images-idx3-ubyte.gz to ./mnist_data/MNIST/raw\n",
            "\n",
            "Downloading http://yann.lecun.com/exdb/mnist/train-labels-idx1-ubyte.gz\n",
            "Failed to download (trying next):\n",
            "HTTP Error 503: Service Unavailable\n",
            "\n",
            "Downloading https://ossci-datasets.s3.amazonaws.com/mnist/train-labels-idx1-ubyte.gz\n",
            "Downloading https://ossci-datasets.s3.amazonaws.com/mnist/train-labels-idx1-ubyte.gz to ./mnist_data/MNIST/raw/train-labels-idx1-ubyte.gz\n"
          ],
          "name": "stdout"
        },
        {
          "output_type": "display_data",
          "data": {
            "application/vnd.jupyter.widget-view+json": {
              "model_id": "3f77ff40658c407d8870ac0457378c59",
              "version_minor": 0,
              "version_major": 2
            },
            "text/plain": [
              "HBox(children=(FloatProgress(value=0.0, max=28881.0), HTML(value='')))"
            ]
          },
          "metadata": {
            "tags": []
          }
        },
        {
          "output_type": "stream",
          "text": [
            "\n",
            "Extracting ./mnist_data/MNIST/raw/train-labels-idx1-ubyte.gz to ./mnist_data/MNIST/raw\n",
            "\n",
            "Downloading http://yann.lecun.com/exdb/mnist/t10k-images-idx3-ubyte.gz\n",
            "Failed to download (trying next):\n",
            "HTTP Error 503: Service Unavailable\n",
            "\n",
            "Downloading https://ossci-datasets.s3.amazonaws.com/mnist/t10k-images-idx3-ubyte.gz\n",
            "Downloading https://ossci-datasets.s3.amazonaws.com/mnist/t10k-images-idx3-ubyte.gz to ./mnist_data/MNIST/raw/t10k-images-idx3-ubyte.gz\n"
          ],
          "name": "stdout"
        },
        {
          "output_type": "display_data",
          "data": {
            "application/vnd.jupyter.widget-view+json": {
              "model_id": "2dd954340005438696ebdd451f2da13a",
              "version_minor": 0,
              "version_major": 2
            },
            "text/plain": [
              "HBox(children=(FloatProgress(value=0.0, max=1648877.0), HTML(value='')))"
            ]
          },
          "metadata": {
            "tags": []
          }
        },
        {
          "output_type": "stream",
          "text": [
            "\n",
            "Extracting ./mnist_data/MNIST/raw/t10k-images-idx3-ubyte.gz to ./mnist_data/MNIST/raw\n",
            "\n",
            "Downloading http://yann.lecun.com/exdb/mnist/t10k-labels-idx1-ubyte.gz\n",
            "Failed to download (trying next):\n",
            "HTTP Error 503: Service Unavailable\n",
            "\n",
            "Downloading https://ossci-datasets.s3.amazonaws.com/mnist/t10k-labels-idx1-ubyte.gz\n",
            "Downloading https://ossci-datasets.s3.amazonaws.com/mnist/t10k-labels-idx1-ubyte.gz to ./mnist_data/MNIST/raw/t10k-labels-idx1-ubyte.gz\n"
          ],
          "name": "stdout"
        },
        {
          "output_type": "display_data",
          "data": {
            "application/vnd.jupyter.widget-view+json": {
              "model_id": "d1495f06a1004757b2d9ee7d0833c5b6",
              "version_minor": 0,
              "version_major": 2
            },
            "text/plain": [
              "HBox(children=(FloatProgress(value=0.0, max=4542.0), HTML(value='')))"
            ]
          },
          "metadata": {
            "tags": []
          }
        },
        {
          "output_type": "stream",
          "text": [
            "\n",
            "Extracting ./mnist_data/MNIST/raw/t10k-labels-idx1-ubyte.gz to ./mnist_data/MNIST/raw\n",
            "\n",
            "Processing...\n",
            "Done!\n"
          ],
          "name": "stdout"
        },
        {
          "output_type": "stream",
          "text": [
            "/usr/local/lib/python3.7/dist-packages/torchvision/datasets/mnist.py:502: UserWarning: The given NumPy array is not writeable, and PyTorch does not support non-writeable tensors. This means you can write to the underlying (supposedly non-writeable) NumPy array using the tensor. You may want to copy the array to protect its data or make it writeable before converting it to a tensor. This type of warning will be suppressed for the rest of this program. (Triggered internally at  /pytorch/torch/csrc/utils/tensor_numpy.cpp:143.)\n",
            "  return torch.from_numpy(parsed.astype(m[2], copy=False)).view(*s)\n"
          ],
          "name": "stderr"
        }
      ]
    },
    {
      "cell_type": "markdown",
      "metadata": {
        "id": "cBqDKK5Qp1En"
      },
      "source": [
        "### 데이터 확인하기"
      ]
    },
    {
      "cell_type": "code",
      "metadata": {
        "id": "JZoKpxaKoIh8",
        "colab": {
          "base_uri": "https://localhost:8080/"
        },
        "outputId": "91988f7d-48ac-49c0-c720-8c2fc49de8ab"
      },
      "source": [
        "print('number of training data: ', len(dataset)) #데이터 수 확인\n",
        "image,_ = dataset[0]\n",
        "\n",
        "print('Image')\n",
        "print('========================================')\n",
        "print('shape of this image\\t:', image.shape) #데이터 차원(모양)확인하기"
      ],
      "execution_count": 4,
      "outputs": [
        {
          "output_type": "stream",
          "text": [
            "number of training data:  60000\n",
            "Image\n",
            "========================================\n",
            "shape of this image\t: torch.Size([1, 64, 64])\n"
          ],
          "name": "stdout"
        }
      ]
    },
    {
      "cell_type": "code",
      "metadata": {
        "id": "AvL1QHLgoJLs",
        "colab": {
          "base_uri": "https://localhost:8080/",
          "height": 211
        },
        "outputId": "d80324d3-f8d0-4db6-9195-c9c384793f0d"
      },
      "source": [
        "# 학습 데이터 시각화\n",
        "fig = plt.figure()\n",
        "\n",
        "for i in range(10):\n",
        "    image,_ = dataset[i]\n",
        "    image = (image+1)/2\n",
        "    image = image.squeeze()\n",
        "    np_img = image.numpy()\n",
        "    \n",
        "    subplot = fig.add_subplot(2, 5, i+1)\n",
        "    subplot.set_xticks([])\n",
        "    subplot.set_yticks([])\n",
        "    subplot.imshow(np_img, cmap = 'gray')\n",
        "\n",
        "plt.show()"
      ],
      "execution_count": 5,
      "outputs": [
        {
          "output_type": "display_data",
          "data": {
            "image/png": "[encoded data removed]",
            "text/plain": [
              "<Figure size 432x288 with 10 Axes>"
            ]
          },
          "metadata": {
            "tags": []
          }
        }
      ]
    },
    {
      "cell_type": "markdown",
      "metadata": {
        "id": "GV1hsEW7r7lH"
      },
      "source": [
        "### 데이터 로더 정의"
      ]
    },
    {
      "cell_type": "code",
      "metadata": {
        "id": "dk1AQgq3r60l"
      },
      "source": [
        "# dataloader\n",
        "batch_size = 128 # 본 논문에서 batch_size를 128로 설정함\n",
        "workers = 2\n",
        "\n",
        "dataloader = torch.utils.data.DataLoader(dataset, batch_size=batch_size,\n",
        "                                         shuffle = True, num_workers = workers)"
      ],
      "execution_count": 6,
      "outputs": []
    },
    {
      "cell_type": "markdown",
      "metadata": {
        "id": "50srPc9CsrUW"
      },
      "source": [
        "## device 정의"
      ]
    },
    {
      "cell_type": "code",
      "metadata": {
        "id": "_1bDrz7ZsvOq",
        "colab": {
          "base_uri": "https://localhost:8080/"
        },
        "outputId": "37c160a7-a491-43a8-da27-b8b7dad8c074"
      },
      "source": [
        "# device\n",
        "device = torch.device(\"cuda\" if torch.cuda.is_available() else \"cpu\")\n",
        "print(device)"
      ],
      "execution_count": 7,
      "outputs": [
        {
          "output_type": "stream",
          "text": [
            "cuda\n"
          ],
          "name": "stdout"
        }
      ]
    },
    {
      "cell_type": "markdown",
      "metadata": {
        "id": "FF2wxeW7s8hf"
      },
      "source": [
        "## 신경망 "
      ]
    },
    {
      "cell_type": "code",
      "metadata": {
        "id": "VMoPm64ltmiq"
      },
      "source": [
        "# 네트워크 하이퍼파라미터 설정\n",
        "nc = 1 # number of channels in the training images\n",
        "nz = 100 # size of z latent vector\n",
        "ngf = 64 # size of feature maps in generator\n",
        "ndf = 64 # size of feature maps in discriminator"
      ],
      "execution_count": 8,
      "outputs": []
    },
    {
      "cell_type": "markdown",
      "metadata": {
        "id": "CY2ffq8WtDkb"
      },
      "source": [
        "### 신경망 가중치 초기화 함수 정의\n",
        "신경망의 가중치 초기화 방법에 대해 논문에 자세히 나와있습니다.  \n",
        "다음 사이트는 파이토치에서 가중치 초기화에 관련된 글 입니다  \n",
        "https://www.javaer101.com/ko/article/1010427.html"
      ]
    },
    {
      "cell_type": "code",
      "metadata": {
        "id": "PuRj6bngtBpr"
      },
      "source": [
        "'''\n",
        "논문과 동일하게 가중치를 zero-centered 정규 분포로 표준 편차 0.02로 초기화\n",
        "'''\n",
        "\n",
        "def weights_init(m):\n",
        "    classname = m.__class__.__name__\n",
        "    if classname.find('Conv') != -1:\n",
        "        nn.init.normal_(m.weight.data, 0.0, 0.02)\n",
        "    elif classname.find('BatchNorm') != -1:\n",
        "        nn.init.normal_(m.weight.data, 1.0, 0.02)\n",
        "        nn.init.constant_(m.bias.data, 0)"
      ],
      "execution_count": 9,
      "outputs": []
    },
    {
      "cell_type": "markdown",
      "metadata": {
        "id": "KIzdwP6Otb4Q"
      },
      "source": [
        "### 생성자 클래스\n",
        "\n",
        "trasposed convolution 관련 자료: https://yonghyuc.wordpress.com/2019/08/08/transposed-convolutions-aka-deconvolution/"
      ]
    },
    {
      "cell_type": "code",
      "metadata": {
        "id": "uWkHRbFvtbFg"
      },
      "source": [
        "class Generator(nn.Module):\n",
        "    def __init__(self):\n",
        "\n",
        "        '''\n",
        "        기존 Conv2d라는 Convolutional layer가 이미지의 정보를 함축시킨다고 한다면\n",
        "        ConvTranspose2d는 Convolutional layer가 하는 일의 반대의 일을 한다고 할 수 있다.\n",
        "        함축되었던 이마지에 대한 정보를 기존의 이미지 형태로 만들어내는 일을 한다.\n",
        "\n",
        "        nc = 1 # number of channels in the training images\n",
        "        nz = 100 # size of z latent vector\n",
        "        ngf = 64 # size of feature maps in generator\n",
        "        ndf = 64 # size of feature maps in discriminator\n",
        "\n",
        "        Generator는 새로운 이미지를 생성하는 일을 한다.\n",
        "\n",
        "        Discriminator와 반대의 방식으로 layer를 쌓음\n",
        "\n",
        "        ConvTranspose2d -> BatchNorm2d -> ReLU\n",
        "        마지막 layer에 대해서만 BatchNorm2d을 사용하지 않고 Tanh을 사용\n",
        "        channel의 경우 1/2씩 줄여나감\n",
        "        '''\n",
        "\n",
        "        super(Generator, self).__init__()\n",
        "        self.main = nn.Sequential(\n",
        "            # input = 100 x 1 x 1\n",
        "            # in_channels = 100, out_channels = 64 * 8\n",
        "            nn.ConvTranspose2d(in_channels = nz, out_channels = ngf * 8, kernel_size = 4, stride = 1, padding = 0, bias=False),\n",
        "            nn.BatchNorm2d(ngf * 8),\n",
        "            nn.ReLU(True),\n",
        "\n",
        "            # state size. (ngf*8) x 4 x 4\n",
        "            # in_channels = 64 * 8, out_channels = 64 * 4\n",
        "            nn.ConvTranspose2d(in_channels = ngf * 8, out_channels = ngf * 4, kernel_size = 4, stride = 2, padding = 1, bias=False),\n",
        "            nn.BatchNorm2d(ngf * 4),\n",
        "            nn.ReLU(True),\n",
        "\n",
        "            # state size. (ngf*4) x 8 x 8\n",
        "            # in_channels = 64 * 4, out_channels = 64 * 2\n",
        "            nn.ConvTranspose2d(in_channels = ngf * 4, out_channels = ngf * 2, kernel_size = 4, stride = 2, padding = 1, bias=False),\n",
        "            nn.BatchNorm2d(ngf * 2),\n",
        "            nn.ReLU(True),\n",
        "\n",
        "            # state size. (ngf*2) x 16 x 16\n",
        "            # in_channels = 64 * 2, out_channels = 64\n",
        "            nn.ConvTranspose2d(in_channels = ngf * 2, out_channels = ngf, kernel_size = 4, stride = 2, padding = 1, bias=False),\n",
        "            nn.BatchNorm2d(ngf),\n",
        "            nn.ReLU(True),\n",
        "\n",
        "            # state size. (ngf) x 32 x 32\n",
        "            # in_channels = 64, out_channels = 1\n",
        "            nn.ConvTranspose2d(in_channels = ngf, out_channels = nc, kernel_size = 4, stride = 2, padding = 1, bias=False),\n",
        "            nn.Tanh()\n",
        "            \n",
        "            # output = 1 x 64 x 64\n",
        "        )\n",
        "\n",
        "    def forward(self, input):\n",
        "        return self.main(input)"
      ],
      "execution_count": 10,
      "outputs": []
    },
    {
      "cell_type": "code",
      "metadata": {
        "id": "8MFp5nD_uOFn",
        "colab": {
          "base_uri": "https://localhost:8080/"
        },
        "outputId": "88e92caf-361d-4987-8862-e8ed011ac3ac"
      },
      "source": [
        "netG = Generator().to(device) # 생성자 객체 생성\n",
        "netG.apply(weights_init) # 위의 정의한 함수로 가중치 초기화\n",
        "\n",
        "# 생성자 출력\n",
        "print(netG)"
      ],
      "execution_count": 11,
      "outputs": [
        {
          "output_type": "stream",
          "text": [
            "Generator(\n",
            "  (main): Sequential(\n",
            "    (0): ConvTranspose2d(100, 512, kernel_size=(4, 4), stride=(1, 1), bias=False)\n",
            "    (1): BatchNorm2d(512, eps=1e-05, momentum=0.1, affine=True, track_running_stats=True)\n",
            "    (2): ReLU(inplace=True)\n",
            "    (3): ConvTranspose2d(512, 256, kernel_size=(4, 4), stride=(2, 2), padding=(1, 1), bias=False)\n",
            "    (4): BatchNorm2d(256, eps=1e-05, momentum=0.1, affine=True, track_running_stats=True)\n",
            "    (5): ReLU(inplace=True)\n",
            "    (6): ConvTranspose2d(256, 128, kernel_size=(4, 4), stride=(2, 2), padding=(1, 1), bias=False)\n",
            "    (7): BatchNorm2d(128, eps=1e-05, momentum=0.1, affine=True, track_running_stats=True)\n",
            "    (8): ReLU(inplace=True)\n",
            "    (9): ConvTranspose2d(128, 64, kernel_size=(4, 4), stride=(2, 2), padding=(1, 1), bias=False)\n",
            "    (10): BatchNorm2d(64, eps=1e-05, momentum=0.1, affine=True, track_running_stats=True)\n",
            "    (11): ReLU(inplace=True)\n",
            "    (12): ConvTranspose2d(64, 1, kernel_size=(4, 4), stride=(2, 2), padding=(1, 1), bias=False)\n",
            "    (13): Tanh()\n",
            "  )\n",
            ")\n"
          ],
          "name": "stdout"
        }
      ]
    },
    {
      "cell_type": "markdown",
      "metadata": {
        "id": "YKnrGeQJu5IC"
      },
      "source": [
        "### 판별자 클래스"
      ]
    },
    {
      "cell_type": "code",
      "metadata": {
        "id": "gPOn7rHEu4Zw"
      },
      "source": [
        "class Discriminator(nn.Module):\n",
        "    def __init__(self):\n",
        "\n",
        "        '''\n",
        "        nc = 1 # number of channels in the training images\n",
        "        nz = 100 # size of z latent vector\n",
        "        ngf = 64 # size of feature maps in generator\n",
        "        ndf = 64 # size of feature maps in discriminator\n",
        "\n",
        "        Discriminator는 들어온 이미지를 가짜인지 진짜인지 판별하는 일을 한다.\n",
        "\n",
        "        Generator와 반대의 방식으로 layer를 쌓음\n",
        "\n",
        "        Conv2d -> BatchNorm2d -> LeakyReLU\n",
        "        마지막 layer의 경우 BCE를 사용하기 위해서 Sigmoid를 사용\n",
        "        channel의 경우 2배씩 늘여나감\n",
        "        '''\n",
        "\n",
        "        super(Discriminator, self).__init__()\n",
        "        self.main = nn.Sequential(\n",
        "            # input = 1 x 64 x 64\n",
        "            # in_channels = 1, out_channels = 64\n",
        "            nn.Conv2d(in_channels = nc, out_channels = ndf, kernel_size = 4, stride = 2, padding = 1, bias=False),\n",
        "            nn.LeakyReLU(0.2, inplace=True),\n",
        "\n",
        "            # state size. (ndf) x 32 x 32\n",
        "            # in_channels = 64, out_channels = 64 * 2\n",
        "            nn.Conv2d(in_channels = ndf, out_channels = ndf * 2, kernel_size = 4, stride = 2, padding = 1, bias=False),\n",
        "            nn.BatchNorm2d(ndf * 2),\n",
        "            nn.LeakyReLU(0.2, inplace=True),\n",
        "\n",
        "            # state size. (ndf*2) x 16 x 16\n",
        "            # in_channels = 64 * 2, out_channels = 64 * 4\n",
        "            nn.Conv2d(in_channels = ndf * 2, out_channels = ndf * 4, kernel_size = 4, stride = 2, padding = 1, bias=False),\n",
        "            nn.BatchNorm2d(ndf * 4),\n",
        "            nn.LeakyReLU(0.2, inplace=True),\n",
        "\n",
        "            # state size. (ndf*4) x 8 x 8\n",
        "            # in_channels = 64 * 4, out_channels = 64 * 8\n",
        "            nn.Conv2d(in_channels = ndf * 4, out_channels = ndf * 8, kernel_size = 4, stride = 2, padding = 1, bias=False),\n",
        "            nn.BatchNorm2d(ndf * 8),\n",
        "            nn.LeakyReLU(0.2, inplace=True),\n",
        "\n",
        "            # state size. (ndf*8) x 4 x 4\n",
        "            # in_channels = 64 * 8, out_channels = 1\n",
        "            nn.Conv2d(in_channels = ndf * 8, out_channels = 1, kernel_size = 4, stride = 1, padding = 0, bias=False),\n",
        "            nn.Sigmoid()\n",
        "\n",
        "            # output = 1 x 1 x 1\n",
        "        )\n",
        "\n",
        "    def forward(self, input):\n",
        "        return self.main(input)"
      ],
      "execution_count": 12,
      "outputs": []
    },
    {
      "cell_type": "code",
      "metadata": {
        "id": "bNznWbGevHnk",
        "colab": {
          "base_uri": "https://localhost:8080/"
        },
        "outputId": "2fdae9bb-ff0f-479d-9b15-705d78512451"
      },
      "source": [
        "netD = Discriminator().to(device) # 판별자 객체 생성\n",
        "netD.apply(weights_init) # 위의 정의한 함수로 가중치 초기화\n",
        "\n",
        "# 판별자 출력\n",
        "print(netD)"
      ],
      "execution_count": 13,
      "outputs": [
        {
          "output_type": "stream",
          "text": [
            "Discriminator(\n",
            "  (main): Sequential(\n",
            "    (0): Conv2d(1, 64, kernel_size=(4, 4), stride=(2, 2), padding=(1, 1), bias=False)\n",
            "    (1): LeakyReLU(negative_slope=0.2, inplace=True)\n",
            "    (2): Conv2d(64, 128, kernel_size=(4, 4), stride=(2, 2), padding=(1, 1), bias=False)\n",
            "    (3): BatchNorm2d(128, eps=1e-05, momentum=0.1, affine=True, track_running_stats=True)\n",
            "    (4): LeakyReLU(negative_slope=0.2, inplace=True)\n",
            "    (5): Conv2d(128, 256, kernel_size=(4, 4), stride=(2, 2), padding=(1, 1), bias=False)\n",
            "    (6): BatchNorm2d(256, eps=1e-05, momentum=0.1, affine=True, track_running_stats=True)\n",
            "    (7): LeakyReLU(negative_slope=0.2, inplace=True)\n",
            "    (8): Conv2d(256, 512, kernel_size=(4, 4), stride=(2, 2), padding=(1, 1), bias=False)\n",
            "    (9): BatchNorm2d(512, eps=1e-05, momentum=0.1, affine=True, track_running_stats=True)\n",
            "    (10): LeakyReLU(negative_slope=0.2, inplace=True)\n",
            "    (11): Conv2d(512, 1, kernel_size=(4, 4), stride=(1, 1), bias=False)\n",
            "    (12): Sigmoid()\n",
            "  )\n",
            ")\n"
          ],
          "name": "stdout"
        }
      ]
    },
    {
      "cell_type": "markdown",
      "metadata": {
        "id": "pO6E3WcLvaca"
      },
      "source": [
        "## Loss Function & Optimizer"
      ]
    },
    {
      "cell_type": "code",
      "metadata": {
        "id": "q3zo8MjNvT9r"
      },
      "source": [
        "# 손실함수\n",
        "criterion = nn.BCELoss()\n",
        "\n",
        "real_label = 1.\n",
        "fake_label = 0.\n",
        "\n",
        "# optimizer hyperparameters\n",
        "learning_rate = 0.0002 # lr의 경우 본 논문에서 0.001은 너무 커 학습이 불안정하여 0.0002로 설정하였다함\n",
        "beta1 = 0.5 # 본 논문에서 beta1을 0.9로 두었을 때 학습이 불안정하여 0.5로 설정하였다함\n",
        "\n",
        "# optimizers\n",
        "optimizerD = optim.Adam(netD.parameters(), lr=learning_rate, betas=(beta1, 0.999)) # 판별자의 optimizer\n",
        "optimizerG = optim.Adam(netG.parameters(), lr=learning_rate, betas=(beta1, 0.999)) # 생성자의 optimizer"
      ],
      "execution_count": 14,
      "outputs": []
    },
    {
      "cell_type": "markdown",
      "metadata": {
        "id": "EzI4vYfzxF_k"
      },
      "source": [
        "## Train\n",
        "\"빈칸\"을 채우고, 각각의 변수 및 메소드가 무엇을 나태는지 혹은 어떻게 계산되는지를 주석으로 설명 부탁드립니다.  \n",
        "참고하면 좋은 사이트: https://redstarhong.tistory.com/64"
      ]
    },
    {
      "cell_type": "code",
      "metadata": {
        "id": "zommtabuxHkC",
        "colab": {
          "base_uri": "https://localhost:8080/"
        },
        "outputId": "748c23fa-210b-426a-9364-576455ed3baf"
      },
      "source": [
        "num_epochs = 5\n",
        "\n",
        "for epoch in range(num_epochs):\n",
        "    \n",
        "    for i, data in enumerate(dataloader, 0):\n",
        "\n",
        "        # Discriminator 학습\n",
        "        # MNIST 이미지로 학습 (진짜)\n",
        "        netD.zero_grad() # 기울기 초기화\n",
        "        real_cpu = data[0].to(device) # 진짜 이미지 데이터 -> [128, 1, 64, 64]\n",
        "        b_size = real_cpu.size(0) # batch_size\n",
        "        label = torch.full((b_size,), real_label, dtype=torch.float, device=device) # batch_size만큼 들어온 데이터에 대하여 진짜 이미지라는 뜻의 라벨 부착 -> Discriminator가 진짜 이미지를 진짜로 판단하고자\n",
        "        output = netD(real_cpu).view(-1) # 진짜 이미지에 대한 확률 값 출력\n",
        "        errD_real = criterion(output, label) # 진짜 이미지에 대한 output과 1 label(진짜 이미지를 의미)에 대한 손실함수 출력\n",
        "        errD_real.backward() # 역전파\n",
        "        D_x = output.mean().item() # 진짜 이미지에 대한 output의 평균 확률 값\n",
        "\n",
        "        # Generator가 생성한 이미지로 학습 (가짜)\n",
        "        noise = torch.randn(b_size, nz, 1, 1, device=device) # [128, 100, 1, 1] 크기를 가지는 noise 생성\n",
        "        fake = netG(noise) # noise를 바탕으로 가짜 이미지 생성\n",
        "        label.fill_(fake_label) # batch_size만큼 들어온 데이터에 대하여 가짜 이미지라는 뜻의 라벨 부착 -> Discriminator가 가짜 이미지를 가짜로 판단하고자\n",
        "        output = netD(fake.detach()).view(-1) # 가짜 이미지에 대한 확률 값 출력\n",
        "        errD_fake = criterion(output, label) # 가짜 이미지에 대한 output과 0 label(가짜 이미지를 의미)에 대한 손실함수 출력\n",
        "        errD_fake.backward() # 역전파\n",
        "        D_G_z1 = output.mean().item() # 가짜 이미지에 대한 output의 평균 확률 값\n",
        "\n",
        "        errD = errD_real + errD_fake # 진짜, 가짜 이미지를 통해 구한 손실함수를 합침 -> 0에 가까울 수록 Discriminator가 판단을 잘함\n",
        "        optimizerD.step() # 구한 손실함수를 바탕으로 Discriminator 최적화 진행\n",
        "\n",
        "        # Generator 학습\n",
        "        # Generator가 생성한 이미지로 학습 (가짜)\n",
        "        netG.zero_grad() # 기울기 초기화\n",
        "        label.fill_(real_label) # batch_size만큼 들어온 데이터에 대하여 진짜 이미지라는 뜻의 라벨 부착 -> Discriminator가 가짜 이미지를 진짜로 판단시키기 위해\n",
        "        output = netD(fake).view(-1) # 가짜 이미지에 대한 확률 값 출력\n",
        "        errG = criterion(output, label) # 가짜 이미지에 대한 output과 1 label(진짜 이미지를 의미)에 대한 손실함수 출력\n",
        "        errG.backward() # 역전파\n",
        "        D_G_z2 = output.mean().item() # 가짜 이미지에 대한 output의 평균 확률 값 -> 0에 가까울 수록 Discriminator가 판단을 못함\n",
        "\n",
        "        optimizerG.step() # 구한 손실함수를 바탕으로 Generator 최적화 진행\n",
        "\n",
        "        # 학습 경과 출력\n",
        "        if i % 50 == 0:\n",
        "            print(f'[{epoch + 1}/{num_epochs}][{i}/{len(dataloader)}]\\tLoss_D: {errD.item():.4f}\\tLoss_G: {errG.item():.4f}\\tD(x): {D_x:.4f}\\tD(G(z)): {D_G_z1:.4f} / {D_G_z2:.4f}')"
      ],
      "execution_count": 15,
      "outputs": [
        {
          "output_type": "stream",
          "text": [
            "[1/5][0/469]\tLoss_D: 1.8449\tLoss_G: 3.4829\tD(x): 0.4138\tD(G(z)): 0.4562 / 0.0466\n",
            "[1/5][50/469]\tLoss_D: 0.0615\tLoss_G: 4.7867\tD(x): 0.9761\tD(G(z)): 0.0144 / 0.0138\n",
            "[1/5][100/469]\tLoss_D: 13.0762\tLoss_G: 22.6982\tD(x): 0.0000\tD(G(z)): 0.0000 / 0.0000\n",
            "[1/5][150/469]\tLoss_D: 0.1219\tLoss_G: 4.4450\tD(x): 0.9370\tD(G(z)): 0.0461 / 0.0141\n",
            "[1/5][200/469]\tLoss_D: 0.1829\tLoss_G: 2.4433\tD(x): 0.8614\tD(G(z)): 0.0174 / 0.1088\n",
            "[1/5][250/469]\tLoss_D: 0.2001\tLoss_G: 3.0360\tD(x): 0.8746\tD(G(z)): 0.0358 / 0.0761\n",
            "[1/5][300/469]\tLoss_D: 0.1695\tLoss_G: 3.2643\tD(x): 0.9254\tD(G(z)): 0.0770 / 0.0588\n",
            "[1/5][350/469]\tLoss_D: 0.3250\tLoss_G: 0.9034\tD(x): 0.7604\tD(G(z)): 0.0085 / 0.4686\n",
            "[1/5][400/469]\tLoss_D: 0.1636\tLoss_G: 3.7828\tD(x): 0.9802\tD(G(z)): 0.1259 / 0.0334\n",
            "[1/5][450/469]\tLoss_D: 0.2133\tLoss_G: 3.3266\tD(x): 0.9257\tD(G(z)): 0.1179 / 0.0539\n",
            "[2/5][0/469]\tLoss_D: 0.1373\tLoss_G: 3.2938\tD(x): 0.9275\tD(G(z)): 0.0554 / 0.0506\n",
            "[2/5][50/469]\tLoss_D: 0.5460\tLoss_G: 3.2624\tD(x): 0.9304\tD(G(z)): 0.3390 / 0.0531\n",
            "[2/5][100/469]\tLoss_D: 0.3439\tLoss_G: 2.3211\tD(x): 0.8148\tD(G(z)): 0.1040 / 0.1327\n",
            "[2/5][150/469]\tLoss_D: 0.3215\tLoss_G: 2.2792\tD(x): 0.8494\tD(G(z)): 0.1295 / 0.1280\n",
            "[2/5][200/469]\tLoss_D: 0.7352\tLoss_G: 2.0460\tD(x): 0.7641\tD(G(z)): 0.3350 / 0.1547\n",
            "[2/5][250/469]\tLoss_D: 0.4186\tLoss_G: 1.6600\tD(x): 0.7903\tD(G(z)): 0.1421 / 0.2340\n",
            "[2/5][300/469]\tLoss_D: 1.6853\tLoss_G: 0.3163\tD(x): 0.2411\tD(G(z)): 0.0161 / 0.7528\n",
            "[2/5][350/469]\tLoss_D: 0.2673\tLoss_G: 2.5259\tD(x): 0.8466\tD(G(z)): 0.0813 / 0.1014\n",
            "[2/5][400/469]\tLoss_D: 0.5609\tLoss_G: 2.0135\tD(x): 0.7804\tD(G(z)): 0.2364 / 0.1630\n",
            "[2/5][450/469]\tLoss_D: 0.2889\tLoss_G: 2.2591\tD(x): 0.8573\tD(G(z)): 0.1159 / 0.1315\n",
            "[3/5][0/469]\tLoss_D: 0.2796\tLoss_G: 1.9228\tD(x): 0.8290\tD(G(z)): 0.0655 / 0.1785\n",
            "[3/5][50/469]\tLoss_D: 0.5110\tLoss_G: 1.4361\tD(x): 0.7082\tD(G(z)): 0.1062 / 0.2812\n",
            "[3/5][100/469]\tLoss_D: 0.5378\tLoss_G: 1.7330\tD(x): 0.6358\tD(G(z)): 0.0285 / 0.2198\n",
            "[3/5][150/469]\tLoss_D: 0.2890\tLoss_G: 2.1226\tD(x): 0.8455\tD(G(z)): 0.0974 / 0.1475\n",
            "[3/5][200/469]\tLoss_D: 0.8476\tLoss_G: 4.3252\tD(x): 0.9558\tD(G(z)): 0.4968 / 0.0219\n",
            "[3/5][250/469]\tLoss_D: 0.1653\tLoss_G: 3.0008\tD(x): 0.8921\tD(G(z)): 0.0418 / 0.0701\n",
            "[3/5][300/469]\tLoss_D: 0.1995\tLoss_G: 2.5504\tD(x): 0.9084\tD(G(z)): 0.0912 / 0.1035\n",
            "[3/5][350/469]\tLoss_D: 0.6000\tLoss_G: 3.0054\tD(x): 0.9302\tD(G(z)): 0.3492 / 0.0679\n",
            "[3/5][400/469]\tLoss_D: 0.5237\tLoss_G: 2.6237\tD(x): 0.8292\tD(G(z)): 0.2552 / 0.0888\n",
            "[3/5][450/469]\tLoss_D: 0.2721\tLoss_G: 4.1208\tD(x): 0.8974\tD(G(z)): 0.1335 / 0.0257\n",
            "[4/5][0/469]\tLoss_D: 0.1586\tLoss_G: 3.0363\tD(x): 0.9244\tD(G(z)): 0.0708 / 0.0620\n",
            "[4/5][50/469]\tLoss_D: 0.4449\tLoss_G: 2.7629\tD(x): 0.7194\tD(G(z)): 0.0631 / 0.0888\n",
            "[4/5][100/469]\tLoss_D: 1.9507\tLoss_G: 3.5116\tD(x): 0.8689\tD(G(z)): 0.7355 / 0.0417\n",
            "[4/5][150/469]\tLoss_D: 0.2647\tLoss_G: 3.2839\tD(x): 0.9227\tD(G(z)): 0.1556 / 0.0481\n",
            "[4/5][200/469]\tLoss_D: 0.6312\tLoss_G: 4.0897\tD(x): 0.9147\tD(G(z)): 0.3619 / 0.0238\n",
            "[4/5][250/469]\tLoss_D: 0.6023\tLoss_G: 5.7000\tD(x): 0.9812\tD(G(z)): 0.4038 / 0.0054\n",
            "[4/5][300/469]\tLoss_D: 0.4586\tLoss_G: 2.3082\tD(x): 0.7697\tD(G(z)): 0.1541 / 0.1324\n",
            "[4/5][350/469]\tLoss_D: 0.2359\tLoss_G: 1.9570\tD(x): 0.8203\tD(G(z)): 0.0187 / 0.1804\n",
            "[4/5][400/469]\tLoss_D: 0.1097\tLoss_G: 3.3912\tD(x): 0.9372\tD(G(z)): 0.0413 / 0.0446\n",
            "[4/5][450/469]\tLoss_D: 0.3884\tLoss_G: 2.6598\tD(x): 0.8266\tD(G(z)): 0.1572 / 0.0935\n",
            "[5/5][0/469]\tLoss_D: 0.3055\tLoss_G: 4.4010\tD(x): 0.9396\tD(G(z)): 0.1984 / 0.0169\n",
            "[5/5][50/469]\tLoss_D: 0.2925\tLoss_G: 4.0957\tD(x): 0.8874\tD(G(z)): 0.1425 / 0.0252\n",
            "[5/5][100/469]\tLoss_D: 0.5991\tLoss_G: 3.1086\tD(x): 0.9161\tD(G(z)): 0.3736 / 0.0580\n",
            "[5/5][150/469]\tLoss_D: 0.1393\tLoss_G: 3.1959\tD(x): 0.9387\tD(G(z)): 0.0692 / 0.0566\n",
            "[5/5][200/469]\tLoss_D: 0.8978\tLoss_G: 2.8599\tD(x): 0.7946\tD(G(z)): 0.4382 / 0.0756\n",
            "[5/5][250/469]\tLoss_D: 0.3630\tLoss_G: 5.2284\tD(x): 0.9611\tD(G(z)): 0.2512 / 0.0078\n",
            "[5/5][300/469]\tLoss_D: 0.7219\tLoss_G: 1.3898\tD(x): 0.5686\tD(G(z)): 0.0535 / 0.3075\n",
            "[5/5][350/469]\tLoss_D: 0.1651\tLoss_G: 2.9826\tD(x): 0.9749\tD(G(z)): 0.1212 / 0.0701\n",
            "[5/5][400/469]\tLoss_D: 0.5495\tLoss_G: 2.1793\tD(x): 0.8692\tD(G(z)): 0.3055 / 0.1424\n",
            "[5/5][450/469]\tLoss_D: 0.7356\tLoss_G: 3.5335\tD(x): 0.8595\tD(G(z)): 0.3836 / 0.0410\n"
          ],
          "name": "stdout"
        }
      ]
    }
  ]
}